{
 "cells": [
  {
   "cell_type": "code",
   "execution_count": null,
   "id": "dbdd8f1b-9950-4c79-9ca2-1e8482d5e604",
   "metadata": {},
   "outputs": [],
   "source": [
    "#RANGE"
   ]
  },
  {
   "cell_type": "code",
   "execution_count": 1,
   "id": "9423738d-0b72-465d-a134-303250878a30",
   "metadata": {},
   "outputs": [
    {
     "data": {
      "text/plain": [
       "range(0, 5)"
      ]
     },
     "execution_count": 1,
     "metadata": {},
     "output_type": "execute_result"
    }
   ],
   "source": [
    "range(5) ##passing only one argument\n"
   ]
  },
  {
   "cell_type": "code",
   "execution_count": 2,
   "id": "7bd83465-840c-4b55-a952-111aea4ba004",
   "metadata": {},
   "outputs": [
    {
     "data": {
      "text/plain": [
       "[0, 1, 2, 3, 4]"
      ]
     },
     "execution_count": 2,
     "metadata": {},
     "output_type": "execute_result"
    }
   ],
   "source": [
    "list(range(5))"
   ]
  },
  {
   "cell_type": "code",
   "execution_count": 8,
   "id": "320b07d4-5e59-49be-b67e-387bfae1a99d",
   "metadata": {},
   "outputs": [
    {
     "data": {
      "text/plain": [
       "range(0, 10)"
      ]
     },
     "execution_count": 8,
     "metadata": {},
     "output_type": "execute_result"
    }
   ],
   "source": [
    "r=range(10)\n",
    "r"
   ]
  },
  {
   "cell_type": "code",
   "execution_count": 11,
   "id": "2615d8eb-8463-48d9-acd4-021f3b572e18",
   "metadata": {},
   "outputs": [
    {
     "name": "stdout",
     "output_type": "stream",
     "text": [
      "0\n",
      "1\n",
      "2\n",
      "3\n",
      "4\n",
      "5\n",
      "6\n",
      "7\n",
      "8\n",
      "9\n"
     ]
    }
   ],
   "source": [
    "for i in r:\n",
    "    print(i)"
   ]
  },
  {
   "cell_type": "code",
   "execution_count": 10,
   "id": "7d10649a-97f0-4937-93de-60ed5cc75265",
   "metadata": {},
   "outputs": [
    {
     "data": {
      "text/plain": [
       "range(10, 40)"
      ]
     },
     "execution_count": 10,
     "metadata": {},
     "output_type": "execute_result"
    }
   ],
   "source": [
    "range(10,40)"
   ]
  },
  {
   "cell_type": "code",
   "execution_count": 15,
   "id": "586d9653-cba5-49ad-9852-481719448598",
   "metadata": {},
   "outputs": [
    {
     "data": {
      "text/plain": [
       "range(10, 40, 5)"
      ]
     },
     "execution_count": 15,
     "metadata": {},
     "output_type": "execute_result"
    }
   ],
   "source": [
    "range(10,40,5)"
   ]
  },
  {
   "cell_type": "code",
   "execution_count": 17,
   "id": "40b7b01b-a345-40dc-9346-5e7774a5655e",
   "metadata": {},
   "outputs": [
    {
     "ename": "TypeError",
     "evalue": "range expected at most 3 arguments, got 4",
     "output_type": "error",
     "traceback": [
      "\u001b[1;31m---------------------------------------------------------------------------\u001b[0m",
      "\u001b[1;31mTypeError\u001b[0m                                 Traceback (most recent call last)",
      "Cell \u001b[1;32mIn[17], line 1\u001b[0m\n\u001b[1;32m----> 1\u001b[0m \u001b[38;5;28mrange\u001b[39m(\u001b[38;5;241m10\u001b[39m,\u001b[38;5;241m40\u001b[39m,\u001b[38;5;241m1\u001b[39m,\u001b[38;5;241m5\u001b[39m)\n",
      "\u001b[1;31mTypeError\u001b[0m: range expected at most 3 arguments, got 4"
     ]
    }
   ],
   "source": [
    "range(10,40,1,5)    #more the 3 arguments not allowed"
   ]
  },
  {
   "cell_type": "code",
   "execution_count": 20,
   "id": "15ecdb53-c1fb-4ff4-b7bc-c9f72171c30d",
   "metadata": {},
   "outputs": [
    {
     "data": {
      "text/plain": [
       "range(0, 10)"
      ]
     },
     "execution_count": 20,
     "metadata": {},
     "output_type": "execute_result"
    }
   ],
   "source": [
    "r"
   ]
  },
  {
   "cell_type": "code",
   "execution_count": null,
   "id": "eaf3a05e-ff4a-42d5-b075-247ad9608186",
   "metadata": {},
   "outputs": [],
   "source": [
    "#####  NUMPY   #####"
   ]
  },
  {
   "cell_type": "code",
   "execution_count": 21,
   "id": "ee71b95d-64e6-4851-bdb2-5888afc78a0d",
   "metadata": {},
   "outputs": [],
   "source": [
    "import numpy as np  #np mandatary use any 'pchar'"
   ]
  },
  {
   "cell_type": "code",
   "execution_count": 22,
   "id": "429e2c4d-90bb-4098-ad36-9c6a4b764712",
   "metadata": {},
   "outputs": [
    {
     "data": {
      "text/plain": [
       "'1.26.4'"
      ]
     },
     "execution_count": 22,
     "metadata": {},
     "output_type": "execute_result"
    }
   ],
   "source": [
    "np.__version__"
   ]
  },
  {
   "cell_type": "code",
   "execution_count": 23,
   "id": "a3e3f897-54ea-460e-aed0-cc2d5be0e059",
   "metadata": {},
   "outputs": [
    {
     "data": {
      "text/plain": [
       "'3.12.7 | packaged by Anaconda, Inc. | (main, Oct  4 2024, 13:17:27) [MSC v.1929 64 bit (AMD64)]'"
      ]
     },
     "execution_count": 23,
     "metadata": {},
     "output_type": "execute_result"
    }
   ],
   "source": [
    "import sys\n",
    "sys.version"
   ]
  },
  {
   "cell_type": "code",
   "execution_count": null,
   "id": "52d37e6a-cecb-41ba-8e1e-245f3384e44f",
   "metadata": {},
   "outputs": [],
   "source": [
    "## CREATING ARRAY"
   ]
  },
  {
   "cell_type": "code",
   "execution_count": 24,
   "id": "3b7c7da2-3da3-4997-a872-318e495034ab",
   "metadata": {},
   "outputs": [
    {
     "data": {
      "text/plain": [
       "[0, 1, 2, 3, 4, 5]"
      ]
     },
     "execution_count": 24,
     "metadata": {},
     "output_type": "execute_result"
    }
   ],
   "source": [
    "myList=[0,1,2,3,4,5]\n",
    "myList"
   ]
  },
  {
   "cell_type": "code",
   "execution_count": 25,
   "id": "d77bb342-d652-467a-b295-adec27b6eddb",
   "metadata": {},
   "outputs": [
    {
     "data": {
      "text/plain": [
       "list"
      ]
     },
     "execution_count": 25,
     "metadata": {},
     "output_type": "execute_result"
    }
   ],
   "source": [
    "type(myList)"
   ]
  },
  {
   "cell_type": "code",
   "execution_count": null,
   "id": "62de12be-0ab4-4268-9b42-0afd02cd6514",
   "metadata": {},
   "outputs": [],
   "source": [
    "##  WE ARE CONVERTING LIST TO ARRAY"
   ]
  },
  {
   "cell_type": "code",
   "execution_count": 27,
   "id": "57f33254-39a1-47d7-aa33-8e53f238276a",
   "metadata": {},
   "outputs": [
    {
     "data": {
      "text/plain": [
       "array([0, 1, 2, 3, 4, 5])"
      ]
     },
     "execution_count": 27,
     "metadata": {},
     "output_type": "execute_result"
    }
   ],
   "source": [
    "arr=np.array(myList)\n",
    "arr"
   ]
  },
  {
   "cell_type": "code",
   "execution_count": 28,
   "id": "ce15fa39-36f2-4a41-9d31-dfcee88a33c9",
   "metadata": {},
   "outputs": [
    {
     "name": "stdout",
     "output_type": "stream",
     "text": [
      "<class 'numpy.ndarray'>\n"
     ]
    }
   ],
   "source": [
    "print(type(arr))"
   ]
  },
  {
   "cell_type": "code",
   "execution_count": null,
   "id": "4e8cc0c2-aa49-460a-ae61-0338bd1371a3",
   "metadata": {},
   "outputs": [],
   "source": [
    "# \"np.\"  import function"
   ]
  },
  {
   "cell_type": "code",
   "execution_count": 29,
   "id": "09ac7bdc-7dc3-4361-9be9-ab4aedf1f22d",
   "metadata": {},
   "outputs": [
    {
     "data": {
      "text/plain": [
       "array([ 0,  1,  2,  3,  4,  5,  6,  7,  8,  9, 10, 11, 12, 13, 14])"
      ]
     },
     "execution_count": 29,
     "metadata": {},
     "output_type": "execute_result"
    }
   ],
   "source": [
    "np.arange(15)   #int argument"
   ]
  },
  {
   "cell_type": "code",
   "execution_count": 40,
   "id": "7988d62e-5c76-4647-a64a-ed95a1142c67",
   "metadata": {},
   "outputs": [
    {
     "data": {
      "text/plain": [
       "array([0, 1, 2, 3, 4, 5, 6, 7, 8, 9])"
      ]
     },
     "execution_count": 40,
     "metadata": {},
     "output_type": "execute_result"
    }
   ],
   "source": [
    "np.arange(10)"
   ]
  },
  {
   "cell_type": "code",
   "execution_count": 30,
   "id": "d3b65188-b08c-4af1-8f97-d13b175ca2ca",
   "metadata": {},
   "outputs": [
    {
     "data": {
      "text/plain": [
       "array([ 0.,  1.,  2.,  3.,  4.,  5.,  6.,  7.,  8.,  9., 10., 11., 12.,\n",
       "       13., 14.])"
      ]
     },
     "execution_count": 30,
     "metadata": {},
     "output_type": "execute_result"
    }
   ],
   "source": [
    "np.arange(15.0)  #float argument"
   ]
  },
  {
   "cell_type": "code",
   "execution_count": 31,
   "id": "265de6a5-1978-4a99-805d-3aabb290604e",
   "metadata": {},
   "outputs": [
    {
     "data": {
      "text/plain": [
       "array([0, 1, 2, 3, 4])"
      ]
     },
     "execution_count": 31,
     "metadata": {},
     "output_type": "execute_result"
    }
   ],
   "source": [
    "np.arange(0,5)"
   ]
  },
  {
   "cell_type": "code",
   "execution_count": 32,
   "id": "29601b33-5358-489a-bcf8-1b822d657ede",
   "metadata": {},
   "outputs": [
    {
     "data": {
      "text/plain": [
       "array([10, 11, 12, 13, 14, 15, 16, 17, 18, 19])"
      ]
     },
     "execution_count": 32,
     "metadata": {},
     "output_type": "execute_result"
    }
   ],
   "source": [
    "np.arange(10,20)  #bydefalt 1st orge---will give row &2nd org -col"
   ]
  },
  {
   "cell_type": "code",
   "execution_count": 41,
   "id": "a509c758-eca5-4033-a7ee-f4d9198cf9cd",
   "metadata": {},
   "outputs": [
    {
     "data": {
      "text/plain": [
       "array([], dtype=int32)"
      ]
     },
     "execution_count": 41,
     "metadata": {},
     "output_type": "execute_result"
    }
   ],
   "source": [
    "np.arange(20,10)"
   ]
  },
  {
   "cell_type": "code",
   "execution_count": 84,
   "id": "466f728e-7051-4528-96c4-18bcaf4a2bdd",
   "metadata": {},
   "outputs": [
    {
     "name": "stdout",
     "output_type": "stream",
     "text": [
      "[[0. 0. 0. 0. 0.]\n",
      " [0. 0. 0. 0. 0.]\n",
      " [0. 0. 0. 0. 0.]\n",
      " [0. 0. 0. 0. 0.]\n",
      " [0. 0. 0. 0. 0.]\n",
      " [0. 0. 0. 0. 0.]]\n"
     ]
    }
   ],
   "source": [
    "n1=(6,5)\n",
    "n2=(6,8)\n",
    "print(np.zeros(n1))  #parameter tuning"
   ]
  },
  {
   "cell_type": "code",
   "execution_count": 87,
   "id": "48c7a7f1-f18b-468d-83cb-b7e86bda13bd",
   "metadata": {},
   "outputs": [
    {
     "name": "stdout",
     "output_type": "stream",
     "text": [
      "[0 0 0 0]\n"
     ]
    }
   ],
   "source": [
    "print(np.zeros(4,dtype=int)) #hyper parameter tuning"
   ]
  },
  {
   "cell_type": "code",
   "execution_count": 89,
   "id": "3fefee62-b9ea-44b7-b5c3-fd0aca34eba1",
   "metadata": {},
   "outputs": [
    {
     "name": "stdout",
     "output_type": "stream",
     "text": [
      "[[0. 0.]\n",
      " [0. 0.]]\n",
      "<class 'numpy.ndarray'>\n"
     ]
    }
   ],
   "source": [
    "zero=np.zeros([2,2])\n",
    "print(zero)\n",
    "print(type(zero))"
   ]
  },
  {
   "cell_type": "code",
   "execution_count": 33,
   "id": "85d6c771-31c7-49eb-b048-3b209ae9bc6d",
   "metadata": {},
   "outputs": [
    {
     "data": {
      "text/plain": [
       "array([], dtype=int32)"
      ]
     },
     "execution_count": 33,
     "metadata": {},
     "output_type": "execute_result"
    }
   ],
   "source": [
    "np.arange(40,5)   #1st org < 2nd arg"
   ]
  },
  {
   "cell_type": "code",
   "execution_count": null,
   "id": "1aecf7d6-ee22-4ad4-b5fe-cabfa6762c2a",
   "metadata": {},
   "outputs": [],
   "source": []
  },
  {
   "cell_type": "code",
   "execution_count": 34,
   "id": "2dbd852f-22e6-44f0-a868-18c4a24449cb",
   "metadata": {},
   "outputs": [
    {
     "data": {
      "text/plain": [
       "array([-40, -39, -38, -37, -36, -35, -34, -33, -32, -31, -30, -29, -28,\n",
       "       -27, -26, -25, -24, -23, -22, -21, -20, -19, -18, -17, -16, -15,\n",
       "       -14, -13, -12, -11, -10,  -9,  -8,  -7,  -6,  -5,  -4,  -3,  -2,\n",
       "        -1,   0,   1,   2,   3,   4])"
      ]
     },
     "execution_count": 34,
     "metadata": {},
     "output_type": "execute_result"
    }
   ],
   "source": [
    "np.arange(-40,5)"
   ]
  },
  {
   "cell_type": "code",
   "execution_count": 35,
   "id": "54c201e0-70c9-494f-8b0d-c5fb966f94dd",
   "metadata": {},
   "outputs": [
    {
     "data": {
      "text/plain": [
       "array([-40, -39, -38, -37, -36, -35, -34, -33, -32, -31, -30, -29, -28,\n",
       "       -27, -26])"
      ]
     },
     "execution_count": 35,
     "metadata": {},
     "output_type": "execute_result"
    }
   ],
   "source": [
    "np.arange(-40,-25)"
   ]
  },
  {
   "cell_type": "code",
   "execution_count": 36,
   "id": "dc35fb81-b0ca-4100-a2a0-117a5907af9a",
   "metadata": {},
   "outputs": [
    {
     "data": {
      "text/plain": [
       "array([10, 11, 12, 13, 14, 15, 16, 17, 18, 19, 20, 21, 22, 23, 24, 25, 26,\n",
       "       27, 28, 29])"
      ]
     },
     "execution_count": 36,
     "metadata": {},
     "output_type": "execute_result"
    }
   ],
   "source": [
    "rangeArray=np.arange(10,30)\n",
    "rangeArray"
   ]
  },
  {
   "cell_type": "code",
   "execution_count": 43,
   "id": "6f7e95e5-2de9-4cc8-9bb3-ffdddae3b909",
   "metadata": {},
   "outputs": [
    {
     "data": {
      "text/plain": [
       "array([-10,  -9,  -8,  -7,  -6,  -5,  -4,  -3,  -2,  -1,   0,   1,   2,\n",
       "         3,   4,   5,   6,   7,   8,   9,  10,  11,  12,  13,  14,  15,\n",
       "        16,  17,  18,  19,  20,  21,  22,  23,  24,  25,  26,  27,  28,\n",
       "        29])"
      ]
     },
     "execution_count": 43,
     "metadata": {},
     "output_type": "execute_result"
    }
   ],
   "source": [
    "rangeArray=np.arange(-10,30)\n",
    "rangeArray"
   ]
  },
  {
   "cell_type": "code",
   "execution_count": 44,
   "id": "82c04fae-efe3-41f9-bbbe-21c1f848e68d",
   "metadata": {},
   "outputs": [
    {
     "data": {
      "text/plain": [
       "array([], dtype=int32)"
      ]
     },
     "execution_count": 44,
     "metadata": {},
     "output_type": "execute_result"
    }
   ],
   "source": [
    "np.arange(10,10)"
   ]
  },
  {
   "cell_type": "code",
   "execution_count": 45,
   "id": "5cef7dbe-01c1-402d-8c4b-276b40f5a6bb",
   "metadata": {},
   "outputs": [
    {
     "ename": "TypeError",
     "evalue": "arange() requires stop to be specified.",
     "output_type": "error",
     "traceback": [
      "\u001b[1;31m---------------------------------------------------------------------------\u001b[0m",
      "\u001b[1;31mTypeError\u001b[0m                                 Traceback (most recent call last)",
      "Cell \u001b[1;32mIn[45], line 1\u001b[0m\n\u001b[1;32m----> 1\u001b[0m np\u001b[38;5;241m.\u001b[39marange()\n",
      "\u001b[1;31mTypeError\u001b[0m: arange() requires stop to be specified."
     ]
    }
   ],
   "source": [
    "np.arange()"
   ]
  },
  {
   "cell_type": "code",
   "execution_count": 46,
   "id": "0ed7645a-78c3-4636-83ad-ecdbb49067ba",
   "metadata": {},
   "outputs": [
    {
     "data": {
      "text/plain": [
       "array([10, 15, 20, 25])"
      ]
     },
     "execution_count": 46,
     "metadata": {},
     "output_type": "execute_result"
    }
   ],
   "source": [
    "np.arange(10,30,5)"
   ]
  },
  {
   "cell_type": "code",
   "execution_count": 48,
   "id": "43ef4d67-ca97-40ab-a2a9-f52080d133cb",
   "metadata": {},
   "outputs": [
    {
     "name": "stdout",
     "output_type": "stream",
     "text": [
      "NUMPY ZEROS\n"
     ]
    }
   ],
   "source": [
    "print(\"NUMPY ZEROS\")"
   ]
  },
  {
   "cell_type": "code",
   "execution_count": 58,
   "id": "df91f549-7fc7-470f-ac0f-cab1406d09c6",
   "metadata": {},
   "outputs": [
    {
     "data": {
      "text/plain": [
       "array([0., 0., 0., 0., 0., 0., 0., 0., 0., 0., 0., 0., 0., 0., 0., 0., 0.,\n",
       "       0., 0., 0., 0., 0., 0., 0., 0., 0., 0., 0., 0., 0., 0., 0., 0., 0.,\n",
       "       0., 0., 0., 0., 0., 0., 0., 0., 0., 0., 0., 0., 0., 0., 0., 0.])"
      ]
     },
     "execution_count": 58,
     "metadata": {},
     "output_type": "execute_result"
    }
   ],
   "source": [
    "np.zeros(50)  ##  parameter tuning=preparing"
   ]
  },
  {
   "cell_type": "code",
   "execution_count": 59,
   "id": "25652b7f-9baa-467f-b09f-310897f0fbd4",
   "metadata": {},
   "outputs": [
    {
     "ename": "NameError",
     "evalue": "name 's' is not defined",
     "output_type": "error",
     "traceback": [
      "\u001b[1;31m---------------------------------------------------------------------------\u001b[0m",
      "\u001b[1;31mNameError\u001b[0m                                 Traceback (most recent call last)",
      "Cell \u001b[1;32mIn[59], line 1\u001b[0m\n\u001b[1;32m----> 1\u001b[0m np\u001b[38;5;241m.\u001b[39mzeros(s,dtype\u001b[38;5;241m=\u001b[39m\u001b[38;5;28mint\u001b[39m)\n",
      "\u001b[1;31mNameError\u001b[0m: name 's' is not defined"
     ]
    }
   ],
   "source": [
    "np.zeros(s,dtype=int)     ##hyperparameter tuning (shif+tab)"
   ]
  },
  {
   "cell_type": "code",
   "execution_count": 60,
   "id": "a0389ab8-8ea9-48f4-b09f-46df8affb822",
   "metadata": {},
   "outputs": [
    {
     "data": {
      "text/plain": [
       "array([0, 0, 0])"
      ]
     },
     "execution_count": 60,
     "metadata": {},
     "output_type": "execute_result"
    }
   ],
   "source": [
    "np.zeros(3,dtype=int)"
   ]
  },
  {
   "cell_type": "code",
   "execution_count": 61,
   "id": "80e243c1-5ee4-4e3e-8dbf-85cc08244196",
   "metadata": {},
   "outputs": [
    {
     "data": {
      "text/plain": [
       "array([[0, 0, 0],\n",
       "       [0, 0, 0],\n",
       "       [0, 0, 0]])"
      ]
     },
     "execution_count": 61,
     "metadata": {},
     "output_type": "execute_result"
    }
   ],
   "source": [
    "np.zeros((3,3),dtype=int)"
   ]
  },
  {
   "cell_type": "code",
   "execution_count": 63,
   "id": "f6fd078c-9b8c-4491-b60c-6a2af675038a",
   "metadata": {},
   "outputs": [
    {
     "data": {
      "text/plain": [
       "array([[0., 0., 0.],\n",
       "       [0., 0., 0.],\n",
       "       [0., 0., 0.]])"
      ]
     },
     "execution_count": 63,
     "metadata": {},
     "output_type": "execute_result"
    }
   ],
   "source": [
    "np.zeros((3,3),dtype=float)"
   ]
  },
  {
   "cell_type": "code",
   "execution_count": 64,
   "id": "3f2482cf-a49c-44f0-bb30-9deb8830ea63",
   "metadata": {},
   "outputs": [
    {
     "data": {
      "text/plain": [
       "array([[0., 0., 0., 0., 0., 0., 0., 0., 0., 0.],\n",
       "       [0., 0., 0., 0., 0., 0., 0., 0., 0., 0.],\n",
       "       [0., 0., 0., 0., 0., 0., 0., 0., 0., 0.]])"
      ]
     },
     "execution_count": 64,
     "metadata": {},
     "output_type": "execute_result"
    }
   ],
   "source": [
    "np.zeros((3,10))"
   ]
  },
  {
   "cell_type": "code",
   "execution_count": 65,
   "id": "6d436140-7183-49ad-99a1-ddc921d5aba7",
   "metadata": {},
   "outputs": [
    {
     "data": {
      "text/plain": [
       "array([[0, 0, 0, 0, 0, 0, 0, 0, 0, 0, 0, 0, 0, 0, 0, 0, 0, 0, 0, 0, 0, 0,\n",
       "        0, 0, 0, 0, 0, 0, 0, 0],\n",
       "       [0, 0, 0, 0, 0, 0, 0, 0, 0, 0, 0, 0, 0, 0, 0, 0, 0, 0, 0, 0, 0, 0,\n",
       "        0, 0, 0, 0, 0, 0, 0, 0],\n",
       "       [0, 0, 0, 0, 0, 0, 0, 0, 0, 0, 0, 0, 0, 0, 0, 0, 0, 0, 0, 0, 0, 0,\n",
       "        0, 0, 0, 0, 0, 0, 0, 0],\n",
       "       [0, 0, 0, 0, 0, 0, 0, 0, 0, 0, 0, 0, 0, 0, 0, 0, 0, 0, 0, 0, 0, 0,\n",
       "        0, 0, 0, 0, 0, 0, 0, 0],\n",
       "       [0, 0, 0, 0, 0, 0, 0, 0, 0, 0, 0, 0, 0, 0, 0, 0, 0, 0, 0, 0, 0, 0,\n",
       "        0, 0, 0, 0, 0, 0, 0, 0],\n",
       "       [0, 0, 0, 0, 0, 0, 0, 0, 0, 0, 0, 0, 0, 0, 0, 0, 0, 0, 0, 0, 0, 0,\n",
       "        0, 0, 0, 0, 0, 0, 0, 0],\n",
       "       [0, 0, 0, 0, 0, 0, 0, 0, 0, 0, 0, 0, 0, 0, 0, 0, 0, 0, 0, 0, 0, 0,\n",
       "        0, 0, 0, 0, 0, 0, 0, 0],\n",
       "       [0, 0, 0, 0, 0, 0, 0, 0, 0, 0, 0, 0, 0, 0, 0, 0, 0, 0, 0, 0, 0, 0,\n",
       "        0, 0, 0, 0, 0, 0, 0, 0],\n",
       "       [0, 0, 0, 0, 0, 0, 0, 0, 0, 0, 0, 0, 0, 0, 0, 0, 0, 0, 0, 0, 0, 0,\n",
       "        0, 0, 0, 0, 0, 0, 0, 0],\n",
       "       [0, 0, 0, 0, 0, 0, 0, 0, 0, 0, 0, 0, 0, 0, 0, 0, 0, 0, 0, 0, 0, 0,\n",
       "        0, 0, 0, 0, 0, 0, 0, 0]], dtype=object)"
      ]
     },
     "execution_count": 65,
     "metadata": {},
     "output_type": "execute_result"
    }
   ],
   "source": [
    "np.zeros((10,30),dtype=list)"
   ]
  },
  {
   "cell_type": "code",
   "execution_count": 67,
   "id": "5c583eef-6616-4d2f-bcfa-fcfd013f94e1",
   "metadata": {},
   "outputs": [
    {
     "data": {
      "text/plain": [
       "array([1., 1., 1.])"
      ]
     },
     "execution_count": 67,
     "metadata": {},
     "output_type": "execute_result"
    }
   ],
   "source": [
    "np.ones(3)"
   ]
  },
  {
   "cell_type": "code",
   "execution_count": 69,
   "id": "e57c5861-9d77-45ba-821a-937262ce1805",
   "metadata": {},
   "outputs": [
    {
     "data": {
      "text/plain": [
       "array([[1., 1., 1., 1., 1.],\n",
       "       [1., 1., 1., 1., 1.],\n",
       "       [1., 1., 1., 1., 1.]])"
      ]
     },
     "execution_count": 69,
     "metadata": {},
     "output_type": "execute_result"
    }
   ],
   "source": [
    "np.ones((3,5))"
   ]
  },
  {
   "cell_type": "code",
   "execution_count": 71,
   "id": "e27627d0-0ced-4bdd-9893-132926bc6961",
   "metadata": {},
   "outputs": [
    {
     "data": {
      "text/plain": [
       "array([[1., 1., 1., 1., 1., 1., 1., 1., 1., 1.],\n",
       "       [1., 1., 1., 1., 1., 1., 1., 1., 1., 1.],\n",
       "       [1., 1., 1., 1., 1., 1., 1., 1., 1., 1.],\n",
       "       [1., 1., 1., 1., 1., 1., 1., 1., 1., 1.],\n",
       "       [1., 1., 1., 1., 1., 1., 1., 1., 1., 1.]])"
      ]
     },
     "execution_count": 71,
     "metadata": {},
     "output_type": "execute_result"
    }
   ],
   "source": [
    "np.ones((5,10))"
   ]
  },
  {
   "cell_type": "code",
   "execution_count": 72,
   "id": "05b5c6cc-c8a2-4a7c-8d57-e00baa8d9cc9",
   "metadata": {},
   "outputs": [
    {
     "ename": "AttributeError",
     "evalue": "module 'random' has no attribute 'rand'",
     "output_type": "error",
     "traceback": [
      "\u001b[1;31m---------------------------------------------------------------------------\u001b[0m",
      "\u001b[1;31mAttributeError\u001b[0m                            Traceback (most recent call last)",
      "Cell \u001b[1;32mIn[72], line 2\u001b[0m\n\u001b[0;32m      1\u001b[0m \u001b[38;5;28;01mimport\u001b[39;00m \u001b[38;5;21;01mrandom\u001b[39;00m\n\u001b[1;32m----> 2\u001b[0m random\u001b[38;5;241m.\u001b[39mrand(\u001b[38;5;241m3\u001b[39m,\u001b[38;5;241m2\u001b[39m)\n",
      "\u001b[1;31mAttributeError\u001b[0m: module 'random' has no attribute 'rand'"
     ]
    }
   ],
   "source": [
    "import random\n",
    "random.rand(3,2)"
   ]
  },
  {
   "cell_type": "code",
   "execution_count": 74,
   "id": "65e3d8d5-9d33-45bc-98bb-a7e283e1a57c",
   "metadata": {},
   "outputs": [
    {
     "data": {
      "text/plain": [
       "array([[0.09142263, 0.61134211],\n",
       "       [0.61977311, 0.96390589],\n",
       "       [0.13747943, 0.40000589]])"
      ]
     },
     "execution_count": 74,
     "metadata": {},
     "output_type": "execute_result"
    }
   ],
   "source": [
    "np.random.rand(3,2)"
   ]
  },
  {
   "cell_type": "code",
   "execution_count": 75,
   "id": "2088f45e-ca80-41d4-a0aa-762af0f4ea9d",
   "metadata": {},
   "outputs": [
    {
     "data": {
      "text/plain": [
       "array([0.75962833, 0.59568742, 0.39892627])"
      ]
     },
     "execution_count": 75,
     "metadata": {},
     "output_type": "execute_result"
    }
   ],
   "source": [
    "np.random.rand(3)"
   ]
  },
  {
   "cell_type": "code",
   "execution_count": 77,
   "id": "12aa7478-0426-47b7-965a-094c0a542074",
   "metadata": {},
   "outputs": [
    {
     "data": {
      "text/plain": [
       "array([[0.79212385, 0.16164877, 0.33232188, 0.82147905, 0.75778672],\n",
       "       [0.29618991, 0.23295213, 0.15904202, 0.52750369, 0.25594826],\n",
       "       [0.54654842, 0.29241028, 0.39587126, 0.16373564, 0.58213935]])"
      ]
     },
     "execution_count": 77,
     "metadata": {},
     "output_type": "execute_result"
    }
   ],
   "source": [
    "np.random.rand(3,5)"
   ]
  },
  {
   "cell_type": "code",
   "execution_count": 78,
   "id": "8d5ab697-d37e-4404-ad64-97eec5969916",
   "metadata": {},
   "outputs": [
    {
     "data": {
      "text/plain": [
       "2"
      ]
     },
     "execution_count": 78,
     "metadata": {},
     "output_type": "execute_result"
    }
   ],
   "source": [
    "np.random.randint(2,5)"
   ]
  },
  {
   "cell_type": "code",
   "execution_count": 102,
   "id": "76049582-3522-479a-98f8-14926f1cfd4b",
   "metadata": {},
   "outputs": [
    {
     "data": {
      "text/plain": [
       "86"
      ]
     },
     "execution_count": 102,
     "metadata": {},
     "output_type": "execute_result"
    }
   ],
   "source": [
    "np.random.randint(20,150)"
   ]
  },
  {
   "cell_type": "code",
   "execution_count": 81,
   "id": "001206c2-4470-44ab-be9d-919fe2c6486c",
   "metadata": {},
   "outputs": [
    {
     "data": {
      "text/plain": [
       "0"
      ]
     },
     "execution_count": 81,
     "metadata": {},
     "output_type": "execute_result"
    }
   ],
   "source": [
    "np.random.randint(0,1)"
   ]
  },
  {
   "cell_type": "code",
   "execution_count": 124,
   "id": "20b95517-6505-4584-8c7a-e4a0eca600b5",
   "metadata": {},
   "outputs": [
    {
     "data": {
      "text/plain": [
       "7"
      ]
     },
     "execution_count": 124,
     "metadata": {},
     "output_type": "execute_result"
    }
   ],
   "source": [
    "np.random.randint(5,9)"
   ]
  },
  {
   "cell_type": "code",
   "execution_count": 82,
   "id": "a5e87378-9024-4725-97bb-a4beee3794a6",
   "metadata": {},
   "outputs": [
    {
     "data": {
      "text/plain": [
       "array([11, 19, 13, 11, 14])"
      ]
     },
     "execution_count": 82,
     "metadata": {},
     "output_type": "execute_result"
    }
   ],
   "source": [
    "np.random.randint(10,20, 5)"
   ]
  },
  {
   "cell_type": "code",
   "execution_count": 83,
   "id": "b74d33f2-97a7-445d-90d2-91b00df946c7",
   "metadata": {},
   "outputs": [
    {
     "data": {
      "text/plain": [
       "array([4, 4, 3, 4])"
      ]
     },
     "execution_count": 83,
     "metadata": {},
     "output_type": "execute_result"
    }
   ],
   "source": [
    "np.random.randint(1,6, 4)"
   ]
  },
  {
   "cell_type": "code",
   "execution_count": 92,
   "id": "d496c34a-9dbe-42ed-9be1-428aa9a35b70",
   "metadata": {},
   "outputs": [
    {
     "data": {
      "text/plain": [
       "array([36, 30, 27, 35])"
      ]
     },
     "execution_count": 92,
     "metadata": {},
     "output_type": "execute_result"
    }
   ],
   "source": [
    "\n",
    "np.random.randint(20,40,4)\n"
   ]
  },
  {
   "cell_type": "code",
   "execution_count": 103,
   "id": "3b83913e-87a2-4d59-8403-dc46853db2ae",
   "metadata": {},
   "outputs": [
    {
     "data": {
      "text/plain": [
       "array([[26, 20, 30, 36, 25, 38, 37, 25, 26, 39],\n",
       "       [26, 34, 23, 28, 36, 23, 30, 38, 30, 36],\n",
       "       [28, 23, 31, 35, 25, 36, 30, 20, 23, 37],\n",
       "       [30, 24, 32, 20, 20, 35, 28, 33, 34, 29],\n",
       "       [38, 31, 36, 38, 36, 29, 26, 36, 21, 27],\n",
       "       [34, 24, 35, 24, 37, 30, 29, 26, 25, 30],\n",
       "       [20, 35, 26, 31, 29, 24, 27, 38, 21, 34],\n",
       "       [27, 26, 33, 20, 26, 28, 20, 29, 36, 38],\n",
       "       [24, 38, 28, 33, 21, 25, 24, 38, 22, 37],\n",
       "       [25, 27, 37, 25, 31, 24, 38, 28, 28, 26]])"
      ]
     },
     "execution_count": 103,
     "metadata": {},
     "output_type": "execute_result"
    }
   ],
   "source": [
    "np.random.randint(20,40,(10,10))"
   ]
  },
  {
   "cell_type": "code",
   "execution_count": 93,
   "id": "d4e8562b-3586-4404-afce-4a55b4854494",
   "metadata": {},
   "outputs": [
    {
     "data": {
      "text/plain": [
       "array([[29, 35, 20, 35, 28, 20, 20, 21, 24, 31, 33, 21, 30, 39, 25, 38,\n",
       "        28, 36, 36, 30, 24, 25, 31, 32, 21, 25, 26, 23, 35, 32, 21, 31,\n",
       "        35, 31, 24, 31, 23, 20, 38, 22],\n",
       "       [36, 38, 27, 36, 33, 22, 37, 26, 28, 34, 39, 32, 26, 33, 35, 37,\n",
       "        36, 33, 38, 29, 33, 34, 23, 34, 39, 39, 28, 20, 20, 33, 39, 21,\n",
       "        29, 28, 33, 31, 35, 36, 35, 37],\n",
       "       [21, 27, 20, 36, 21, 33, 22, 21, 37, 39, 32, 36, 27, 37, 27, 31,\n",
       "        28, 27, 33, 28, 34, 23, 21, 21, 35, 28, 24, 39, 26, 35, 26, 34,\n",
       "        24, 35, 20, 25, 27, 38, 33, 35],\n",
       "       [34, 24, 23, 31, 29, 30, 39, 29, 38, 30, 30, 27, 35, 29, 22, 30,\n",
       "        26, 34, 24, 37, 36, 38, 20, 26, 22, 35, 24, 24, 30, 28, 24, 33,\n",
       "        38, 26, 26, 26, 39, 27, 32, 30],\n",
       "       [29, 39, 29, 29, 39, 30, 38, 32, 20, 32, 22, 20, 26, 21, 38, 33,\n",
       "        28, 39, 35, 37, 39, 37, 34, 38, 38, 31, 30, 25, 26, 30, 29, 29,\n",
       "        36, 37, 27, 34, 34, 34, 27, 33],\n",
       "       [30, 38, 39, 32, 30, 20, 38, 35, 33, 37, 28, 20, 25, 24, 27, 36,\n",
       "        33, 20, 22, 32, 36, 20, 31, 20, 28, 27, 32, 34, 26, 20, 36, 36,\n",
       "        24, 32, 34, 33, 23, 29, 23, 24],\n",
       "       [29, 35, 26, 37, 35, 35, 23, 25, 39, 30, 23, 30, 37, 31, 23, 32,\n",
       "        25, 26, 25, 37, 34, 31, 36, 24, 29, 27, 37, 23, 37, 34, 24, 26,\n",
       "        30, 37, 36, 37, 38, 25, 24, 28],\n",
       "       [33, 36, 27, 33, 28, 28, 27, 36, 25, 35, 26, 20, 20, 31, 36, 35,\n",
       "        29, 30, 23, 30, 25, 31, 38, 37, 36, 37, 25, 21, 36, 23, 35, 37,\n",
       "        24, 29, 31, 34, 20, 38, 25, 39],\n",
       "       [30, 21, 37, 24, 35, 20, 38, 34, 39, 33, 23, 24, 21, 25, 23, 34,\n",
       "        33, 22, 37, 29, 35, 32, 27, 20, 30, 27, 24, 39, 24, 39, 21, 34,\n",
       "        21, 29, 35, 26, 31, 35, 27, 37],\n",
       "       [31, 27, 21, 24, 38, 39, 38, 22, 24, 35, 36, 38, 30, 28, 32, 33,\n",
       "        32, 30, 28, 27, 20, 23, 27, 35, 33, 25, 39, 26, 26, 29, 33, 27,\n",
       "        22, 29, 32, 22, 24, 24, 23, 20],\n",
       "       [26, 39, 39, 28, 23, 33, 36, 31, 32, 35, 26, 23, 37, 32, 25, 24,\n",
       "        25, 27, 24, 20, 39, 26, 22, 34, 23, 24, 28, 36, 25, 37, 27, 37,\n",
       "        20, 23, 32, 30, 23, 29, 31, 36],\n",
       "       [35, 36, 31, 20, 25, 38, 33, 30, 38, 20, 28, 21, 24, 31, 28, 33,\n",
       "        26, 24, 27, 31, 28, 28, 36, 29, 22, 20, 31, 33, 28, 26, 35, 35,\n",
       "        31, 33, 33, 26, 36, 32, 20, 20],\n",
       "       [28, 24, 34, 39, 34, 35, 33, 24, 23, 32, 25, 33, 32, 23, 39, 27,\n",
       "        23, 22, 29, 22, 30, 21, 26, 34, 25, 33, 26, 35, 26, 26, 27, 36,\n",
       "        30, 25, 29, 30, 26, 26, 24, 34],\n",
       "       [34, 27, 28, 22, 28, 34, 33, 29, 35, 22, 39, 31, 25, 26, 37, 22,\n",
       "        25, 23, 25, 27, 30, 26, 28, 25, 24, 24, 25, 38, 37, 33, 25, 31,\n",
       "        21, 33, 27, 36, 23, 31, 25, 28],\n",
       "       [32, 22, 38, 39, 31, 34, 20, 33, 21, 26, 22, 38, 30, 28, 34, 20,\n",
       "        27, 20, 27, 21, 32, 30, 38, 20, 23, 32, 29, 32, 24, 35, 34, 36,\n",
       "        31, 20, 22, 33, 20, 20, 20, 31],\n",
       "       [39, 37, 34, 29, 39, 37, 33, 32, 32, 26, 31, 32, 37, 29, 27, 29,\n",
       "        24, 23, 34, 28, 31, 37, 20, 24, 28, 23, 31, 26, 20, 25, 35, 27,\n",
       "        24, 26, 31, 27, 36, 26, 36, 36],\n",
       "       [30, 34, 28, 34, 20, 38, 26, 39, 39, 32, 28, 21, 25, 25, 33, 37,\n",
       "        30, 24, 25, 26, 28, 39, 28, 33, 20, 20, 23, 39, 25, 24, 28, 35,\n",
       "        37, 27, 38, 24, 34, 33, 32, 39],\n",
       "       [34, 33, 31, 39, 20, 29, 22, 28, 20, 25, 38, 26, 28, 22, 22, 23,\n",
       "        25, 31, 33, 23, 35, 34, 37, 39, 27, 29, 28, 25, 24, 28, 28, 30,\n",
       "        34, 35, 29, 30, 37, 23, 39, 35],\n",
       "       [27, 28, 30, 38, 30, 25, 32, 34, 24, 32, 32, 24, 22, 35, 25, 34,\n",
       "        35, 38, 30, 31, 21, 34, 20, 29, 35, 35, 28, 39, 26, 23, 36, 30,\n",
       "        36, 35, 30, 37, 31, 30, 27, 33],\n",
       "       [27, 36, 35, 38, 37, 29, 25, 28, 36, 23, 36, 27, 38, 21, 38, 25,\n",
       "        22, 28, 36, 25, 33, 27, 20, 34, 38, 22, 28, 30, 27, 38, 22, 38,\n",
       "        31, 36, 34, 38, 32, 37, 33, 26]])"
      ]
     },
     "execution_count": 93,
     "metadata": {},
     "output_type": "execute_result"
    }
   ],
   "source": [
    "\n",
    "np.random.randint(20,40,(20,40))"
   ]
  },
  {
   "cell_type": "code",
   "execution_count": 94,
   "id": "21aea2db-4153-4785-bec2-60b205236270",
   "metadata": {},
   "outputs": [
    {
     "data": {
      "text/plain": [
       "array([[12, 87, 84, 83, 49, 50, 17,  1, 81, 69, 70, 61,  6, 43, 56, 72,\n",
       "        86, 10, 76, 39],\n",
       "       [46, 29, 98, 51,  2, 21, 87, 10, 55, 89, 51, 57, 43, 12, 37, 96,\n",
       "        49, 64, 50, 91],\n",
       "       [46, 34, 37, 13, 10, 75, 36, 74, 38, 47, 74,  7, 16,  5, 54, 19,\n",
       "        71, 73, 51, 78],\n",
       "       [88, 54, 24, 93, 62, 51,  3, 53, 16, 21, 99, 10, 92, 58, 95,  2,\n",
       "        19, 24, 68, 90],\n",
       "       [70, 69, 16, 75, 38, 92, 76, 53, 92, 53, 67, 76, 45, 48, 84, 42,\n",
       "        31, 53, 18, 67],\n",
       "       [ 8, 99,  3, 40, 84, 80,  3, 84, 41, 72, 17, 75, 70, 89, 15, 72,\n",
       "         7, 48, 97, 93],\n",
       "       [79,  8, 52, 66, 73, 85, 29, 69, 72, 32, 73, 13, 98, 46, 67, 69,\n",
       "        53, 56, 32, 28],\n",
       "       [52, 10,  9, 26, 32, 82, 13, 60, 14, 61, 97, 76, 85, 71, 22, 19,\n",
       "        54, 66, 39, 26],\n",
       "       [61, 57, 87, 41, 96, 98, 34, 27, 63, 56, 59, 71, 31, 78, 76, 64,\n",
       "         8, 34, 40, 24],\n",
       "       [43, 63, 67,  8, 85, 75, 30, 33, 27, 18, 10, 65, 22, 64,  1, 25,\n",
       "        71, 55, 17, 99],\n",
       "       [97, 70, 72, 15,  7, 36,  4, 36, 17, 69, 90, 37, 80, 34, 69, 36,\n",
       "        44, 44, 79, 62],\n",
       "       [52, 15, 96, 18, 86, 74, 65, 56, 77, 49,  4, 97, 42, 45, 95, 68,\n",
       "        60, 19, 57, 33]])"
      ]
     },
     "execution_count": 94,
     "metadata": {},
     "output_type": "execute_result"
    }
   ],
   "source": [
    "\n",
    "np.random.randint(1,100,(12,20))"
   ]
  },
  {
   "cell_type": "code",
   "execution_count": 95,
   "id": "0b98cafe-36a1-4a62-8df8-a954bb50378c",
   "metadata": {},
   "outputs": [
    {
     "data": {
      "text/plain": [
       "array([[ 1,  2,  3,  4],\n",
       "       [ 5,  6,  7,  8],\n",
       "       [ 9, 10, 11, 12]])"
      ]
     },
     "execution_count": 95,
     "metadata": {},
     "output_type": "execute_result"
    }
   ],
   "source": [
    "\n",
    "np.arange(1,13).reshape(3,4)"
   ]
  },
  {
   "cell_type": "code",
   "execution_count": 123,
   "id": "636382f1-fc73-41be-a5c1-5fddc886c9d6",
   "metadata": {},
   "outputs": [
    {
     "data": {
      "text/plain": [
       "array([[ 1,  2,  3,  4],\n",
       "       [ 5,  6,  7,  8],\n",
       "       [ 9, 10, 11, 12]])"
      ]
     },
     "execution_count": 123,
     "metadata": {},
     "output_type": "execute_result"
    }
   ],
   "source": [
    "np.arange(1,13).reshape(3,4)    #######"
   ]
  },
  {
   "cell_type": "code",
   "execution_count": 97,
   "id": "0b3b4c75-f8b9-4a8c-a48f-5474aca990b4",
   "metadata": {},
   "outputs": [
    {
     "data": {
      "text/plain": [
       "array([[ 1],\n",
       "       [ 2],\n",
       "       [ 3],\n",
       "       [ 4],\n",
       "       [ 5],\n",
       "       [ 6],\n",
       "       [ 7],\n",
       "       [ 8],\n",
       "       [ 9],\n",
       "       [10],\n",
       "       [11],\n",
       "       [12]])"
      ]
     },
     "execution_count": 97,
     "metadata": {},
     "output_type": "execute_result"
    }
   ],
   "source": [
    "np.arange(1,13).reshape(12,1)"
   ]
  },
  {
   "cell_type": "code",
   "execution_count": 125,
   "id": "d6f99b52-8eca-41d5-bf66-090bf8037a91",
   "metadata": {},
   "outputs": [
    {
     "data": {
      "text/plain": [
       "array([[ 1,  2,  3,  4,  5,  6,  7,  8,  9, 10, 11, 12]])"
      ]
     },
     "execution_count": 125,
     "metadata": {},
     "output_type": "execute_result"
    }
   ],
   "source": [
    "np.arange(1,13).reshape(1,12)"
   ]
  },
  {
   "cell_type": "code",
   "execution_count": 104,
   "id": "4c43fdec-c641-47d8-8a8d-299a3328049d",
   "metadata": {},
   "outputs": [
    {
     "data": {
      "text/plain": [
       "array([[ 1,  2],\n",
       "       [ 3,  4],\n",
       "       [ 5,  6],\n",
       "       [ 7,  8],\n",
       "       [ 9, 10],\n",
       "       [11, 12]])"
      ]
     },
     "execution_count": 104,
     "metadata": {},
     "output_type": "execute_result"
    }
   ],
   "source": [
    "np.arange(1,13).reshape(6,2)"
   ]
  },
  {
   "cell_type": "markdown",
   "id": "7784d3c2-f7ff-4352-9552-ac402567c6ce",
   "metadata": {},
   "source": [
    "SLICING IN MARTIX"
   ]
  },
  {
   "cell_type": "code",
   "execution_count": 108,
   "id": "4ab1de7c-1b65-4c46-8cd8-db965f8e44ad",
   "metadata": {},
   "outputs": [
    {
     "data": {
      "text/plain": [
       "array([[19, 13, 15, 10],\n",
       "       [13, 15, 10, 18],\n",
       "       [16, 12, 15, 18],\n",
       "       [14, 10, 19, 16],\n",
       "       [19, 10, 11, 19]])"
      ]
     },
     "execution_count": 108,
     "metadata": {},
     "output_type": "execute_result"
    }
   ],
   "source": [
    "b=np.random.randint(10,20,(5,4))\n",
    "b"
   ]
  },
  {
   "cell_type": "code",
   "execution_count": 126,
   "id": "8878d9fc-ecca-4b6c-b5bb-fbebb2977d7c",
   "metadata": {},
   "outputs": [
    {
     "data": {
      "text/plain": [
       "numpy.ndarray"
      ]
     },
     "execution_count": 126,
     "metadata": {},
     "output_type": "execute_result"
    }
   ],
   "source": [
    "type(b)"
   ]
  },
  {
   "cell_type": "code",
   "execution_count": 101,
   "id": "a81e6740-70f9-474f-bb3a-53078577eb22",
   "metadata": {},
   "outputs": [
    {
     "data": {
      "text/plain": [
       "array([[15, 10, 15, 17],\n",
       "       [11, 12, 13, 18],\n",
       "       [11, 12, 19, 12],\n",
       "       [15, 19, 16, 17],\n",
       "       [16, 10, 17, 19]])"
      ]
     },
     "execution_count": 101,
     "metadata": {},
     "output_type": "execute_result"
    }
   ],
   "source": [
    "b[:]"
   ]
  },
  {
   "cell_type": "code",
   "execution_count": 127,
   "id": "4b430647-95d5-4874-a25c-1d6abaeaad64",
   "metadata": {},
   "outputs": [
    {
     "data": {
      "text/plain": [
       "array([[13, 15, 10, 18],\n",
       "       [16, 12, 15, 18]])"
      ]
     },
     "execution_count": 127,
     "metadata": {},
     "output_type": "execute_result"
    }
   ],
   "source": [
    "b[1:3]"
   ]
  },
  {
   "cell_type": "code",
   "execution_count": 109,
   "id": "b8f8a50b-ad85-4c77-ac1f-c27fd96a5ada",
   "metadata": {},
   "outputs": [
    {
     "data": {
      "text/plain": [
       "array([[13, 15, 10, 18]])"
      ]
     },
     "execution_count": 109,
     "metadata": {},
     "output_type": "execute_result"
    }
   ],
   "source": [
    "b[1:2]"
   ]
  },
  {
   "cell_type": "code",
   "execution_count": 110,
   "id": "07977468-202b-4ef7-bd89-d9f2ee399e9f",
   "metadata": {},
   "outputs": [
    {
     "data": {
      "text/plain": [
       "10"
      ]
     },
     "execution_count": 110,
     "metadata": {},
     "output_type": "execute_result"
    }
   ],
   "source": [
    "b[1,2]"
   ]
  },
  {
   "cell_type": "code",
   "execution_count": 111,
   "id": "8c70c191-7786-468b-9bcc-b4afa44a5b53",
   "metadata": {},
   "outputs": [
    {
     "data": {
      "text/plain": [
       "array([[19, 13, 15, 10],\n",
       "       [13, 15, 10, 18],\n",
       "       [16, 12, 15, 18],\n",
       "       [14, 10, 19, 16],\n",
       "       [19, 10, 11, 19]])"
      ]
     },
     "execution_count": 111,
     "metadata": {},
     "output_type": "execute_result"
    }
   ],
   "source": [
    "b"
   ]
  },
  {
   "cell_type": "code",
   "execution_count": 129,
   "id": "0524c7ef-cd50-4f90-b493-65bfd6b05a20",
   "metadata": {},
   "outputs": [
    {
     "data": {
      "text/plain": [
       "array([[19, 13, 15, 10],\n",
       "       [13, 15, 10, 18],\n",
       "       [16, 12, 15, 18]])"
      ]
     },
     "execution_count": 129,
     "metadata": {},
     "output_type": "execute_result"
    }
   ],
   "source": [
    "b[0:3]"
   ]
  },
  {
   "cell_type": "code",
   "execution_count": 130,
   "id": "9f46a8f6-860e-4a23-bc04-f880ea699a3e",
   "metadata": {},
   "outputs": [
    {
     "data": {
      "text/plain": [
       "array([[19, 13, 15, 10],\n",
       "       [13, 15, 10, 18],\n",
       "       [16, 12, 15, 18],\n",
       "       [14, 10, 19, 16]])"
      ]
     },
     "execution_count": 130,
     "metadata": {},
     "output_type": "execute_result"
    }
   ],
   "source": [
    "b[0:4]"
   ]
  },
  {
   "cell_type": "code",
   "execution_count": 112,
   "id": "796419a5-c84f-478e-ab83-1df2b5fbed7f",
   "metadata": {},
   "outputs": [
    {
     "data": {
      "text/plain": [
       "18"
      ]
     },
     "execution_count": 112,
     "metadata": {},
     "output_type": "execute_result"
    }
   ],
   "source": [
    "b[1,3]"
   ]
  },
  {
   "cell_type": "code",
   "execution_count": 113,
   "id": "4183b91e-7f30-46e6-87a0-2615043cfdad",
   "metadata": {},
   "outputs": [
    {
     "data": {
      "text/plain": [
       "18"
      ]
     },
     "execution_count": 113,
     "metadata": {},
     "output_type": "execute_result"
    }
   ],
   "source": [
    "b[1,-1]"
   ]
  },
  {
   "cell_type": "code",
   "execution_count": 114,
   "id": "ce06a75d-d66a-4160-9fb7-9f97c67f5db7",
   "metadata": {},
   "outputs": [
    {
     "data": {
      "text/plain": [
       "18"
      ]
     },
     "execution_count": 114,
     "metadata": {},
     "output_type": "execute_result"
    }
   ],
   "source": [
    "b[2,3]"
   ]
  },
  {
   "cell_type": "code",
   "execution_count": 115,
   "id": "d66c8c71-0709-4e98-bdef-44a3875f7ec3",
   "metadata": {},
   "outputs": [
    {
     "data": {
      "text/plain": [
       "15"
      ]
     },
     "execution_count": 115,
     "metadata": {},
     "output_type": "execute_result"
    }
   ],
   "source": [
    "b[0,-2]"
   ]
  },
  {
   "cell_type": "code",
   "execution_count": 116,
   "id": "5ad0e15d-78cc-412a-8323-171e3a64a944",
   "metadata": {},
   "outputs": [
    {
     "data": {
      "text/plain": [
       "15"
      ]
     },
     "execution_count": 116,
     "metadata": {},
     "output_type": "execute_result"
    }
   ],
   "source": [
    "b[0,2]"
   ]
  },
  {
   "cell_type": "code",
   "execution_count": 117,
   "id": "eb822e6c-e0cd-4f2f-806d-df80fa05d214",
   "metadata": {},
   "outputs": [
    {
     "data": {
      "text/plain": [
       "array([[19, 13, 15, 10],\n",
       "       [13, 15, 10, 18],\n",
       "       [16, 12, 15, 18]])"
      ]
     },
     "execution_count": 117,
     "metadata": {},
     "output_type": "execute_result"
    }
   ],
   "source": [
    "b[0:-2]"
   ]
  },
  {
   "cell_type": "code",
   "execution_count": 118,
   "id": "52e693a4-c6ee-4ddc-8645-4ec997ea43e4",
   "metadata": {},
   "outputs": [
    {
     "data": {
      "text/plain": [
       "19"
      ]
     },
     "execution_count": 118,
     "metadata": {},
     "output_type": "execute_result"
    }
   ],
   "source": [
    "b[-5,-4]"
   ]
  },
  {
   "cell_type": "code",
   "execution_count": 120,
   "id": "8a34ea60-52fe-4422-a5dc-56cde94f5e93",
   "metadata": {},
   "outputs": [
    {
     "data": {
      "text/plain": [
       "array([[19, 13, 15, 10],\n",
       "       [13, 15, 10, 18],\n",
       "       [16, 12, 15, 18],\n",
       "       [14, 10, 19, 16],\n",
       "       [19, 10, 11, 19]])"
      ]
     },
     "execution_count": 120,
     "metadata": {},
     "output_type": "execute_result"
    }
   ],
   "source": [
    "b"
   ]
  },
  {
   "cell_type": "code",
   "execution_count": 122,
   "id": "d0ec2a78-8c2e-43d6-8af2-853276a78129",
   "metadata": {},
   "outputs": [
    {
     "data": {
      "text/plain": [
       "10"
      ]
     },
     "execution_count": 122,
     "metadata": {},
     "output_type": "execute_result"
    }
   ],
   "source": [
    "b[-5,3]"
   ]
  },
  {
   "cell_type": "code",
   "execution_count": 131,
   "id": "7742e7b9-3beb-4b91-a2a2-003e6ef20bda",
   "metadata": {},
   "outputs": [
    {
     "data": {
      "text/plain": [
       "array([[16, 12, 15, 18]])"
      ]
     },
     "execution_count": 131,
     "metadata": {},
     "output_type": "execute_result"
    }
   ],
   "source": [
    "b[2:3]"
   ]
  },
  {
   "cell_type": "code",
   "execution_count": 132,
   "id": "410f67ef-4cd2-4bdd-b2e9-bba056f0b9eb",
   "metadata": {},
   "outputs": [
    {
     "data": {
      "text/plain": [
       "array([[19, 13, 15, 10],\n",
       "       [13, 15, 10, 18],\n",
       "       [16, 12, 15, 18]])"
      ]
     },
     "execution_count": 132,
     "metadata": {},
     "output_type": "execute_result"
    }
   ],
   "source": [
    "b[0:-2]"
   ]
  },
  {
   "cell_type": "code",
   "execution_count": 133,
   "id": "4d557ca3-2e21-43c7-bdd4-c7ea03e4f4a3",
   "metadata": {},
   "outputs": [
    {
     "data": {
      "text/plain": [
       "array([[19, 16, 11, 13],\n",
       "       [14, 17, 12, 13],\n",
       "       [12, 17, 12, 12],\n",
       "       [14, 19, 16, 18]])"
      ]
     },
     "execution_count": 133,
     "metadata": {},
     "output_type": "execute_result"
    }
   ],
   "source": [
    "np.random.randint(10,20,(4,4))"
   ]
  },
  {
   "cell_type": "code",
   "execution_count": 134,
   "id": "541bcb31-56a2-409b-872d-eab33657bc5a",
   "metadata": {},
   "outputs": [
    {
     "data": {
      "text/plain": [
       "array([[19, 13, 15, 10],\n",
       "       [13, 15, 10, 18],\n",
       "       [16, 12, 15, 18],\n",
       "       [14, 10, 19, 16],\n",
       "       [19, 10, 11, 19]])"
      ]
     },
     "execution_count": 134,
     "metadata": {},
     "output_type": "execute_result"
    }
   ],
   "source": [
    "b"
   ]
  },
  {
   "cell_type": "code",
   "execution_count": 135,
   "id": "cc78ede9-fd0e-4636-9871-1e327271579c",
   "metadata": {},
   "outputs": [
    {
     "data": {
      "text/plain": [
       "10"
      ]
     },
     "execution_count": 135,
     "metadata": {},
     "output_type": "execute_result"
    }
   ],
   "source": [
    "b[-4,-2]"
   ]
  },
  {
   "cell_type": "code",
   "execution_count": null,
   "id": "037d86b4-0a1e-4884-b42d-0e1e9f6483db",
   "metadata": {},
   "outputs": [],
   "source": [
    "##   OPERATIONS"
   ]
  },
  {
   "cell_type": "code",
   "execution_count": 136,
   "id": "dde29582-2961-4169-9399-63806db80f7d",
   "metadata": {},
   "outputs": [
    {
     "data": {
      "text/plain": [
       "array([10, 18, 18, 19, 17, 13, 16, 18, 19, 16])"
      ]
     },
     "execution_count": 136,
     "metadata": {},
     "output_type": "execute_result"
    }
   ],
   "source": [
    "a=np.random.randint(10,20,10)\n",
    "a"
   ]
  },
  {
   "cell_type": "code",
   "execution_count": 137,
   "id": "5e5698c7-b7ce-403e-aeb9-a4cfff6a22fa",
   "metadata": {},
   "outputs": [
    {
     "data": {
      "text/plain": [
       "1774592015312"
      ]
     },
     "execution_count": 137,
     "metadata": {},
     "output_type": "execute_result"
    }
   ],
   "source": [
    "id(a)"
   ]
  },
  {
   "cell_type": "code",
   "execution_count": 138,
   "id": "9cd25ab7-34a1-4a7d-9fa5-ac88cf5a9e0b",
   "metadata": {},
   "outputs": [
    {
     "data": {
      "text/plain": [
       "array([0, 1, 2, 3, 4, 5])"
      ]
     },
     "execution_count": 138,
     "metadata": {},
     "output_type": "execute_result"
    }
   ],
   "source": [
    "arr"
   ]
  },
  {
   "cell_type": "code",
   "execution_count": 140,
   "id": "063b6024-c342-4244-8430-5c540fc40da8",
   "metadata": {},
   "outputs": [
    {
     "data": {
      "text/plain": [
       "array([[23, 95, 94, 76, 28, 46, 79, 11,  2,  8],\n",
       "       [94, 87, 94, 34, 66,  6, 16, 17, 12, 48],\n",
       "       [44,  3,  5, 27, 15, 44, 34, 23, 33, 13],\n",
       "       [29, 43, 87, 51, 43, 40, 53, 72, 56, 37],\n",
       "       [49, 44, 95, 97, 72, 71, 73, 29, 25, 43],\n",
       "       [53, 51, 42,  8, 39, 86,  0,  0, 52, 54],\n",
       "       [44, 63, 49, 74,  4, 61,  7, 70, 12, 85],\n",
       "       [ 9, 81, 92, 17, 95, 42, 47, 43, 91, 71],\n",
       "       [84, 38, 88, 68, 68, 98, 30, 49, 18, 62],\n",
       "       [35, 48, 83, 89, 10, 92, 57,  9, 44, 12]])"
      ]
     },
     "execution_count": 140,
     "metadata": {},
     "output_type": "execute_result"
    }
   ],
   "source": [
    "arr2=np.random.randint(0,100,(10,10))\n",
    "arr2"
   ]
  },
  {
   "cell_type": "code",
   "execution_count": 141,
   "id": "9b5b8c70-0988-417a-9d60-af3d8159d5b6",
   "metadata": {},
   "outputs": [
    {
     "data": {
      "text/plain": [
       "array([0, 1, 2, 3, 4, 5])"
      ]
     },
     "execution_count": 141,
     "metadata": {},
     "output_type": "execute_result"
    }
   ],
   "source": [
    "arr"
   ]
  },
  {
   "cell_type": "code",
   "execution_count": 143,
   "id": "03c12169-019b-4549-bf2e-45d2d34c3947",
   "metadata": {},
   "outputs": [
    {
     "data": {
      "text/plain": [
       "array([0, 1, 2, 3, 4, 5])"
      ]
     },
     "execution_count": 143,
     "metadata": {},
     "output_type": "execute_result"
    }
   ],
   "source": [
    "arr[:]"
   ]
  },
  {
   "cell_type": "code",
   "execution_count": 144,
   "id": "faa4d776-764c-4138-9869-9dc309a17180",
   "metadata": {},
   "outputs": [
    {
     "data": {
      "text/plain": [
       "array([[23, 95, 94, 76, 28, 46, 79, 11,  2,  8],\n",
       "       [94, 87, 94, 34, 66,  6, 16, 17, 12, 48],\n",
       "       [44,  3,  5, 27, 15, 44, 34, 23, 33, 13],\n",
       "       [29, 43, 87, 51, 43, 40, 53, 72, 56, 37],\n",
       "       [49, 44, 95, 97, 72, 71, 73, 29, 25, 43]])"
      ]
     },
     "execution_count": 144,
     "metadata": {},
     "output_type": "execute_result"
    }
   ],
   "source": [
    "arr2[0:5]"
   ]
  },
  {
   "cell_type": "code",
   "execution_count": 145,
   "id": "6a17522f-a8f6-4e19-8e1a-097796476959",
   "metadata": {},
   "outputs": [
    {
     "data": {
      "text/plain": [
       "array([0, 1, 2, 3])"
      ]
     },
     "execution_count": 145,
     "metadata": {},
     "output_type": "execute_result"
    }
   ],
   "source": [
    "arr[:4]"
   ]
  },
  {
   "cell_type": "code",
   "execution_count": 142,
   "id": "fc451f16-5033-40b8-9996-307a02e25784",
   "metadata": {},
   "outputs": [
    {
     "data": {
      "text/plain": [
       "array([[23, 95, 94, 76, 28, 46, 79, 11,  2,  8],\n",
       "       [94, 87, 94, 34, 66,  6, 16, 17, 12, 48],\n",
       "       [44,  3,  5, 27, 15, 44, 34, 23, 33, 13],\n",
       "       [29, 43, 87, 51, 43, 40, 53, 72, 56, 37]])"
      ]
     },
     "execution_count": 142,
     "metadata": {},
     "output_type": "execute_result"
    }
   ],
   "source": [
    "arr2[:4]\n"
   ]
  },
  {
   "cell_type": "code",
   "execution_count": 146,
   "id": "460e8c83-3348-4d76-b225-dc9c6f9ec4e3",
   "metadata": {},
   "outputs": [
    {
     "data": {
      "text/plain": [
       "array([[23, 95, 94, 76, 28, 46, 79, 11,  2,  8],\n",
       "       [94, 87, 94, 34, 66,  6, 16, 17, 12, 48],\n",
       "       [44,  3,  5, 27, 15, 44, 34, 23, 33, 13],\n",
       "       [29, 43, 87, 51, 43, 40, 53, 72, 56, 37],\n",
       "       [49, 44, 95, 97, 72, 71, 73, 29, 25, 43],\n",
       "       [53, 51, 42,  8, 39, 86,  0,  0, 52, 54],\n",
       "       [44, 63, 49, 74,  4, 61,  7, 70, 12, 85],\n",
       "       [ 9, 81, 92, 17, 95, 42, 47, 43, 91, 71],\n",
       "       [84, 38, 88, 68, 68, 98, 30, 49, 18, 62],\n",
       "       [35, 48, 83, 89, 10, 92, 57,  9, 44, 12]])"
      ]
     },
     "execution_count": 146,
     "metadata": {},
     "output_type": "execute_result"
    }
   ],
   "source": [
    "arr2[:]"
   ]
  },
  {
   "cell_type": "code",
   "execution_count": 147,
   "id": "cbfe3c22-f8ec-440f-a52b-6324dc642c7b",
   "metadata": {},
   "outputs": [
    {
     "data": {
      "text/plain": [
       "array([[23, 95, 94, 76, 28, 46, 79, 11,  2,  8],\n",
       "       [94, 87, 94, 34, 66,  6, 16, 17, 12, 48],\n",
       "       [44,  3,  5, 27, 15, 44, 34, 23, 33, 13],\n",
       "       [29, 43, 87, 51, 43, 40, 53, 72, 56, 37],\n",
       "       [49, 44, 95, 97, 72, 71, 73, 29, 25, 43]])"
      ]
     },
     "execution_count": 147,
     "metadata": {},
     "output_type": "execute_result"
    }
   ],
   "source": [
    "arr2[0:5]"
   ]
  },
  {
   "cell_type": "code",
   "execution_count": 151,
   "id": "f30663d3-17e1-4117-ae91-329b6ae652cf",
   "metadata": {},
   "outputs": [
    {
     "data": {
      "text/plain": [
       "array([[23, 95, 94, 76, 28, 46, 79, 11,  2,  8],\n",
       "       [94, 87, 94, 34, 66,  6, 16, 17, 12, 48],\n",
       "       [44,  3,  5, 27, 15, 44, 34, 23, 33, 13],\n",
       "       [29, 43, 87, 51, 43, 40, 53, 72, 56, 37],\n",
       "       [49, 44, 95, 97, 72, 71, 73, 29, 25, 43],\n",
       "       [53, 51, 42,  8, 39, 86,  0,  0, 52, 54],\n",
       "       [44, 63, 49, 74,  4, 61,  7, 70, 12, 85],\n",
       "       [ 9, 81, 92, 17, 95, 42, 47, 43, 91, 71],\n",
       "       [84, 38, 88, 68, 68, 98, 30, 49, 18, 62],\n",
       "       [35, 48, 83, 89, 10, 92, 57,  9, 44, 12]])"
      ]
     },
     "execution_count": 151,
     "metadata": {},
     "output_type": "execute_result"
    }
   ],
   "source": [
    "arr2"
   ]
  },
  {
   "cell_type": "code",
   "execution_count": 149,
   "id": "4f6f29fb-23f3-455b-92cf-067580432d64",
   "metadata": {},
   "outputs": [
    {
     "data": {
      "text/plain": [
       "6"
      ]
     },
     "execution_count": 149,
     "metadata": {},
     "output_type": "execute_result"
    }
   ],
   "source": [
    "arr2[1,5]"
   ]
  },
  {
   "cell_type": "code",
   "execution_count": 150,
   "id": "e0c4b246-b641-4451-9321-988627385092",
   "metadata": {},
   "outputs": [
    {
     "data": {
      "text/plain": [
       "66"
      ]
     },
     "execution_count": 150,
     "metadata": {},
     "output_type": "execute_result"
    }
   ],
   "source": [
    "arr2[1,4]"
   ]
  },
  {
   "cell_type": "code",
   "execution_count": 152,
   "id": "8eb58bf0-e4e0-42fd-b71e-bbb5feb9543b",
   "metadata": {},
   "outputs": [
    {
     "data": {
      "text/plain": [
       "98"
      ]
     },
     "execution_count": 152,
     "metadata": {},
     "output_type": "execute_result"
    }
   ],
   "source": [
    "arr2[-2,5]"
   ]
  },
  {
   "cell_type": "code",
   "execution_count": 153,
   "id": "31ae1a2e-5f9e-491d-a9b2-d593554494d8",
   "metadata": {},
   "outputs": [
    {
     "data": {
      "text/plain": [
       "61"
      ]
     },
     "execution_count": 153,
     "metadata": {},
     "output_type": "execute_result"
    }
   ],
   "source": [
    "arr2[-4,5]"
   ]
  },
  {
   "cell_type": "code",
   "execution_count": 154,
   "id": "20cb7f49-89e2-4824-ad9e-81171dfb71b7",
   "metadata": {},
   "outputs": [
    {
     "data": {
      "text/plain": [
       "44"
      ]
     },
     "execution_count": 154,
     "metadata": {},
     "output_type": "execute_result"
    }
   ],
   "source": [
    "arr2[-1,-2]"
   ]
  },
  {
   "cell_type": "code",
   "execution_count": 156,
   "id": "76f03960-d5fe-4f17-a2a1-5a9b8695b38b",
   "metadata": {},
   "outputs": [
    {
     "data": {
      "text/plain": [
       "array([[23, 95, 94, 76, 28, 46, 79, 11,  2,  8],\n",
       "       [94, 87, 94, 34, 66,  6, 16, 17, 12, 48],\n",
       "       [44,  3,  5, 27, 15, 44, 34, 23, 33, 13],\n",
       "       [29, 43, 87, 51, 43, 40, 53, 72, 56, 37],\n",
       "       [49, 44, 95, 97, 72, 71, 73, 29, 25, 43],\n",
       "       [53, 51, 42,  8, 39, 86,  0,  0, 52, 54],\n",
       "       [44, 63, 49, 74,  4, 61,  7, 70, 12, 85],\n",
       "       [ 9, 81, 92, 17, 95, 42, 47, 43, 91, 71],\n",
       "       [84, 38, 88, 68, 68, 98, 30, 49, 18, 62],\n",
       "       [35, 48, 83, 89, 10, 92, 57,  9, 44, 12]])"
      ]
     },
     "execution_count": 156,
     "metadata": {},
     "output_type": "execute_result"
    }
   ],
   "source": [
    "arr2"
   ]
  },
  {
   "cell_type": "code",
   "execution_count": 155,
   "id": "74b54ebc-60bd-4210-9c4d-fd450817f9cb",
   "metadata": {},
   "outputs": [
    {
     "data": {
      "text/plain": [
       "array([[35, 48, 83, 89, 10, 92, 57,  9, 44, 12],\n",
       "       [84, 38, 88, 68, 68, 98, 30, 49, 18, 62],\n",
       "       [ 9, 81, 92, 17, 95, 42, 47, 43, 91, 71],\n",
       "       [44, 63, 49, 74,  4, 61,  7, 70, 12, 85],\n",
       "       [53, 51, 42,  8, 39, 86,  0,  0, 52, 54],\n",
       "       [49, 44, 95, 97, 72, 71, 73, 29, 25, 43],\n",
       "       [29, 43, 87, 51, 43, 40, 53, 72, 56, 37],\n",
       "       [44,  3,  5, 27, 15, 44, 34, 23, 33, 13],\n",
       "       [94, 87, 94, 34, 66,  6, 16, 17, 12, 48],\n",
       "       [23, 95, 94, 76, 28, 46, 79, 11,  2,  8]])"
      ]
     },
     "execution_count": 155,
     "metadata": {},
     "output_type": "execute_result"
    }
   ],
   "source": [
    "arr2[::-1]     #reverse the matrix"
   ]
  },
  {
   "cell_type": "code",
   "execution_count": 157,
   "id": "a4be3154-04da-481f-9e28-c7dff47d0730",
   "metadata": {},
   "outputs": [
    {
     "data": {
      "text/plain": [
       "array([[35, 48, 83, 89, 10, 92, 57,  9, 44, 12],\n",
       "       [ 9, 81, 92, 17, 95, 42, 47, 43, 91, 71],\n",
       "       [53, 51, 42,  8, 39, 86,  0,  0, 52, 54],\n",
       "       [29, 43, 87, 51, 43, 40, 53, 72, 56, 37],\n",
       "       [94, 87, 94, 34, 66,  6, 16, 17, 12, 48]])"
      ]
     },
     "execution_count": 157,
     "metadata": {},
     "output_type": "execute_result"
    }
   ],
   "source": [
    "arr2[::-2]"
   ]
  },
  {
   "cell_type": "code",
   "execution_count": 158,
   "id": "7895988c-551a-4749-9cdc-d4fe46ec2d4c",
   "metadata": {},
   "outputs": [
    {
     "data": {
      "text/plain": [
       "array([[35, 48, 83, 89, 10, 92, 57,  9, 44, 12],\n",
       "       [44, 63, 49, 74,  4, 61,  7, 70, 12, 85],\n",
       "       [29, 43, 87, 51, 43, 40, 53, 72, 56, 37],\n",
       "       [23, 95, 94, 76, 28, 46, 79, 11,  2,  8]])"
      ]
     },
     "execution_count": 158,
     "metadata": {},
     "output_type": "execute_result"
    }
   ],
   "source": [
    "arr2[::-3]"
   ]
  },
  {
   "cell_type": "code",
   "execution_count": 159,
   "id": "05b06e6c-e464-4486-9118-3ef497a92a12",
   "metadata": {},
   "outputs": [
    {
     "data": {
      "text/plain": [
       "array([[23, 95, 94, 76, 28, 46, 79, 11,  2,  8],\n",
       "       [94, 87, 94, 34, 66,  6, 16, 17, 12, 48],\n",
       "       [44,  3,  5, 27, 15, 44, 34, 23, 33, 13],\n",
       "       [29, 43, 87, 51, 43, 40, 53, 72, 56, 37],\n",
       "       [49, 44, 95, 97, 72, 71, 73, 29, 25, 43],\n",
       "       [53, 51, 42,  8, 39, 86,  0,  0, 52, 54],\n",
       "       [44, 63, 49, 74,  4, 61,  7, 70, 12, 85],\n",
       "       [ 9, 81, 92, 17, 95, 42, 47, 43, 91, 71],\n",
       "       [84, 38, 88, 68, 68, 98, 30, 49, 18, 62],\n",
       "       [35, 48, 83, 89, 10, 92, 57,  9, 44, 12]])"
      ]
     },
     "execution_count": 159,
     "metadata": {},
     "output_type": "execute_result"
    }
   ],
   "source": [
    "arr2"
   ]
  },
  {
   "cell_type": "code",
   "execution_count": 160,
   "id": "f824b5ac-bd1b-4c1e-a98b-d3d7211c999a",
   "metadata": {},
   "outputs": [
    {
     "data": {
      "text/plain": [
       "array([[23, 95, 94, 76, 28, 46, 79, 11,  2,  8],\n",
       "       [94, 87, 94, 34, 66,  6, 16, 17, 12, 48],\n",
       "       [44,  3,  5, 27, 15, 44, 34, 23, 33, 13],\n",
       "       [29, 43, 87, 51, 43, 40, 53, 72, 56, 37],\n",
       "       [49, 44, 95, 97, 72, 71, 73, 29, 25, 43],\n",
       "       [53, 51, 42,  8, 39, 86,  0,  0, 52, 54],\n",
       "       [44, 63, 49, 74,  4, 61,  7, 70, 12, 85]])"
      ]
     },
     "execution_count": 160,
     "metadata": {},
     "output_type": "execute_result"
    }
   ],
   "source": [
    "arr2[:-3]"
   ]
  },
  {
   "cell_type": "code",
   "execution_count": 162,
   "id": "c7d4b3a9-88dc-47f1-ab18-d225ad5a8433",
   "metadata": {},
   "outputs": [
    {
     "data": {
      "text/plain": [
       "array([[44,  3,  5, 27, 15, 44, 34, 23, 33, 13],\n",
       "       [29, 43, 87, 51, 43, 40, 53, 72, 56, 37],\n",
       "       [49, 44, 95, 97, 72, 71, 73, 29, 25, 43],\n",
       "       [53, 51, 42,  8, 39, 86,  0,  0, 52, 54],\n",
       "       [44, 63, 49, 74,  4, 61,  7, 70, 12, 85],\n",
       "       [ 9, 81, 92, 17, 95, 42, 47, 43, 91, 71],\n",
       "       [84, 38, 88, 68, 68, 98, 30, 49, 18, 62],\n",
       "       [35, 48, 83, 89, 10, 92, 57,  9, 44, 12]])"
      ]
     },
     "execution_count": 162,
     "metadata": {},
     "output_type": "execute_result"
    }
   ],
   "source": [
    "arr2[2:]"
   ]
  },
  {
   "cell_type": "code",
   "execution_count": 164,
   "id": "ce4b06b5-af72-43ab-9153-6227fc8c7622",
   "metadata": {},
   "outputs": [
    {
     "data": {
      "text/plain": [
       "array([0, 1, 2, 3, 4, 5])"
      ]
     },
     "execution_count": 164,
     "metadata": {},
     "output_type": "execute_result"
    }
   ],
   "source": [
    "arr"
   ]
  },
  {
   "cell_type": "code",
   "execution_count": 166,
   "id": "148b524e-6232-40fc-9371-56b75725860d",
   "metadata": {},
   "outputs": [
    {
     "data": {
      "text/plain": [
       "5"
      ]
     },
     "execution_count": 166,
     "metadata": {},
     "output_type": "execute_result"
    }
   ],
   "source": [
    "arr.max()"
   ]
  },
  {
   "cell_type": "code",
   "execution_count": 167,
   "id": "251f4850-bf4e-4f15-b9a0-14b00dc3f6dd",
   "metadata": {},
   "outputs": [
    {
     "data": {
      "text/plain": [
       "0"
      ]
     },
     "execution_count": 167,
     "metadata": {},
     "output_type": "execute_result"
    }
   ],
   "source": [
    "arr.min()"
   ]
  },
  {
   "cell_type": "code",
   "execution_count": 168,
   "id": "de70ff35-9f16-4b5e-b4a0-747ef088efd7",
   "metadata": {},
   "outputs": [
    {
     "data": {
      "text/plain": [
       "2.5"
      ]
     },
     "execution_count": 168,
     "metadata": {},
     "output_type": "execute_result"
    }
   ],
   "source": [
    "arr.mean()"
   ]
  },
  {
   "cell_type": "code",
   "execution_count": 169,
   "id": "32f7e6cf-0266-459f-9040-5b4b711c780e",
   "metadata": {},
   "outputs": [
    {
     "data": {
      "text/plain": [
       "array([0, 1, 2, 3, 4, 5])"
      ]
     },
     "execution_count": 169,
     "metadata": {},
     "output_type": "execute_result"
    }
   ],
   "source": [
    "arr"
   ]
  },
  {
   "cell_type": "code",
   "execution_count": 178,
   "id": "66e546cf-1caf-4399-99a1-6108d7866e8f",
   "metadata": {},
   "outputs": [
    {
     "ename": "AttributeError",
     "evalue": "'numpy.ndarray' object has no attribute 'median'",
     "output_type": "error",
     "traceback": [
      "\u001b[1;31m---------------------------------------------------------------------------\u001b[0m",
      "\u001b[1;31mAttributeError\u001b[0m                            Traceback (most recent call last)",
      "Cell \u001b[1;32mIn[178], line 1\u001b[0m\n\u001b[1;32m----> 1\u001b[0m arr\u001b[38;5;241m.\u001b[39mmedian()\n",
      "\u001b[1;31mAttributeError\u001b[0m: 'numpy.ndarray' object has no attribute 'median'"
     ]
    }
   ],
   "source": [
    "arr.median()    ########\n"
   ]
  },
  {
   "cell_type": "code",
   "execution_count": 179,
   "id": "73b2d9df-6c18-4655-95a8-674a954f4de5",
   "metadata": {},
   "outputs": [
    {
     "data": {
      "text/plain": [
       "3.0"
      ]
     },
     "execution_count": 179,
     "metadata": {},
     "output_type": "execute_result"
    }
   ],
   "source": [
    "from numpy import *\n",
    "a=array([1,2,3,4,5])\n",
    "median(a)"
   ]
  },
  {
   "cell_type": "code",
   "execution_count": 177,
   "id": "02611e72-2a28-4590-83d8-720947135a7d",
   "metadata": {},
   "outputs": [],
   "source": [
    "##   WIYHOUT WORK ON IMPORT*CAN YOU FIND THE MEDIAN ,MODE"
   ]
  },
  {
   "cell_type": "code",
   "execution_count": 180,
   "id": "c6f3ede5-a063-4871-b36a-964ea795f729",
   "metadata": {},
   "outputs": [
    {
     "data": {
      "text/plain": [
       "array([0, 1, 2, 3, 4, 5])"
      ]
     },
     "execution_count": 180,
     "metadata": {},
     "output_type": "execute_result"
    }
   ],
   "source": [
    "arr"
   ]
  },
  {
   "cell_type": "code",
   "execution_count": 181,
   "id": "3285611e-fad3-423e-9fd1-433cb70f8e9d",
   "metadata": {},
   "outputs": [
    {
     "data": {
      "text/plain": [
       "array([[0, 1],\n",
       "       [2, 3],\n",
       "       [4, 5]])"
      ]
     },
     "execution_count": 181,
     "metadata": {},
     "output_type": "execute_result"
    }
   ],
   "source": [
    "arr.reshape(3,2)"
   ]
  },
  {
   "cell_type": "code",
   "execution_count": 184,
   "id": "3e05ccaf-5010-4d01-9f11-c8a1ef60a4cc",
   "metadata": {},
   "outputs": [
    {
     "data": {
      "text/plain": [
       "array([[0, 1, 2],\n",
       "       [3, 4, 5]])"
      ]
     },
     "execution_count": 184,
     "metadata": {},
     "output_type": "execute_result"
    }
   ],
   "source": [
    "arr.reshape(2,3)"
   ]
  },
  {
   "cell_type": "code",
   "execution_count": 204,
   "id": "4d229b56-2fa7-4e97-8ef6-1b647a297db6",
   "metadata": {},
   "outputs": [
    {
     "data": {
      "text/plain": [
       "array([[0, 1, 2, 3, 4, 5]])"
      ]
     },
     "execution_count": 204,
     "metadata": {},
     "output_type": "execute_result"
    }
   ],
   "source": [
    "arr.reshape(1,6)"
   ]
  },
  {
   "cell_type": "code",
   "execution_count": 205,
   "id": "25339fa7-9b71-4601-a5e0-81fd5d9ef044",
   "metadata": {},
   "outputs": [
    {
     "ename": "ValueError",
     "evalue": "cannot reshape array of size 6 into shape (2,4)",
     "output_type": "error",
     "traceback": [
      "\u001b[1;31m---------------------------------------------------------------------------\u001b[0m",
      "\u001b[1;31mValueError\u001b[0m                                Traceback (most recent call last)",
      "Cell \u001b[1;32mIn[205], line 1\u001b[0m\n\u001b[1;32m----> 1\u001b[0m arr\u001b[38;5;241m.\u001b[39mreshape(\u001b[38;5;241m2\u001b[39m,\u001b[38;5;241m4\u001b[39m)\n",
      "\u001b[1;31mValueError\u001b[0m: cannot reshape array of size 6 into shape (2,4)"
     ]
    }
   ],
   "source": [
    "arr.reshape(2,4)"
   ]
  },
  {
   "cell_type": "code",
   "execution_count": 211,
   "id": "a2e680c9-224e-41db-9d12-d9a61a26ec9f",
   "metadata": {},
   "outputs": [
    {
     "ename": "ValueError",
     "evalue": "cannot reshape array of size 6 into shape (3,1)",
     "output_type": "error",
     "traceback": [
      "\u001b[1;31m---------------------------------------------------------------------------\u001b[0m",
      "\u001b[1;31mValueError\u001b[0m                                Traceback (most recent call last)",
      "Cell \u001b[1;32mIn[211], line 1\u001b[0m\n\u001b[1;32m----> 1\u001b[0m arr\u001b[38;5;241m.\u001b[39mreshape(\u001b[38;5;241m3\u001b[39m,\u001b[38;5;241m1\u001b[39m)\n",
      "\u001b[1;31mValueError\u001b[0m: cannot reshape array of size 6 into shape (3,1)"
     ]
    }
   ],
   "source": [
    "arr.reshape(3,1)"
   ]
  },
  {
   "cell_type": "code",
   "execution_count": 190,
   "id": "1351f13c-f1c6-47e8-8b20-f0be6980c94c",
   "metadata": {},
   "outputs": [
    {
     "data": {
      "text/plain": [
       "array([[0, 1, 2],\n",
       "       [3, 4, 5]])"
      ]
     },
     "execution_count": 190,
     "metadata": {},
     "output_type": "execute_result"
    }
   ],
   "source": [
    "arr.reshape(2,3,order='C')"
   ]
  },
  {
   "cell_type": "code",
   "execution_count": 191,
   "id": "470da166-56da-4339-8bbd-90ee6874b513",
   "metadata": {},
   "outputs": [
    {
     "data": {
      "text/plain": [
       "array([[0, 2, 4],\n",
       "       [1, 3, 5]])"
      ]
     },
     "execution_count": 191,
     "metadata": {},
     "output_type": "execute_result"
    }
   ],
   "source": [
    "arr.reshape(2,3,order='F') #print element with"
   ]
  },
  {
   "cell_type": "code",
   "execution_count": 192,
   "id": "7f2b2544-1a2d-43f8-b398-e84730cf6640",
   "metadata": {},
   "outputs": [
    {
     "data": {
      "text/plain": [
       "array([[0, 1, 2],\n",
       "       [3, 4, 5]])"
      ]
     },
     "execution_count": 192,
     "metadata": {},
     "output_type": "execute_result"
    }
   ],
   "source": [
    "arr.reshape(2,3,order='A')"
   ]
  },
  {
   "cell_type": "code",
   "execution_count": 193,
   "id": "4de41700-7161-4373-8d47-3299dd5d2865",
   "metadata": {},
   "outputs": [
    {
     "data": {
      "text/plain": [
       "array([0, 1, 2, 3, 4, 5])"
      ]
     },
     "execution_count": 193,
     "metadata": {},
     "output_type": "execute_result"
    }
   ],
   "source": [
    "arr"
   ]
  },
  {
   "cell_type": "code",
   "execution_count": 194,
   "id": "e6fa12e6-0339-41a1-b220-48ad2bbef498",
   "metadata": {},
   "outputs": [
    {
     "data": {
      "text/plain": [
       "array([[0, 1, 2],\n",
       "       [3, 4, 5]])"
      ]
     },
     "execution_count": 194,
     "metadata": {},
     "output_type": "execute_result"
    }
   ],
   "source": [
    "arr.reshape(2,3)"
   ]
  },
  {
   "cell_type": "code",
   "execution_count": null,
   "id": "9670eeb9-17e9-4c64-96ff-5f5f6de51810",
   "metadata": {},
   "outputs": [],
   "source": [
    "##   INDEXING"
   ]
  },
  {
   "cell_type": "code",
   "execution_count": 213,
   "id": "70767664-2c6f-4d09-a968-0f209ba01bd0",
   "metadata": {},
   "outputs": [
    {
     "data": {
      "text/plain": [
       "array([[ 0,  1,  2,  3,  4,  5,  6,  7,  8,  9],\n",
       "       [10, 11, 12, 13, 14, 15, 16, 17, 18, 19],\n",
       "       [20, 21, 22, 23, 24, 25, 26, 27, 28, 29],\n",
       "       [30, 31, 32, 33, 34, 35, 36, 37, 38, 39],\n",
       "       [40, 41, 42, 43, 44, 45, 46, 47, 48, 49],\n",
       "       [50, 51, 52, 53, 54, 55, 56, 57, 58, 59],\n",
       "       [60, 61, 62, 63, 64, 65, 66, 67, 68, 69],\n",
       "       [70, 71, 72, 73, 74, 75, 76, 77, 78, 79],\n",
       "       [80, 81, 82, 83, 84, 85, 86, 87, 88, 89],\n",
       "       [90, 91, 92, 93, 94, 95, 96, 97, 98, 99]])"
      ]
     },
     "execution_count": 213,
     "metadata": {},
     "output_type": "execute_result"
    }
   ],
   "source": [
    "mat=np.arange(0,100).reshape(10,10)\n",
    "mat"
   ]
  },
  {
   "cell_type": "code",
   "execution_count": 214,
   "id": "583473bb-6f5e-45c9-9218-31d9ec2d44ee",
   "metadata": {},
   "outputs": [],
   "source": [
    "row=4\n",
    "col=5"
   ]
  },
  {
   "cell_type": "code",
   "execution_count": 215,
   "id": "f53b8134-41bf-4335-9100-650c939967e7",
   "metadata": {},
   "outputs": [
    {
     "data": {
      "text/plain": [
       "4"
      ]
     },
     "execution_count": 215,
     "metadata": {},
     "output_type": "execute_result"
    }
   ],
   "source": [
    "row"
   ]
  },
  {
   "cell_type": "code",
   "execution_count": 216,
   "id": "ad8f5831-2f79-48f4-84e4-03cbfd74456b",
   "metadata": {},
   "outputs": [
    {
     "data": {
      "text/plain": [
       "5"
      ]
     },
     "execution_count": 216,
     "metadata": {},
     "output_type": "execute_result"
    }
   ],
   "source": [
    "col"
   ]
  },
  {
   "cell_type": "code",
   "execution_count": 217,
   "id": "d2ca6502-f01a-4df3-b2db-69f0631cffa8",
   "metadata": {},
   "outputs": [
    {
     "data": {
      "text/plain": [
       "array([[ 0,  1,  2,  3,  4,  5,  6,  7,  8,  9],\n",
       "       [10, 11, 12, 13, 14, 15, 16, 17, 18, 19],\n",
       "       [20, 21, 22, 23, 24, 25, 26, 27, 28, 29],\n",
       "       [30, 31, 32, 33, 34, 35, 36, 37, 38, 39],\n",
       "       [40, 41, 42, 43, 44, 45, 46, 47, 48, 49],\n",
       "       [50, 51, 52, 53, 54, 55, 56, 57, 58, 59],\n",
       "       [60, 61, 62, 63, 64, 65, 66, 67, 68, 69],\n",
       "       [70, 71, 72, 73, 74, 75, 76, 77, 78, 79],\n",
       "       [80, 81, 82, 83, 84, 85, 86, 87, 88, 89],\n",
       "       [90, 91, 92, 93, 94, 95, 96, 97, 98, 99]])"
      ]
     },
     "execution_count": 217,
     "metadata": {},
     "output_type": "execute_result"
    }
   ],
   "source": [
    "mat"
   ]
  },
  {
   "cell_type": "code",
   "execution_count": 218,
   "id": "23549065-36e0-42d4-a49c-dab92a4bf218",
   "metadata": {},
   "outputs": [
    {
     "data": {
      "text/plain": [
       "45"
      ]
     },
     "execution_count": 218,
     "metadata": {},
     "output_type": "execute_result"
    }
   ],
   "source": [
    "mat[row,col]"
   ]
  },
  {
   "cell_type": "code",
   "execution_count": 219,
   "id": "e2a9c0e4-a1e0-4374-8f82-98e5e43ab5e8",
   "metadata": {},
   "outputs": [
    {
     "data": {
      "text/plain": [
       "45"
      ]
     },
     "execution_count": 219,
     "metadata": {},
     "output_type": "execute_result"
    }
   ],
   "source": [
    "mat[4,5]"
   ]
  },
  {
   "cell_type": "code",
   "execution_count": 221,
   "id": "09c706d2-af76-4466-8365-21240c37e286",
   "metadata": {},
   "outputs": [
    {
     "data": {
      "text/plain": [
       "array([60, 61, 62, 63, 64, 65, 66, 67, 68, 69])"
      ]
     },
     "execution_count": 221,
     "metadata": {},
     "output_type": "execute_result"
    }
   ],
   "source": [
    "mat[6] # defoult represent row"
   ]
  },
  {
   "cell_type": "code",
   "execution_count": 222,
   "id": "faa0b313-2cfb-4729-8705-60d3ef4a379f",
   "metadata": {},
   "outputs": [
    {
     "data": {
      "text/plain": [
       "array([[ 0,  1,  2,  3,  4,  5,  6,  7,  8,  9],\n",
       "       [10, 11, 12, 13, 14, 15, 16, 17, 18, 19],\n",
       "       [20, 21, 22, 23, 24, 25, 26, 27, 28, 29],\n",
       "       [30, 31, 32, 33, 34, 35, 36, 37, 38, 39],\n",
       "       [40, 41, 42, 43, 44, 45, 46, 47, 48, 49],\n",
       "       [50, 51, 52, 53, 54, 55, 56, 57, 58, 59],\n",
       "       [60, 61, 62, 63, 64, 65, 66, 67, 68, 69],\n",
       "       [70, 71, 72, 73, 74, 75, 76, 77, 78, 79],\n",
       "       [80, 81, 82, 83, 84, 85, 86, 87, 88, 89],\n",
       "       [90, 91, 92, 93, 94, 95, 96, 97, 98, 99]])"
      ]
     },
     "execution_count": 222,
     "metadata": {},
     "output_type": "execute_result"
    }
   ],
   "source": [
    "mat"
   ]
  },
  {
   "cell_type": "code",
   "execution_count": 224,
   "id": "1de83da7-958c-43c9-b7b8-a513f90b9085",
   "metadata": {},
   "outputs": [
    {
     "data": {
      "text/plain": [
       "array([40, 41, 42, 43, 44, 45, 46, 47, 48, 49])"
      ]
     },
     "execution_count": 224,
     "metadata": {},
     "output_type": "execute_result"
    }
   ],
   "source": [
    "mat[row,:]"
   ]
  },
  {
   "cell_type": "code",
   "execution_count": 225,
   "id": "df872bdf-cf86-437a-b6c6-8466876ea94e",
   "metadata": {},
   "outputs": [
    {
     "data": {
      "text/plain": [
       "array([[22, 23],\n",
       "       [32, 33],\n",
       "       [42, 43],\n",
       "       [52, 53]])"
      ]
     },
     "execution_count": 225,
     "metadata": {},
     "output_type": "execute_result"
    }
   ],
   "source": [
    "mat[2:6:,2:4] #1:4"
   ]
  },
  {
   "cell_type": "code",
   "execution_count": 226,
   "id": "fb7b4f78-afb0-4a40-a4dc-851a8bea17b7",
   "metadata": {},
   "outputs": [
    {
     "data": {
      "text/plain": [
       "array([[12, 13],\n",
       "       [22, 23],\n",
       "       [32, 33],\n",
       "       [42, 43],\n",
       "       [52, 53]])"
      ]
     },
     "execution_count": 226,
     "metadata": {},
     "output_type": "execute_result"
    }
   ],
   "source": [
    "mat[1:6:,2:4] "
   ]
  },
  {
   "cell_type": "code",
   "execution_count": 234,
   "id": "a61f0e3e-53b6-4d23-b4fc-684a9304974a",
   "metadata": {},
   "outputs": [
    {
     "data": {
      "text/plain": [
       "array([[22]])"
      ]
     },
     "execution_count": 234,
     "metadata": {},
     "output_type": "execute_result"
    }
   ],
   "source": [
    "mat[2:3,2:3] "
   ]
  },
  {
   "cell_type": "code",
   "execution_count": 231,
   "id": "1cc91512-f784-43f8-aa01-9b92cac25eca",
   "metadata": {},
   "outputs": [
    {
     "data": {
      "text/plain": [
       "array([[ 0,  1,  2,  3,  4,  5,  6,  7,  8,  9],\n",
       "       [10, 11, 12, 13, 14, 15, 16, 17, 18, 19],\n",
       "       [20, 21, 22, 23, 24, 25, 26, 27, 28, 29],\n",
       "       [30, 31, 32, 33, 34, 35, 36, 37, 38, 39],\n",
       "       [40, 41, 42, 43, 44, 45, 46, 47, 48, 49],\n",
       "       [50, 51, 52, 53, 54, 55, 56, 57, 58, 59],\n",
       "       [60, 61, 62, 63, 64, 65, 66, 67, 68, 69],\n",
       "       [70, 71, 72, 73, 74, 75, 76, 77, 78, 79],\n",
       "       [80, 81, 82, 83, 84, 85, 86, 87, 88, 89],\n",
       "       [90, 91, 92, 93, 94, 95, 96, 97, 98, 99]])"
      ]
     },
     "execution_count": 231,
     "metadata": {},
     "output_type": "execute_result"
    }
   ],
   "source": [
    "mat"
   ]
  },
  {
   "cell_type": "code",
   "execution_count": 232,
   "id": "47006db9-65a7-4137-9053-c46cd9162567",
   "metadata": {},
   "outputs": [
    {
     "data": {
      "text/plain": [
       "array([[12, 13],\n",
       "       [22, 23],\n",
       "       [32, 33],\n",
       "       [42, 43],\n",
       "       [52, 53]])"
      ]
     },
     "execution_count": 232,
     "metadata": {},
     "output_type": "execute_result"
    }
   ],
   "source": [
    "mat[1:6,2:4]"
   ]
  },
  {
   "cell_type": "code",
   "execution_count": 233,
   "id": "c72df030-0d7a-4689-baca-0186e55902db",
   "metadata": {},
   "outputs": [
    {
     "data": {
      "text/plain": [
       "array([[12, 13]])"
      ]
     },
     "execution_count": 233,
     "metadata": {},
     "output_type": "execute_result"
    }
   ],
   "source": [
    "mat[1:2,2:4]"
   ]
  },
  {
   "cell_type": "code",
   "execution_count": 236,
   "id": "d443a779-e0e8-4483-b5f7-d1c3ca8467ab",
   "metadata": {},
   "outputs": [
    {
     "data": {
      "text/plain": [
       "array([[12, 13],\n",
       "       [22, 23]])"
      ]
     },
     "execution_count": 236,
     "metadata": {},
     "output_type": "execute_result"
    }
   ],
   "source": [
    "mat[1:3,2:4]"
   ]
  },
  {
   "cell_type": "code",
   "execution_count": 237,
   "id": "7acf3910-438f-4337-9895-0d4e4ea1e1a3",
   "metadata": {},
   "outputs": [
    {
     "data": {
      "text/plain": [
       "array([[33, 34],\n",
       "       [43, 44]])"
      ]
     },
     "execution_count": 237,
     "metadata": {},
     "output_type": "execute_result"
    }
   ],
   "source": [
    "mat[3:5,3:5]"
   ]
  },
  {
   "cell_type": "code",
   "execution_count": null,
   "id": "666f8722-d3bd-4566-a54e-924836b60d98",
   "metadata": {},
   "outputs": [],
   "source": [
    "##  MASKING"
   ]
  },
  {
   "cell_type": "code",
   "execution_count": 238,
   "id": "fc5ae0d8-e6ae-4c68-8012-3caa59f265ee",
   "metadata": {},
   "outputs": [
    {
     "data": {
      "text/plain": [
       "array([[ 0,  1,  2,  3,  4,  5,  6,  7,  8,  9],\n",
       "       [10, 11, 12, 13, 14, 15, 16, 17, 18, 19],\n",
       "       [20, 21, 22, 23, 24, 25, 26, 27, 28, 29],\n",
       "       [30, 31, 32, 33, 34, 35, 36, 37, 38, 39],\n",
       "       [40, 41, 42, 43, 44, 45, 46, 47, 48, 49],\n",
       "       [50, 51, 52, 53, 54, 55, 56, 57, 58, 59],\n",
       "       [60, 61, 62, 63, 64, 65, 66, 67, 68, 69],\n",
       "       [70, 71, 72, 73, 74, 75, 76, 77, 78, 79],\n",
       "       [80, 81, 82, 83, 84, 85, 86, 87, 88, 89],\n",
       "       [90, 91, 92, 93, 94, 95, 96, 97, 98, 99]])"
      ]
     },
     "execution_count": 238,
     "metadata": {},
     "output_type": "execute_result"
    }
   ],
   "source": [
    "mat  # called as filter"
   ]
  },
  {
   "cell_type": "code",
   "execution_count": 239,
   "id": "e2f9f01f-0661-41d2-89ed-9ce965ac6a94",
   "metadata": {},
   "outputs": [
    {
     "data": {
      "text/plain": [
       "1774617161584"
      ]
     },
     "execution_count": 239,
     "metadata": {},
     "output_type": "execute_result"
    }
   ],
   "source": [
    "id(mat)"
   ]
  },
  {
   "cell_type": "code",
   "execution_count": 241,
   "id": "775b8f6e-076d-416d-a253-d218622fa35c",
   "metadata": {},
   "outputs": [
    {
     "data": {
      "text/plain": [
       "array([[ True,  True,  True,  True,  True,  True,  True,  True,  True,\n",
       "         True],\n",
       "       [ True,  True,  True,  True,  True,  True,  True,  True,  True,\n",
       "         True],\n",
       "       [ True,  True,  True,  True,  True,  True,  True,  True,  True,\n",
       "         True],\n",
       "       [ True,  True,  True,  True,  True,  True,  True,  True,  True,\n",
       "         True],\n",
       "       [ True,  True,  True,  True,  True,  True,  True,  True,  True,\n",
       "         True],\n",
       "       [False, False, False, False, False, False, False, False, False,\n",
       "        False],\n",
       "       [False, False, False, False, False, False, False, False, False,\n",
       "        False],\n",
       "       [False, False, False, False, False, False, False, False, False,\n",
       "        False],\n",
       "       [False, False, False, False, False, False, False, False, False,\n",
       "        False],\n",
       "       [False, False, False, False, False, False, False, False, False,\n",
       "        False]])"
      ]
     },
     "execution_count": 241,
     "metadata": {},
     "output_type": "execute_result"
    }
   ],
   "source": [
    "mat<50"
   ]
  },
  {
   "cell_type": "code",
   "execution_count": 240,
   "id": "1d2c12ca-32ca-471d-96e1-fe493bfb62fa",
   "metadata": {},
   "outputs": [
    {
     "data": {
      "text/plain": [
       "array([ 0,  1,  2,  3,  4,  5,  6,  7,  8,  9, 10, 11, 12, 13, 14, 15, 16,\n",
       "       17, 18, 19, 20, 21, 22, 23, 24, 25, 26, 27, 28, 29, 30, 31, 32, 33,\n",
       "       34, 35, 36, 37, 38, 39, 40, 41, 42, 43, 44, 45, 46, 47, 48, 49])"
      ]
     },
     "execution_count": 240,
     "metadata": {},
     "output_type": "execute_result"
    }
   ],
   "source": [
    "mat[mat<50]"
   ]
  },
  {
   "cell_type": "code",
   "execution_count": 242,
   "id": "924743e6-c40b-4e6f-b20c-b5812b6e1454",
   "metadata": {},
   "outputs": [
    {
     "data": {
      "text/plain": [
       "array([ 0,  1,  2,  3,  4,  5,  6,  7,  8,  9, 10, 11, 12, 13, 14, 15, 16,\n",
       "       17, 18, 19, 20, 21, 22, 23, 24, 25, 26, 27, 28, 29, 30, 31, 32, 33,\n",
       "       34, 35, 36, 37, 38, 39, 40, 41, 42, 43, 44, 45, 46, 47, 48, 49, 50])"
      ]
     },
     "execution_count": 242,
     "metadata": {},
     "output_type": "execute_result"
    }
   ],
   "source": [
    "mat[mat<=50]"
   ]
  },
  {
   "cell_type": "code",
   "execution_count": 243,
   "id": "369a3cf0-0aca-4a63-8720-e72e71b50a65",
   "metadata": {},
   "outputs": [
    {
     "data": {
      "text/plain": [
       "array([[False, False, False, False, False, False, False, False, False,\n",
       "        False],\n",
       "       [False, False, False, False, False, False, False, False, False,\n",
       "        False],\n",
       "       [False, False, False, False, False, False, False, False, False,\n",
       "        False],\n",
       "       [False, False, False, False, False, False, False, False, False,\n",
       "        False],\n",
       "       [False, False, False, False, False, False, False, False, False,\n",
       "        False],\n",
       "       [False,  True,  True,  True,  True,  True,  True,  True,  True,\n",
       "         True],\n",
       "       [ True,  True,  True,  True,  True,  True,  True,  True,  True,\n",
       "         True],\n",
       "       [ True,  True,  True,  True,  True,  True,  True,  True,  True,\n",
       "         True],\n",
       "       [ True,  True,  True,  True,  True,  True,  True,  True,  True,\n",
       "         True],\n",
       "       [ True,  True,  True,  True,  True,  True,  True,  True,  True,\n",
       "         True]])"
      ]
     },
     "execution_count": 243,
     "metadata": {},
     "output_type": "execute_result"
    }
   ],
   "source": [
    "mat>50"
   ]
  },
  {
   "cell_type": "code",
   "execution_count": 244,
   "id": "0bda8933-43c2-4dfe-86da-24e9011c5983",
   "metadata": {},
   "outputs": [
    {
     "data": {
      "text/plain": [
       "array([50, 51, 52, 53, 54, 55, 56, 57, 58, 59, 60, 61, 62, 63, 64, 65, 66,\n",
       "       67, 68, 69, 70, 71, 72, 73, 74, 75, 76, 77, 78, 79, 80, 81, 82, 83,\n",
       "       84, 85, 86, 87, 88, 89, 90, 91, 92, 93, 94, 95, 96, 97, 98, 99])"
      ]
     },
     "execution_count": 244,
     "metadata": {},
     "output_type": "execute_result"
    }
   ],
   "source": [
    "mat[mat>=50]"
   ]
  },
  {
   "cell_type": "code",
   "execution_count": 245,
   "id": "63284fd4-d863-4f59-b502-f50756d6cfae",
   "metadata": {
    "scrolled": true
   },
   "outputs": [
    {
     "data": {
      "text/plain": [
       "array([ 0,  1,  2,  3,  4,  5,  6,  7,  8,  9, 10, 11, 12, 13, 14, 15, 16,\n",
       "       17, 18, 19, 20, 21, 22, 23, 24, 25, 26, 27, 28, 29, 30, 31, 32, 33,\n",
       "       34, 35, 36, 37, 38, 39, 40, 41, 42, 43, 44, 45, 46, 47, 48, 49, 51,\n",
       "       52, 53, 54, 55, 56, 57, 58, 59, 60, 61, 62, 63, 64, 65, 66, 67, 68,\n",
       "       69, 70, 71, 72, 73, 74, 75, 76, 77, 78, 79, 80, 81, 82, 83, 84, 85,\n",
       "       86, 87, 88, 89, 90, 91, 92, 93, 94, 95, 96, 97, 98, 99])"
      ]
     },
     "execution_count": 245,
     "metadata": {},
     "output_type": "execute_result"
    }
   ],
   "source": [
    "mat[mat!=50]"
   ]
  },
  {
   "cell_type": "code",
   "execution_count": 246,
   "id": "8b35f4f6-7e59-4b9a-9973-b808a48b98b4",
   "metadata": {},
   "outputs": [
    {
     "data": {
      "text/plain": [
       "array([50])"
      ]
     },
     "execution_count": 246,
     "metadata": {},
     "output_type": "execute_result"
    }
   ],
   "source": [
    "mat[mat==50]"
   ]
  },
  {
   "cell_type": "code",
   "execution_count": 248,
   "id": "e0c1f285-9875-49ce-b989-0fd9e40e5d54",
   "metadata": {},
   "outputs": [
    {
     "name": "stdout",
     "output_type": "stream",
     "text": [
      "Array a: [1 2 3]\n"
     ]
    }
   ],
   "source": [
    "a=np.array([1,2,3])\n",
    "print(\"Array a:\",a)"
   ]
  },
  {
   "cell_type": "code",
   "execution_count": 253,
   "id": "0dff03bd-303e-4fcc-a9a8-b26a194dedd8",
   "metadata": {},
   "outputs": [
    {
     "name": "stdout",
     "output_type": "stream",
     "text": [
      "Array b: [0 2 4 6 8]\n"
     ]
    }
   ],
   "source": [
    "b=np.arange(0,10,2)\n",
    "print(\"Array b:\",b)"
   ]
  },
  {
   "cell_type": "code",
   "execution_count": 258,
   "id": "93d7777a-61a6-4d5e-8bc8-a99a211ce27a",
   "metadata": {},
   "outputs": [],
   "source": [
    "c=np.linspace(0,1,5)"
   ]
  },
  {
   "cell_type": "code",
   "execution_count": 260,
   "id": "0cb1e5ca-a74a-49d4-b3fc-6e82c49c6918",
   "metadata": {},
   "outputs": [
    {
     "name": "stdout",
     "output_type": "stream",
     "text": [
      "Array c: [0.   0.25 0.5  0.75 1.  ]\n"
     ]
    }
   ],
   "source": [
    "print(\"Array c:\",c)"
   ]
  },
  {
   "cell_type": "code",
   "execution_count": 263,
   "id": "77bacd49-3986-4395-bd74-2e7d233942a4",
   "metadata": {},
   "outputs": [
    {
     "name": "stdout",
     "output_type": "stream",
     "text": [
      "Array d:\n",
      " [[0. 0. 0.]\n",
      " [0. 0. 0.]]\n"
     ]
    }
   ],
   "source": [
    "d=np.zeros((2,3))\n",
    "print(\"Array d:\\n\",d)"
   ]
  },
  {
   "cell_type": "code",
   "execution_count": 264,
   "id": "adf90e70-c549-480a-8c63-2ea02e34429e",
   "metadata": {},
   "outputs": [
    {
     "name": "stdout",
     "output_type": "stream",
     "text": [
      "Array e:\n",
      " [[1. 1.]\n",
      " [1. 1.]\n",
      " [1. 1.]]\n"
     ]
    }
   ],
   "source": [
    "e=np.ones((3,2))\n",
    "print(\"Array e:\\n\",e)"
   ]
  },
  {
   "cell_type": "code",
   "execution_count": null,
   "id": "a9af2160-ba1c-40c2-86bf-5253338472cc",
   "metadata": {},
   "outputs": [],
   "source": [
    "f=np.array([1,2,3])\n",
    "print(\"Array a:\",a)"
   ]
  },
  {
   "cell_type": "code",
   "execution_count": null,
   "id": "0c8276cd-826e-49fc-bf3b-e45e2f94ea57",
   "metadata": {},
   "outputs": [],
   "source": []
  },
  {
   "cell_type": "code",
   "execution_count": null,
   "id": "1c6f8872-0f07-449b-b108-428f4230d644",
   "metadata": {},
   "outputs": [],
   "source": []
  },
  {
   "cell_type": "code",
   "execution_count": null,
   "id": "76454155-d300-42f8-b2d5-704cd0d9a926",
   "metadata": {},
   "outputs": [],
   "source": []
  },
  {
   "cell_type": "code",
   "execution_count": null,
   "id": "db5e2488-b685-4f78-8d4f-da80586262f5",
   "metadata": {},
   "outputs": [],
   "source": []
  }
 ],
 "metadata": {
  "kernelspec": {
   "display_name": "Python 3 (ipykernel)",
   "language": "python",
   "name": "python3"
  },
  "language_info": {
   "codemirror_mode": {
    "name": "ipython",
    "version": 3
   },
   "file_extension": ".py",
   "mimetype": "text/x-python",
   "name": "python",
   "nbconvert_exporter": "python",
   "pygments_lexer": "ipython3",
   "version": "3.12.7"
  }
 },
 "nbformat": 4,
 "nbformat_minor": 5
}
