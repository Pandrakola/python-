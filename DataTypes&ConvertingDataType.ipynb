{
 "cells": [
  {
   "cell_type": "code",
   "execution_count": 94,
   "id": "c3e28b9e-6c06-4ed0-ad4e-283682f09085",
   "metadata": {},
   "outputs": [],
   "source": [
    "#1st Basic python"
   ]
  },
  {
   "cell_type": "code",
   "execution_count": 95,
   "id": "cbda3e0f-1a39-463a-9a63-350202a05b3e",
   "metadata": {},
   "outputs": [
    {
     "data": {
      "text/plain": [
       "14"
      ]
     },
     "execution_count": 95,
     "metadata": {},
     "output_type": "execute_result"
    }
   ],
   "source": [
    "10+4\n"
   ]
  },
  {
   "cell_type": "code",
   "execution_count": 9,
   "id": "782e7657-a854-41b0-9401-00e19ac05956",
   "metadata": {},
   "outputs": [
    {
     "data": {
      "text/plain": [
       "-29"
      ]
     },
     "execution_count": 9,
     "metadata": {},
     "output_type": "execute_result"
    }
   ],
   "source": [
    "24-53\n"
   ]
  },
  {
   "cell_type": "code",
   "execution_count": 10,
   "id": "45d121e9-cbd2-45ca-8e56-9441409df4b9",
   "metadata": {},
   "outputs": [
    {
     "data": {
      "text/plain": [
       "15"
      ]
     },
     "execution_count": 10,
     "metadata": {},
     "output_type": "execute_result"
    }
   ],
   "source": [
    "3*5"
   ]
  },
  {
   "cell_type": "code",
   "execution_count": 11,
   "id": "1f9d6c01-d879-4afa-8bf1-aad3c6b1268f",
   "metadata": {},
   "outputs": [
    {
     "data": {
      "text/plain": [
       "10"
      ]
     },
     "execution_count": 11,
     "metadata": {},
     "output_type": "execute_result"
    }
   ],
   "source": [
    "2*5"
   ]
  },
  {
   "cell_type": "code",
   "execution_count": 12,
   "id": "3c4f0945-a43f-4edd-bc25-059f9ba05daa",
   "metadata": {},
   "outputs": [
    {
     "data": {
      "text/plain": [
       "16"
      ]
     },
     "execution_count": 12,
     "metadata": {},
     "output_type": "execute_result"
    }
   ],
   "source": [
    "2**4"
   ]
  },
  {
   "cell_type": "code",
   "execution_count": 13,
   "id": "3c37527f-4f97-4523-9a8e-df54d8da1fac",
   "metadata": {},
   "outputs": [
    {
     "data": {
      "text/plain": [
       "16"
      ]
     },
     "execution_count": 13,
     "metadata": {},
     "output_type": "execute_result"
    }
   ],
   "source": [
    "4**2"
   ]
  },
  {
   "cell_type": "code",
   "execution_count": 14,
   "id": "829e219f-9cb3-4175-9fc4-964eafcfeff6",
   "metadata": {},
   "outputs": [
    {
     "data": {
      "text/plain": [
       "3.0"
      ]
     },
     "execution_count": 14,
     "metadata": {},
     "output_type": "execute_result"
    }
   ],
   "source": [
    "12/4"
   ]
  },
  {
   "cell_type": "code",
   "execution_count": 15,
   "id": "86f93f46-e6f4-4105-9c9f-690518671788",
   "metadata": {},
   "outputs": [
    {
     "data": {
      "text/plain": [
       "5"
      ]
     },
     "execution_count": 15,
     "metadata": {},
     "output_type": "execute_result"
    }
   ],
   "source": [
    "23//4"
   ]
  },
  {
   "cell_type": "code",
   "execution_count": 220,
   "id": "6a014c70-d77b-47ae-a820-8ca04d12a1c1",
   "metadata": {},
   "outputs": [
    {
     "data": {
      "text/plain": [
       "2"
      ]
     },
     "execution_count": 220,
     "metadata": {},
     "output_type": "execute_result"
    }
   ],
   "source": [
    "x=5\n",
    "y=2\n",
    "x//y"
   ]
  },
  {
   "cell_type": "code",
   "execution_count": 225,
   "id": "bdd1692d-b90f-4ec4-b689-3f0b6065c182",
   "metadata": {},
   "outputs": [
    {
     "data": {
      "text/plain": [
       "'56'"
      ]
     },
     "execution_count": 225,
     "metadata": {},
     "output_type": "execute_result"
    }
   ],
   "source": [
    "x='5'\n",
    "y='6'\n",
    "x+y\n"
   ]
  },
  {
   "cell_type": "code",
   "execution_count": 16,
   "id": "70cfb36a-db18-4a9a-9e21-0d402196eaa4",
   "metadata": {},
   "outputs": [
    {
     "data": {
      "text/plain": [
       "45"
      ]
     },
     "execution_count": 16,
     "metadata": {},
     "output_type": "execute_result"
    }
   ],
   "source": [
    "# BODMAS ( BRACKET, ORDER, DIVISION, MULTIPLICATION, ADDITION, SUBTRACTION)\n",
    "(12+3)*3"
   ]
  },
  {
   "cell_type": "code",
   "execution_count": 17,
   "id": "ecf28a84-b895-4f06-938e-e7ea0d14230d",
   "metadata": {},
   "outputs": [
    {
     "data": {
      "text/plain": [
       "21"
      ]
     },
     "execution_count": 17,
     "metadata": {},
     "output_type": "execute_result"
    }
   ],
   "source": [
    "12+3*3"
   ]
  },
  {
   "cell_type": "code",
   "execution_count": 19,
   "id": "cc068210-33b5-4fa8-b1a9-d2f1a8e3a1ca",
   "metadata": {},
   "outputs": [
    {
     "data": {
      "text/plain": [
       "24"
      ]
     },
     "execution_count": 19,
     "metadata": {},
     "output_type": "execute_result"
    }
   ],
   "source": [
    "__+3"
   ]
  },
  {
   "cell_type": "code",
   "execution_count": 21,
   "id": "ca642561-44aa-4501-9a8e-7c1113fcf83c",
   "metadata": {},
   "outputs": [
    {
     "data": {
      "text/plain": [
       "27"
      ]
     },
     "execution_count": 21,
     "metadata": {},
     "output_type": "execute_result"
    }
   ],
   "source": [
    "__+3"
   ]
  },
  {
   "cell_type": "code",
   "execution_count": null,
   "id": "344ced7b-b99f-4d15-b9b7-c2f3e18e57bf",
   "metadata": {},
   "outputs": [],
   "source": []
  },
  {
   "cell_type": "code",
   "execution_count": 23,
   "id": "84bf2a75-8c0a-424d-8c46-39d10ee58a3e",
   "metadata": {},
   "outputs": [
    {
     "name": "stdout",
     "output_type": "stream",
     "text": [
      "25\n"
     ]
    }
   ],
   "source": [
    "#Variable document\n",
    "age=25  #age variable,25 is value\n",
    "age\n",
    "print(age)"
   ]
  },
  {
   "cell_type": "code",
   "execution_count": 29,
   "id": "08867fd3-ed29-4511-b169-8172611d1265",
   "metadata": {},
   "outputs": [
    {
     "ename": "SyntaxError",
     "evalue": "invalid syntax (2430033369.py, line 1)",
     "output_type": "error",
     "traceback": [
      "\u001b[1;36m  Cell \u001b[1;32mIn[29], line 1\u001b[1;36m\u001b[0m\n\u001b[1;33m    student=40 'members'\u001b[0m\n\u001b[1;37m               ^\u001b[0m\n\u001b[1;31mSyntaxError\u001b[0m\u001b[1;31m:\u001b[0m invalid syntax\n"
     ]
    }
   ],
   "source": [
    "student=40 'members'\n",
    "print(student)"
   ]
  },
  {
   "cell_type": "code",
   "execution_count": 33,
   "id": "f2f59d6a-8464-4b6b-8339-741b145e676e",
   "metadata": {},
   "outputs": [
    {
     "name": "stdout",
     "output_type": "stream",
     "text": [
      "12\n"
     ]
    }
   ],
   "source": [
    "branches=12\n",
    "print(branches)\n"
   ]
  },
  {
   "cell_type": "code",
   "execution_count": 62,
   "id": "5da03fd0-f433-4e77-b4dc-ddc949a90477",
   "metadata": {},
   "outputs": [
    {
     "name": "stdout",
     "output_type": "stream",
     "text": [
      "12\n",
      "50\n"
     ]
    }
   ],
   "source": [
    "a=5\n",
    "b=7  #useing variable in expression\n",
    "c=a+b\n",
    "print(c)\n",
    "\n",
    "c=50\n",
    "print(c)"
   ]
  },
  {
   "cell_type": "code",
   "execution_count": 54,
   "id": "1eeac301-2aa0-4541-bf0d-2228f0dd7773",
   "metadata": {},
   "outputs": [
    {
     "name": "stdout",
     "output_type": "stream",
     "text": [
      "20\n",
      "100\n"
     ]
    }
   ],
   "source": [
    "score=20  #initial value\n",
    "print(score)\n",
    "score=100  #changing the valuescore\n",
    "print(score)\n"
   ]
  },
  {
   "cell_type": "code",
   "execution_count": 30,
   "id": "f0ba123c-bd96-41c1-897a-9f10fe281b4c",
   "metadata": {},
   "outputs": [
    {
     "name": "stdout",
     "output_type": "stream",
     "text": [
      "abc\n"
     ]
    }
   ],
   "source": [
    "name=\"abc\"  #string variable\n",
    "print(name)"
   ]
  },
  {
   "cell_type": "code",
   "execution_count": 50,
   "id": "6762ce86-2d16-4929-b740-5da5603a67ba",
   "metadata": {},
   "outputs": [
    {
     "name": "stdout",
     "output_type": "stream",
     "text": [
      "34243\n"
     ]
    }
   ],
   "source": [
    "num='34243'\n",
    "print(num)"
   ]
  },
  {
   "cell_type": "code",
   "execution_count": 52,
   "id": "994eb81c-8efe-4029-9c71-00a0b029837c",
   "metadata": {},
   "outputs": [
    {
     "name": "stdout",
     "output_type": "stream",
     "text": [
      "science\n"
     ]
    }
   ],
   "source": [
    "Class='science'\n",
    "print(Class)"
   ]
  },
  {
   "cell_type": "code",
   "execution_count": 59,
   "id": "7d979f1b-273e-4f33-bbf8-7d7cb20397f5",
   "metadata": {},
   "outputs": [
    {
     "name": "stdout",
     "output_type": "stream",
     "text": [
      "RameshBabu\n",
      "Ramesh Babu\n"
     ]
    }
   ],
   "source": [
    "#concatenation string\n",
    "First_Name=\"Ramesh\"\n",
    "Last_Name='Babu'\n",
    "Full_Name=First_Name+Last_Name\n",
    "\n",
    "print(Full_Name)\n",
    "Full_Name=First_Name+\" \"+Last_Name\n",
    "print(Full_Name)"
   ]
  },
  {
   "cell_type": "code",
   "execution_count": 48,
   "id": "6fe2da95-3aed-4a5a-82ab-763b179737b5",
   "metadata": {},
   "outputs": [
    {
     "name": "stdout",
     "output_type": "stream",
     "text": [
      "321.42\n"
     ]
    }
   ],
   "source": [
    "#float variable\n",
    "price=321.42 \n",
    "print(price)"
   ]
  },
  {
   "cell_type": "code",
   "execution_count": 64,
   "id": "c603dbfc-491b-402f-82c0-85947823b6a9",
   "metadata": {},
   "outputs": [
    {
     "name": "stdout",
     "output_type": "stream",
     "text": [
      "182\n"
     ]
    }
   ],
   "source": [
    "length=13\n",
    "width=14\n",
    "area = length*width\n",
    "print(area)"
   ]
  },
  {
   "cell_type": "code",
   "execution_count": 69,
   "id": "cb260ffb-a39e-4d87-8358-4cf11ee6325b",
   "metadata": {},
   "outputs": [
    {
     "name": "stdout",
     "output_type": "stream",
     "text": [
      "3.14\n",
      "3.12\n"
     ]
    }
   ],
   "source": [
    "pi=3.14\n",
    "print(pi)\n",
    "pi=3.12  #reassigning value\n",
    "print(pi)\n",
    "\n"
   ]
  },
  {
   "cell_type": "code",
   "execution_count": 70,
   "id": "cbace284-2e44-457e-9f52-8526455e6c02",
   "metadata": {},
   "outputs": [
    {
     "data": {
      "text/plain": [
       "3.12"
      ]
     },
     "execution_count": 70,
     "metadata": {},
     "output_type": "execute_result"
    }
   ],
   "source": [
    "pi"
   ]
  },
  {
   "cell_type": "code",
   "execution_count": 61,
   "id": "4dfb9591-8ce1-4ac8-93c0-4449288e8ce6",
   "metadata": {},
   "outputs": [
    {
     "name": "stdout",
     "output_type": "stream",
     "text": [
      "True\n"
     ]
    },
    {
     "ename": "NameError",
     "evalue": "name 'true' is not defined",
     "output_type": "error",
     "traceback": [
      "\u001b[1;31m---------------------------------------------------------------------------\u001b[0m",
      "\u001b[1;31mNameError\u001b[0m                                 Traceback (most recent call last)",
      "Cell \u001b[1;32mIn[61], line 4\u001b[0m\n\u001b[0;32m      2\u001b[0m is_active\u001b[38;5;241m=\u001b[39m\u001b[38;5;28;01mTrue\u001b[39;00m\n\u001b[0;32m      3\u001b[0m \u001b[38;5;28mprint\u001b[39m(is_active)\n\u001b[1;32m----> 4\u001b[0m is_active\u001b[38;5;241m=\u001b[39mtrue\n\u001b[0;32m      5\u001b[0m \u001b[38;5;28mprint\u001b[39m(is_active)\n",
      "\u001b[1;31mNameError\u001b[0m: name 'true' is not defined"
     ]
    }
   ],
   "source": [
    "#Boolean Values\n",
    "is_active=True\n",
    "print(is_active)\n",
    "\n",
    "is_active=true\n",
    "print(is_active)"
   ]
  },
  {
   "cell_type": "code",
   "execution_count": null,
   "id": "52bdb0ab-82ed-4fed-8c11-58f8fa9ba36b",
   "metadata": {},
   "outputs": [],
   "source": []
  },
  {
   "cell_type": "code",
   "execution_count": 71,
   "id": "ae1898f7-b1ab-4a47-ab69-e065daeee7e8",
   "metadata": {},
   "outputs": [
    {
     "data": {
      "text/plain": [
       "'3.12.7 | packaged by Anaconda, Inc. | (main, Oct  4 2024, 13:17:27) [MSC v.1929 64 bit (AMD64)]'"
      ]
     },
     "execution_count": 71,
     "metadata": {},
     "output_type": "execute_result"
    }
   ],
   "source": [
    "import sys\n",
    "sys.version"
   ]
  },
  {
   "cell_type": "code",
   "execution_count": 88,
   "id": "85fe232e-8ba3-4427-823c-2c6b21bc9382",
   "metadata": {},
   "outputs": [
    {
     "name": "stdout",
     "output_type": "stream",
     "text": [
      "['False', 'None', 'True', 'and', 'as', 'assert', 'async', 'await', 'break', 'class', 'continue', 'def', 'del', 'elif', 'else', 'except', 'finally', 'for', 'from', 'global', 'if', 'import', 'in', 'is', 'lambda', 'nonlocal', 'not', 'or', 'pass', 'raise', 'return', 'try', 'while', 'with', 'yield']\n",
      "35\n"
     ]
    }
   ],
   "source": [
    "import keyword\n",
    "print(keyword.kwlist)\n",
    "#len(keyword.kwlist)\n",
    "\n",
    "print(len(keyword.kwlist))"
   ]
  },
  {
   "cell_type": "code",
   "execution_count": 89,
   "id": "a77d0aeb-63e3-4f4e-85e4-311fa0b40d82",
   "metadata": {},
   "outputs": [
    {
     "data": {
      "text/plain": [
       "5"
      ]
     },
     "execution_count": 89,
     "metadata": {},
     "output_type": "execute_result"
    }
   ],
   "source": [
    "#VARIABLES\n",
    "a=5\n",
    "a"
   ]
  },
  {
   "cell_type": "code",
   "execution_count": 90,
   "id": "a06870d6-b6ab-4212-82e0-846d3662b126",
   "metadata": {},
   "outputs": [
    {
     "data": {
      "text/plain": [
       "int"
      ]
     },
     "execution_count": 90,
     "metadata": {},
     "output_type": "execute_result"
    }
   ],
   "source": [
    "type(a)"
   ]
  },
  {
   "cell_type": "code",
   "execution_count": 91,
   "id": "34966fa7-4e85-4196-9144-27c77aacb197",
   "metadata": {},
   "outputs": [
    {
     "data": {
      "text/plain": [
       "140720607210040"
      ]
     },
     "execution_count": 91,
     "metadata": {},
     "output_type": "execute_result"
    }
   ],
   "source": [
    "id(a)   #address of id"
   ]
  },
  {
   "cell_type": "code",
   "execution_count": 92,
   "id": "da1aae41-7f0a-4677-962a-4fc53b2b34e1",
   "metadata": {},
   "outputs": [
    {
     "data": {
      "text/plain": [
       "5.5"
      ]
     },
     "execution_count": 92,
     "metadata": {},
     "output_type": "execute_result"
    }
   ],
   "source": [
    "b=5.5\n",
    "b"
   ]
  },
  {
   "cell_type": "code",
   "execution_count": 93,
   "id": "b844ced7-9be3-4091-bc00-634a0884dc80",
   "metadata": {},
   "outputs": [
    {
     "data": {
      "text/plain": [
       "float"
      ]
     },
     "execution_count": 93,
     "metadata": {},
     "output_type": "execute_result"
    }
   ],
   "source": [
    "type(b)"
   ]
  },
  {
   "cell_type": "code",
   "execution_count": null,
   "id": "7f0c4b8f-2f2d-43a1-af2c-693241469141",
   "metadata": {},
   "outputs": [],
   "source": []
  },
  {
   "cell_type": "code",
   "execution_count": 96,
   "id": "b5c98bf6-661d-4009-aa32-f883039a74a1",
   "metadata": {},
   "outputs": [
    {
     "data": {
      "text/plain": [
       "34"
      ]
     },
     "execution_count": 96,
     "metadata": {},
     "output_type": "execute_result"
    }
   ],
   "source": [
    "v=34\n",
    "v"
   ]
  },
  {
   "cell_type": "code",
   "execution_count": 97,
   "id": "0823b596-5f3e-42cd-a393-39ef7edb067a",
   "metadata": {},
   "outputs": [
    {
     "ename": "SyntaxError",
     "evalue": "invalid decimal literal (1217617884.py, line 1)",
     "output_type": "error",
     "traceback": [
      "\u001b[1;36m  Cell \u001b[1;32mIn[97], line 1\u001b[1;36m\u001b[0m\n\u001b[1;33m    1v=32\u001b[0m\n\u001b[1;37m    ^\u001b[0m\n\u001b[1;31mSyntaxError\u001b[0m\u001b[1;31m:\u001b[0m invalid decimal literal\n"
     ]
    }
   ],
   "source": [
    "1v=32\n"
   ]
  },
  {
   "cell_type": "code",
   "execution_count": 98,
   "id": "e9e63f4e-ba9c-4159-8197-1f0dc735bc38",
   "metadata": {},
   "outputs": [
    {
     "data": {
      "text/plain": [
       "42"
      ]
     },
     "execution_count": 98,
     "metadata": {},
     "output_type": "execute_result"
    }
   ],
   "source": [
    "v1=42\n",
    "v1\n"
   ]
  },
  {
   "cell_type": "code",
   "execution_count": 100,
   "id": "07e99b71-9d03-4785-a632-379dac7bc5b5",
   "metadata": {},
   "outputs": [
    {
     "ename": "SyntaxError",
     "evalue": "invalid syntax (320197349.py, line 1)",
     "output_type": "error",
     "traceback": [
      "\u001b[1;36m  Cell \u001b[1;32mIn[100], line 1\u001b[1;36m\u001b[0m\n\u001b[1;33m    def=47\u001b[0m\n\u001b[1;37m       ^\u001b[0m\n\u001b[1;31mSyntaxError\u001b[0m\u001b[1;31m:\u001b[0m invalid syntax\n"
     ]
    }
   ],
   "source": [
    "def=47\n",
    "def"
   ]
  },
  {
   "cell_type": "code",
   "execution_count": 101,
   "id": "e2912c9e-e01a-4016-ad24-3d9884317fd2",
   "metadata": {},
   "outputs": [
    {
     "data": {
      "text/plain": [
       "47"
      ]
     },
     "execution_count": 101,
     "metadata": {},
     "output_type": "execute_result"
    }
   ],
   "source": [
    "Def=47\n",
    "Def"
   ]
  },
  {
   "cell_type": "code",
   "execution_count": 193,
   "id": "daad24cd-913b-4575-b15d-60dccf7ca703",
   "metadata": {},
   "outputs": [
    {
     "data": {
      "text/plain": [
       "'Asda'"
      ]
     },
     "execution_count": 193,
     "metadata": {},
     "output_type": "execute_result"
    }
   ],
   "source": [
    "nit='Asda'\n",
    "nit"
   ]
  },
  {
   "cell_type": "code",
   "execution_count": 194,
   "id": "17371065-ccb4-44d0-a241-eee907e3955f",
   "metadata": {},
   "outputs": [
    {
     "name": "stdout",
     "output_type": "stream",
     "text": [
      "AsdaAsdaAsdaAsdaAsda\n"
     ]
    },
    {
     "data": {
      "text/plain": [
       "'Asda'"
      ]
     },
     "execution_count": 194,
     "metadata": {},
     "output_type": "execute_result"
    }
   ],
   "source": [
    "NIT=23\n",
    "print(nit*5)\n",
    "nit"
   ]
  },
  {
   "cell_type": "code",
   "execution_count": 195,
   "id": "72606c5a-823f-4a8a-bee0-2872767e758e",
   "metadata": {},
   "outputs": [
    {
     "name": "stdout",
     "output_type": "stream",
     "text": [
      "Asda Asda Asda Asda Asda \n"
     ]
    },
    {
     "data": {
      "text/plain": [
       "'fdhsdfshsg'"
      ]
     },
     "execution_count": 195,
     "metadata": {},
     "output_type": "execute_result"
    }
   ],
   "source": [
    "nit='Asda '\n",
    "print(nit*5)\n",
    "NIT='fdhsdfshsg'\n",
    "NIT"
   ]
  },
  {
   "cell_type": "code",
   "execution_count": 121,
   "id": "f87cf3c2-ea62-432b-906e-4ae8b5a70993",
   "metadata": {},
   "outputs": [
    {
     "data": {
      "text/plain": [
       "34"
      ]
     },
     "execution_count": 121,
     "metadata": {},
     "output_type": "execute_result"
    }
   ],
   "source": [
    "h_=34\n",
    "h_"
   ]
  },
  {
   "cell_type": "code",
   "execution_count": 127,
   "id": "671292d6-fc82-49a1-ad59-1007f205fd2b",
   "metadata": {},
   "outputs": [
    {
     "name": "stdout",
     "output_type": "stream",
     "text": [
      "34\n",
      "32\n",
      "42\n"
     ]
    },
    {
     "data": {
      "text/plain": [
       "42"
      ]
     },
     "execution_count": 127,
     "metadata": {},
     "output_type": "execute_result"
    }
   ],
   "source": [
    "A ,B,C=34,32,42   \n",
    "\n",
    "print(A)\n",
    "print(B)\n",
    "print(C)\n",
    "A\n",
    "B\n",
    "C"
   ]
  },
  {
   "cell_type": "code",
   "execution_count": 131,
   "id": "a8f399dc-e948-4967-adfe-d9dc1d8ff16b",
   "metadata": {},
   "outputs": [
    {
     "name": "stdout",
     "output_type": "stream",
     "text": [
      "34 32 42\n"
     ]
    }
   ],
   "source": [
    "print(A,B,C)"
   ]
  },
  {
   "cell_type": "code",
   "execution_count": 132,
   "id": "8beb6e34-36d4-4660-9518-ead57f7cd6d9",
   "metadata": {},
   "outputs": [
    {
     "data": {
      "text/plain": [
       "78"
      ]
     },
     "execution_count": 132,
     "metadata": {},
     "output_type": "execute_result"
    }
   ],
   "source": [
    "_cell=78\n",
    "_cell"
   ]
  },
  {
   "cell_type": "code",
   "execution_count": 133,
   "id": "08cd6efd-5400-47f3-b922-f5a5cf12b72d",
   "metadata": {},
   "outputs": [
    {
     "ename": "TypeError",
     "evalue": "cannot unpack non-iterable int object",
     "output_type": "error",
     "traceback": [
      "\u001b[1;31m---------------------------------------------------------------------------\u001b[0m",
      "\u001b[1;31mTypeError\u001b[0m                                 Traceback (most recent call last)",
      "Cell \u001b[1;32mIn[133], line 1\u001b[0m\n\u001b[1;32m----> 1\u001b[0m a,b\u001b[38;5;241m=\u001b[39m\u001b[38;5;241m4\u001b[39m\n",
      "\u001b[1;31mTypeError\u001b[0m: cannot unpack non-iterable int object"
     ]
    }
   ],
   "source": [
    "a,b=4\n"
   ]
  },
  {
   "cell_type": "code",
   "execution_count": 134,
   "id": "30287224-e2d6-45ad-96c4-72aeaaf58201",
   "metadata": {},
   "outputs": [
    {
     "ename": "SyntaxError",
     "evalue": "invalid syntax (1877927841.py, line 1)",
     "output_type": "error",
     "traceback": [
      "\u001b[1;36m  Cell \u001b[1;32mIn[134], line 1\u001b[1;36m\u001b[0m\n\u001b[1;33m    if=34\u001b[0m\n\u001b[1;37m      ^\u001b[0m\n\u001b[1;31mSyntaxError\u001b[0m\u001b[1;31m:\u001b[0m invalid syntax\n"
     ]
    }
   ],
   "source": [
    "if=34\n",
    "if"
   ]
  },
  {
   "cell_type": "code",
   "execution_count": 135,
   "id": "d5a966c1-02e5-44b1-ab73-5a45b40b39eb",
   "metadata": {},
   "outputs": [
    {
     "data": {
      "text/plain": [
       "34"
      ]
     },
     "execution_count": 135,
     "metadata": {},
     "output_type": "execute_result"
    }
   ],
   "source": [
    "IF=34\n",
    "IF"
   ]
  },
  {
   "cell_type": "code",
   "execution_count": 136,
   "id": "e54440d1-1dc0-4710-8cbc-df291405cf2e",
   "metadata": {},
   "outputs": [
    {
     "data": {
      "text/plain": [
       "3.0"
      ]
     },
     "execution_count": 136,
     "metadata": {},
     "output_type": "execute_result"
    }
   ],
   "source": [
    "f1=3e0\n",
    "f1"
   ]
  },
  {
   "cell_type": "code",
   "execution_count": 139,
   "id": "35a2e447-9809-4cd1-b194-526f95faf700",
   "metadata": {},
   "outputs": [
    {
     "name": "stdout",
     "output_type": "stream",
     "text": [
      "30.0\n",
      "5000.0\n"
     ]
    },
    {
     "data": {
      "text/plain": [
       "400.0"
      ]
     },
     "execution_count": 139,
     "metadata": {},
     "output_type": "execute_result"
    }
   ],
   "source": [
    "f2=3e1  \n",
    "print(f2)\n",
    "f3=5e3                                   \n",
    "print(f3)\n",
    "f4=4e2\n",
    "f4"
   ]
  },
  {
   "cell_type": "code",
   "execution_count": 139,
   "id": "f3cad4f1-96c9-4ffe-a776-67d7b65bde00",
   "metadata": {},
   "outputs": [
    {
     "name": "stdout",
     "output_type": "stream",
     "text": [
      "30.0\n",
      "5000.0\n"
     ]
    },
    {
     "data": {
      "text/plain": [
       "400.0"
      ]
     },
     "execution_count": 139,
     "metadata": {},
     "output_type": "execute_result"
    }
   ],
   "source": [
    "f2=3e1  \n",
    "print(f2)\n",
    "f3=5e3\n",
    "print(f3)\n",
    "f4=4e2\n",
    "f4"
   ]
  },
  {
   "cell_type": "code",
   "execution_count": 227,
   "id": "045abec5-0dea-4231-a058-02e58d0d4d73",
   "metadata": {},
   "outputs": [
    {
     "data": {
      "text/plain": [
       "2300.0"
      ]
     },
     "execution_count": 227,
     "metadata": {},
     "output_type": "execute_result"
    }
   ],
   "source": [
    "f5=2.3e3\n",
    "f5"
   ]
  },
  {
   "cell_type": "code",
   "execution_count": 140,
   "id": "da3215ff-d292-4920-94a3-4585fe757114",
   "metadata": {},
   "outputs": [
    {
     "data": {
      "text/plain": [
       "1"
      ]
     },
     "execution_count": 140,
     "metadata": {},
     "output_type": "execute_result"
    }
   ],
   "source": [
    "\n",
    "True+False"
   ]
  },
  {
   "cell_type": "code",
   "execution_count": 141,
   "id": "e1873593-3cc2-46ab-99a6-ee1260e99378",
   "metadata": {},
   "outputs": [
    {
     "data": {
      "text/plain": [
       "1"
      ]
     },
     "execution_count": 141,
     "metadata": {},
     "output_type": "execute_result"
    }
   ],
   "source": [
    "True+False*True*False"
   ]
  },
  {
   "cell_type": "code",
   "execution_count": 142,
   "id": "b4f4d9cd-3c9a-4b78-ad4f-8c8621521726",
   "metadata": {},
   "outputs": [
    {
     "data": {
      "text/plain": [
       "1"
      ]
     },
     "execution_count": 142,
     "metadata": {},
     "output_type": "execute_result"
    }
   ],
   "source": [
    "True+False-True*False"
   ]
  },
  {
   "cell_type": "code",
   "execution_count": 143,
   "id": "6a6541e0-cdba-4e16-9733-1000b03f068e",
   "metadata": {},
   "outputs": [
    {
     "data": {
      "text/plain": [
       "1"
      ]
     },
     "execution_count": 143,
     "metadata": {},
     "output_type": "execute_result"
    }
   ],
   "source": [
    "True + (False * True) - False "
   ]
  },
  {
   "cell_type": "code",
   "execution_count": 144,
   "id": "e21fa0d0-c4e6-439c-82c1-06f37b2a7594",
   "metadata": {},
   "outputs": [
    {
     "data": {
      "text/plain": [
       "0"
      ]
     },
     "execution_count": 144,
     "metadata": {},
     "output_type": "execute_result"
    }
   ],
   "source": [
    "True + (False * True) - True \n"
   ]
  },
  {
   "cell_type": "code",
   "execution_count": 148,
   "id": "949442d7-3e65-4bea-aefe-852c45a19248",
   "metadata": {},
   "outputs": [
    {
     "name": "stdout",
     "output_type": "stream",
     "text": [
      "the sum of 23 32 is 55\n",
      "55\n"
     ]
    }
   ],
   "source": [
    "num1=23\n",
    "num2=32\n",
    "sum=num1+num2\n",
    "print('the sum of',num1,num2,'is',sum)\n",
    "print(sum)"
   ]
  },
  {
   "cell_type": "code",
   "execution_count": 149,
   "id": "63b9ed9c-34f3-4623-9f2d-a3730d949cd9",
   "metadata": {},
   "outputs": [],
   "source": [
    "#ComplexDATA"
   ]
  },
  {
   "cell_type": "code",
   "execution_count": 178,
   "id": "4ca7a71b-0001-4f34-ac6a-4a3751b7a255",
   "metadata": {},
   "outputs": [
    {
     "name": "stdout",
     "output_type": "stream",
     "text": [
      "(10+28j)\n",
      "(40.5+41j)\n",
      "<class 'complex'>\n",
      "32\n",
      "40.5\n"
     ]
    },
    {
     "ename": "AttributeError",
     "evalue": "'complex' object has no attribute 'imaginary'",
     "output_type": "error",
     "traceback": [
      "\u001b[1;31m---------------------------------------------------------------------------\u001b[0m",
      "\u001b[1;31mAttributeError\u001b[0m                            Traceback (most recent call last)",
      "Cell \u001b[1;32mIn[178], line 9\u001b[0m\n\u001b[0;32m      7\u001b[0m \u001b[38;5;28mprint\u001b[39m(sys\u001b[38;5;241m.\u001b[39mgetsizeof(c))\n\u001b[0;32m      8\u001b[0m \u001b[38;5;28mprint\u001b[39m(c\u001b[38;5;241m.\u001b[39mreal)\n\u001b[1;32m----> 9\u001b[0m c\u001b[38;5;241m.\u001b[39mimaginary\n",
      "\u001b[1;31mAttributeError\u001b[0m: 'complex' object has no attribute 'imaginary'"
     ]
    }
   ],
   "source": [
    "a=10+28j\n",
    "print(a)\n",
    "b=30.5+13j\n",
    "c=a+b\n",
    "print(c)\n",
    "print(type(c))\n",
    "print(sys.getsizeof(c))\n",
    "print(c.real)\n",
    "c.imaginary\n"
   ]
  },
  {
   "cell_type": "code",
   "execution_count": 179,
   "id": "38b4f9e4-8c19-4b1b-8bfc-5876ff0c9e33",
   "metadata": {},
   "outputs": [
    {
     "name": "stdout",
     "output_type": "stream",
     "text": [
      "(40.5+41j) is complex True\n"
     ]
    },
    {
     "data": {
      "text/plain": [
       "41.0"
      ]
     },
     "execution_count": 179,
     "metadata": {},
     "output_type": "execute_result"
    }
   ],
   "source": [
    "print(c,'is complex',isinstance(c,complex))\n",
    "c.imag\n"
   ]
  },
  {
   "cell_type": "code",
   "execution_count": 167,
   "id": "e2d70300-ff82-4d5e-9ab1-2149bc2cb793",
   "metadata": {},
   "outputs": [
    {
     "data": {
      "text/plain": [
       "(42, int, '0x7ffc11ce2ed8', 140720607211224)"
      ]
     },
     "execution_count": 167,
     "metadata": {},
     "output_type": "execute_result"
    }
   ],
   "source": [
    "p=42\n",
    "q=32.5\n",
    "r=q\n",
    "p,type(p),hex(id(p)),id(p)"
   ]
  },
  {
   "cell_type": "code",
   "execution_count": 207,
   "id": "1ed95722-8ad2-4909-8400-53dfb6a71409",
   "metadata": {},
   "outputs": [
    {
     "data": {
      "text/plain": [
       "(32.5, float, '0x21038f32330', 2268698190640, '0x7ffc11ce2ed8')"
      ]
     },
     "execution_count": 207,
     "metadata": {},
     "output_type": "execute_result"
    }
   ],
   "source": [
    "r,type(r),hex(id(r)),id(r),hex(id(p))"
   ]
  },
  {
   "cell_type": "code",
   "execution_count": 184,
   "id": "7d9b8ced-55ee-4f52-b598-6a1c18f99e33",
   "metadata": {},
   "outputs": [
    {
     "name": "stdout",
     "output_type": "stream",
     "text": [
      "28\n"
     ]
    },
    {
     "data": {
      "text/plain": [
       "32"
      ]
     },
     "execution_count": 184,
     "metadata": {},
     "output_type": "execute_result"
    }
   ],
   "source": [
    "print(sys.getsizeof(int()))\n",
    "\n",
    "sys.getsizeof(complex())"
   ]
  },
  {
   "cell_type": "code",
   "execution_count": 183,
   "id": "0a9b5d26-ea2f-4155-b368-fa1ff4e7ac52",
   "metadata": {},
   "outputs": [
    {
     "data": {
      "text/plain": [
       "24"
      ]
     },
     "execution_count": 183,
     "metadata": {},
     "output_type": "execute_result"
    }
   ],
   "source": [
    "sys.getsizeof(float())"
   ]
  },
  {
   "cell_type": "code",
   "execution_count": 186,
   "id": "bf537388-01ee-4d3d-ae48-9028de754096",
   "metadata": {},
   "outputs": [
    {
     "name": "stdout",
     "output_type": "stream",
     "text": [
      "<class 'bool'>\n"
     ]
    }
   ],
   "source": [
    "bool1=True\n",
    "bool2=False\n",
    "print(type(bool1))"
   ]
  },
  {
   "cell_type": "code",
   "execution_count": 189,
   "id": "0b119832-6fe9-4de7-8925-195b64388889",
   "metadata": {},
   "outputs": [
    {
     "name": "stdout",
     "output_type": "stream",
     "text": [
      "False\n"
     ]
    },
    {
     "data": {
      "text/plain": [
       "True"
      ]
     },
     "execution_count": 189,
     "metadata": {},
     "output_type": "execute_result"
    }
   ],
   "source": [
    "print(bool(0))\n",
    "bool(1)"
   ]
  },
  {
   "cell_type": "code",
   "execution_count": 196,
   "id": "27c70236-12bf-48cd-9d23-130c3dfbe34c",
   "metadata": {},
   "outputs": [],
   "source": [
    "#STRING & STRING SLICING"
   ]
  },
  {
   "cell_type": "code",
   "execution_count": 208,
   "id": "1d53e2f4-98e7-431d-a83a-e4061447a299",
   "metadata": {},
   "outputs": [
    {
     "name": "stdout",
     "output_type": "stream",
     "text": [
      "h\n",
      "n\n",
      "n\n",
      "hello\n",
      " python\n",
      "y\n",
      "hello p\n"
     ]
    }
   ],
   "source": [
    "str=\"hello python\"\n",
    "print(str[0])\n",
    "print(str[len(str)-1])\n",
    "print(str[-1])\n",
    "print(str[0:5])\n",
    "print(str[5:12])\n",
    "print(str[-5])\n",
    "print(str[0:-5])\n"
   ]
  },
  {
   "cell_type": "code",
   "execution_count": 209,
   "id": "8218726a-9d6d-4463-a37c-30a962c36e2e",
   "metadata": {},
   "outputs": [
    {
     "data": {
      "text/plain": [
       "<function print(*args, sep=' ', end='\\n', file=None, flush=False)>"
      ]
     },
     "execution_count": 209,
     "metadata": {},
     "output_type": "execute_result"
    }
   ],
   "source": [
    "print "
   ]
  },
  {
   "cell_type": "code",
   "execution_count": 217,
   "id": "26bdf0a1-4b6f-417d-af18-51208f029e39",
   "metadata": {},
   "outputs": [],
   "source": [
    "variable_1=4"
   ]
  },
  {
   "cell_type": "code",
   "execution_count": 228,
   "id": "2f1d5e01-f95a-4791-bf06-c42e21fb5605",
   "metadata": {},
   "outputs": [
    {
     "data": {
      "text/plain": [
       "'NARESHIT'"
      ]
     },
     "execution_count": 228,
     "metadata": {},
     "output_type": "execute_result"
    }
   ],
   "source": [
    "s='NARESHIT'\n",
    "s"
   ]
  },
  {
   "cell_type": "code",
   "execution_count": 233,
   "id": "c2352912-3959-4a8d-8ea0-b5e078259319",
   "metadata": {},
   "outputs": [
    {
     "name": "stdout",
     "output_type": "stream",
     "text": [
      "N\n",
      "A\n",
      "R\n",
      "E\n",
      "S\n",
      "H\n",
      "I\n",
      "T\n"
     ]
    }
   ],
   "source": [
    "for i in s:\n",
    "    print(i)"
   ]
  },
  {
   "cell_type": "code",
   "execution_count": 234,
   "id": "5e1ff569-3361-4c69-b7a0-78d7b210045f",
   "metadata": {},
   "outputs": [
    {
     "data": {
      "text/plain": [
       "'NARESHIT'"
      ]
     },
     "execution_count": 234,
     "metadata": {},
     "output_type": "execute_result"
    }
   ],
   "source": [
    "s\n"
   ]
  },
  {
   "cell_type": "code",
   "execution_count": 235,
   "id": "485eac43-1364-403c-b86d-cb119698e1b0",
   "metadata": {},
   "outputs": [
    {
     "data": {
      "text/plain": [
       "'ARESH'"
      ]
     },
     "execution_count": 235,
     "metadata": {},
     "output_type": "execute_result"
    }
   ],
   "source": [
    "s[-7:6]"
   ]
  },
  {
   "cell_type": "code",
   "execution_count": 236,
   "id": "8eb4c979-d1f7-44e6-83f9-456fc0c1aef9",
   "metadata": {},
   "outputs": [
    {
     "data": {
      "text/plain": [
       "'NRSI'"
      ]
     },
     "execution_count": 236,
     "metadata": {},
     "output_type": "execute_result"
    }
   ],
   "source": [
    "s[0:7:2]\n"
   ]
  },
  {
   "cell_type": "code",
   "execution_count": 238,
   "id": "3402e3a9-7e8e-4afe-97e1-d0259b128dd7",
   "metadata": {},
   "outputs": [
    {
     "data": {
      "text/plain": [
       "'HLOW'"
      ]
     },
     "execution_count": 238,
     "metadata": {},
     "output_type": "execute_result"
    }
   ],
   "source": [
    "s=\"HELLO WORD\"\n",
    "s[0:7:2]"
   ]
  },
  {
   "cell_type": "code",
   "execution_count": 240,
   "id": "615119c1-da16-49bf-9c6a-f820f99a145b",
   "metadata": {},
   "outputs": [
    {
     "data": {
      "text/plain": [
       "'HELLO W'"
      ]
     },
     "execution_count": 240,
     "metadata": {},
     "output_type": "execute_result"
    }
   ],
   "source": [
    "s[0:7:1]"
   ]
  },
  {
   "cell_type": "code",
   "execution_count": 241,
   "id": "d181fc2b-d740-497c-801c-cd3e34471267",
   "metadata": {},
   "outputs": [
    {
     "data": {
      "text/plain": [
       "'HLW'"
      ]
     },
     "execution_count": 241,
     "metadata": {},
     "output_type": "execute_result"
    }
   ],
   "source": [
    "s[0:7:3]"
   ]
  },
  {
   "cell_type": "code",
   "execution_count": 243,
   "id": "d7613069-3cf6-485f-989e-b8573850115f",
   "metadata": {},
   "outputs": [],
   "source": [
    "s1='asda'\n",
    "s2='shoping'\n",
    "s=s1+s2"
   ]
  },
  {
   "cell_type": "code",
   "execution_count": 244,
   "id": "dead4011-9b80-4ac1-95fe-04a323340720",
   "metadata": {},
   "outputs": [
    {
     "ename": "TypeError",
     "evalue": "'str' object does not support item assignment",
     "output_type": "error",
     "traceback": [
      "\u001b[1;31m---------------------------------------------------------------------------\u001b[0m",
      "\u001b[1;31mTypeError\u001b[0m                                 Traceback (most recent call last)",
      "Cell \u001b[1;32mIn[244], line 1\u001b[0m\n\u001b[1;32m----> 1\u001b[0m s1[\u001b[38;5;241m0\u001b[39m]\u001b[38;5;241m=\u001b[39m\u001b[38;5;124m'\u001b[39m\u001b[38;5;124mA\u001b[39m\u001b[38;5;124m'\u001b[39m\n",
      "\u001b[1;31mTypeError\u001b[0m: 'str' object does not support item assignment"
     ]
    }
   ],
   "source": [
    "s1[0]='A'"
   ]
  },
  {
   "cell_type": "code",
   "execution_count": 249,
   "id": "26040b95-2df3-45da-b54e-3c195ad009ed",
   "metadata": {},
   "outputs": [
    {
     "name": "stdout",
     "output_type": "stream",
     "text": [
      "Asda\n"
     ]
    }
   ],
   "source": [
    "s1='asda'\n",
    "s1='A'+s1[1:]\n",
    "print(s1)"
   ]
  },
  {
   "cell_type": "code",
   "execution_count": 255,
   "id": "a116636b-764e-44de-96e3-1c561dbcd31b",
   "metadata": {},
   "outputs": [
    {
     "name": "stdout",
     "output_type": "stream",
     "text": [
      "Asda\n"
     ]
    }
   ],
   "source": [
    "s=\"  Asda   \"\n",
    "print(s.strip())"
   ]
  },
  {
   "cell_type": "code",
   "execution_count": 257,
   "id": "e8136fec-7e0d-4379-8cd8-e08dd04d730e",
   "metadata": {},
   "outputs": [
    {
     "name": "stdout",
     "output_type": "stream",
     "text": [
      "Asda,marketplace!\n"
     ]
    }
   ],
   "source": [
    "s=\"Asda,shope!\"\n",
    "print(s.replace(\"shope\",\"marketplace\"))\n"
   ]
  },
  {
   "cell_type": "code",
   "execution_count": 258,
   "id": "32d287e2-6918-4240-a72c-4e4e742d7238",
   "metadata": {},
   "outputs": [
    {
     "name": "stdout",
     "output_type": "stream",
     "text": [
      "5\n"
     ]
    }
   ],
   "source": [
    "s=\"Asda,shope!\"\n",
    "print(s.find(\"shope\"))"
   ]
  },
  {
   "cell_type": "code",
   "execution_count": 265,
   "id": "1db454e2-11a7-420c-ba74-ed6d7cf7b598",
   "metadata": {},
   "outputs": [
    {
     "data": {
      "text/plain": [
       "11"
      ]
     },
     "execution_count": 265,
     "metadata": {},
     "output_type": "execute_result"
    }
   ],
   "source": [
    "int.__add__(5,6) #slef value"
   ]
  },
  {
   "cell_type": "code",
   "execution_count": 264,
   "id": "f3f8f9f1-621c-483a-900f-b090a8cf9aa0",
   "metadata": {},
   "outputs": [
    {
     "data": {
      "text/plain": [
       "-21.2"
      ]
     },
     "execution_count": 264,
     "metadata": {},
     "output_type": "execute_result"
    }
   ],
   "source": [
    "float.__sub__(12.3,33.5)"
   ]
  },
  {
   "cell_type": "code",
   "execution_count": 266,
   "id": "af56f74e-1ed2-4d7d-98bf-0587693d9a2d",
   "metadata": {},
   "outputs": [
    {
     "data": {
      "text/plain": [
       "30"
      ]
     },
     "execution_count": 266,
     "metadata": {},
     "output_type": "execute_result"
    }
   ],
   "source": [
    "int.__mul__(5,6)"
   ]
  },
  {
   "cell_type": "code",
   "execution_count": 267,
   "id": "bcb7402f-5db9-4666-9bd0-6ff3f7a232bf",
   "metadata": {},
   "outputs": [],
   "source": [
    "#help()"
   ]
  },
  {
   "cell_type": "markdown",
   "id": "2ef6db21-614c-403b-b0e9-f1b7195d105e",
   "metadata": {},
   "source": [
    "#CONVERT FROM 1 DATA TYPE TO OTHET DATA TYPE"
   ]
  },
  {
   "cell_type": "code",
   "execution_count": 269,
   "id": "64b828a5-14b5-400a-a4f0-61bd10f0f707",
   "metadata": {},
   "outputs": [
    {
     "data": {
      "text/plain": [
       "23"
      ]
     },
     "execution_count": 269,
     "metadata": {},
     "output_type": "execute_result"
    }
   ],
   "source": [
    "int(23.54) #FLOAT TO INT"
   ]
  },
  {
   "cell_type": "code",
   "execution_count": 270,
   "id": "6747d845-d2df-447b-a625-6794bc9b1be4",
   "metadata": {},
   "outputs": [
    {
     "data": {
      "text/plain": [
       "1"
      ]
     },
     "execution_count": 270,
     "metadata": {},
     "output_type": "execute_result"
    }
   ],
   "source": [
    "int(True)"
   ]
  },
  {
   "cell_type": "code",
   "execution_count": 271,
   "id": "fc505883-364b-488a-966c-ca623ff793cb",
   "metadata": {},
   "outputs": [
    {
     "ename": "TypeError",
     "evalue": "int() argument must be a string, a bytes-like object or a real number, not 'complex'",
     "output_type": "error",
     "traceback": [
      "\u001b[1;31m---------------------------------------------------------------------------\u001b[0m",
      "\u001b[1;31mTypeError\u001b[0m                                 Traceback (most recent call last)",
      "Cell \u001b[1;32mIn[271], line 1\u001b[0m\n\u001b[1;32m----> 1\u001b[0m \u001b[38;5;28mint\u001b[39m(\u001b[38;5;241m32\u001b[39m\u001b[38;5;241m+\u001b[39m\u001b[38;5;241m42\u001b[39mj)\n",
      "\u001b[1;31mTypeError\u001b[0m: int() argument must be a string, a bytes-like object or a real number, not 'complex'"
     ]
    }
   ],
   "source": [
    "int(32+42j)  #conflex to int connot convert"
   ]
  },
  {
   "cell_type": "code",
   "execution_count": 275,
   "id": "982d39b0-182c-4e10-bb13-41a4e4788a29",
   "metadata": {},
   "outputs": [
    {
     "name": "stdout",
     "output_type": "stream",
     "text": [
      "12\n"
     ]
    }
   ],
   "source": [
    "print(int('12'))\n"
   ]
  },
  {
   "cell_type": "code",
   "execution_count": 274,
   "id": "98fd4503-f7ca-4267-99c6-a2c846dc117d",
   "metadata": {},
   "outputs": [
    {
     "ename": "ValueError",
     "evalue": "invalid literal for int() with base 10: 'stive'",
     "output_type": "error",
     "traceback": [
      "\u001b[1;31m---------------------------------------------------------------------------\u001b[0m",
      "\u001b[1;31mValueError\u001b[0m                                Traceback (most recent call last)",
      "Cell \u001b[1;32mIn[274], line 1\u001b[0m\n\u001b[1;32m----> 1\u001b[0m \u001b[38;5;28mprint\u001b[39m(\u001b[38;5;28mint\u001b[39m(\u001b[38;5;124m'\u001b[39m\u001b[38;5;124mstive\u001b[39m\u001b[38;5;124m'\u001b[39m))\n",
      "\u001b[1;31mValueError\u001b[0m: invalid literal for int() with base 10: 'stive'"
     ]
    }
   ],
   "source": [
    "print(int('stive'))"
   ]
  },
  {
   "cell_type": "code",
   "execution_count": 289,
   "id": "a1fe8d2a-1d6f-4995-85c4-9467e7a78656",
   "metadata": {},
   "outputs": [],
   "source": [
    "#Float Data Type"
   ]
  },
  {
   "cell_type": "code",
   "execution_count": 276,
   "id": "e993f0c6-4485-4fe3-8cbe-f560cb3f283f",
   "metadata": {},
   "outputs": [
    {
     "data": {
      "text/plain": [
       "23.0"
      ]
     },
     "execution_count": 276,
     "metadata": {},
     "output_type": "execute_result"
    }
   ],
   "source": [
    "float(23)"
   ]
  },
  {
   "cell_type": "code",
   "execution_count": 277,
   "id": "e5273f98-e4a8-4860-a67d-5c00f99774c9",
   "metadata": {},
   "outputs": [
    {
     "data": {
      "text/plain": [
       "23.0"
      ]
     },
     "execution_count": 277,
     "metadata": {},
     "output_type": "execute_result"
    }
   ],
   "source": [
    "float(23)"
   ]
  },
  {
   "cell_type": "code",
   "execution_count": 278,
   "id": "67319439-cbe4-4680-b0e5-6bb61fabccca",
   "metadata": {},
   "outputs": [
    {
     "data": {
      "text/plain": [
       "23.0"
      ]
     },
     "execution_count": 278,
     "metadata": {},
     "output_type": "execute_result"
    }
   ],
   "source": [
    "float('23')"
   ]
  },
  {
   "cell_type": "code",
   "execution_count": 286,
   "id": "4c00bac1-3a35-4fd8-af69-f819ea0b3ffe",
   "metadata": {},
   "outputs": [
    {
     "data": {
      "text/plain": [
       "1.0"
      ]
     },
     "execution_count": 286,
     "metadata": {},
     "output_type": "execute_result"
    }
   ],
   "source": [
    "float(True)"
   ]
  },
  {
   "cell_type": "code",
   "execution_count": 287,
   "id": "5e7d6502-ab67-438c-8247-bb6930aecb11",
   "metadata": {},
   "outputs": [
    {
     "ename": "NameError",
     "evalue": "name 'Float' is not defined",
     "output_type": "error",
     "traceback": [
      "\u001b[1;31m---------------------------------------------------------------------------\u001b[0m",
      "\u001b[1;31mNameError\u001b[0m                                 Traceback (most recent call last)",
      "Cell \u001b[1;32mIn[287], line 1\u001b[0m\n\u001b[1;32m----> 1\u001b[0m Float(\u001b[38;5;28;01mFalse\u001b[39;00m)\n",
      "\u001b[1;31mNameError\u001b[0m: name 'Float' is not defined"
     ]
    }
   ],
   "source": [
    "Float(False)"
   ]
  },
  {
   "cell_type": "code",
   "execution_count": 288,
   "id": "7f233ea1-fe95-48fc-a201-efc3e186af9e",
   "metadata": {},
   "outputs": [],
   "source": [
    "#complex Data Type"
   ]
  },
  {
   "cell_type": "code",
   "execution_count": 279,
   "id": "e6048c09-56cd-422b-af50-2b8ea0b64f8d",
   "metadata": {},
   "outputs": [
    {
     "data": {
      "text/plain": [
       "(1+0j)"
      ]
     },
     "execution_count": 279,
     "metadata": {},
     "output_type": "execute_result"
    }
   ],
   "source": [
    "complex(1)"
   ]
  },
  {
   "cell_type": "code",
   "execution_count": 280,
   "id": "f0d5aa02-024c-44ac-affb-da7d023d003c",
   "metadata": {},
   "outputs": [
    {
     "data": {
      "text/plain": [
       "(1.5+0j)"
      ]
     },
     "execution_count": 280,
     "metadata": {},
     "output_type": "execute_result"
    }
   ],
   "source": [
    "complex(1.5)"
   ]
  },
  {
   "cell_type": "code",
   "execution_count": 281,
   "id": "09b075c1-c2f0-4e16-aac6-d8de670510af",
   "metadata": {},
   "outputs": [
    {
     "data": {
      "text/plain": [
       "(1+5j)"
      ]
     },
     "execution_count": 281,
     "metadata": {},
     "output_type": "execute_result"
    }
   ],
   "source": [
    "complex(1,5)"
   ]
  },
  {
   "cell_type": "code",
   "execution_count": 283,
   "id": "481c87be-4955-4853-81b1-96079842966b",
   "metadata": {},
   "outputs": [
    {
     "data": {
      "text/plain": [
       "(1.3+3j)"
      ]
     },
     "execution_count": 283,
     "metadata": {},
     "output_type": "execute_result"
    }
   ],
   "source": [
    "complex(1.3,3)"
   ]
  },
  {
   "cell_type": "code",
   "execution_count": 284,
   "id": "ebda8144-0b76-46fc-a773-5733930ee759",
   "metadata": {},
   "outputs": [
    {
     "data": {
      "text/plain": [
       "(56+34.4535666656j)"
      ]
     },
     "execution_count": 284,
     "metadata": {},
     "output_type": "execute_result"
    }
   ],
   "source": [
    "complex(56,34.4535666656)"
   ]
  },
  {
   "cell_type": "code",
   "execution_count": 285,
   "id": "d92a166a-6960-4ec5-be51-71f04c5046bb",
   "metadata": {},
   "outputs": [
    {
     "data": {
      "text/plain": [
       "(1+0j)"
      ]
     },
     "execution_count": 285,
     "metadata": {},
     "output_type": "execute_result"
    }
   ],
   "source": [
    "complex(True,False)"
   ]
  },
  {
   "cell_type": "code",
   "execution_count": 290,
   "id": "2e54f50c-50ed-4829-ae19-2dd7cb4564a7",
   "metadata": {},
   "outputs": [
    {
     "data": {
      "text/plain": [
       "1j"
      ]
     },
     "execution_count": 290,
     "metadata": {},
     "output_type": "execute_result"
    }
   ],
   "source": [
    "complex(False,True)"
   ]
  },
  {
   "cell_type": "code",
   "execution_count": null,
   "id": "7c46458d-7715-4efb-b299-52d705e6079a",
   "metadata": {},
   "outputs": [],
   "source": [
    "#String Data Type"
   ]
  },
  {
   "cell_type": "code",
   "execution_count": 299,
   "id": "1da1fcec-0dd5-46e0-a891-21438f12545a",
   "metadata": {},
   "outputs": [
    {
     "ename": "TypeError",
     "evalue": "'str' object is not callable",
     "output_type": "error",
     "traceback": [
      "\u001b[1;31m---------------------------------------------------------------------------\u001b[0m",
      "\u001b[1;31mTypeError\u001b[0m                                 Traceback (most recent call last)",
      "Cell \u001b[1;32mIn[299], line 1\u001b[0m\n\u001b[1;32m----> 1\u001b[0m \u001b[38;5;28mstr\u001b[39m(\u001b[38;5;241m10\u001b[39m)\n",
      "\u001b[1;31mTypeError\u001b[0m: 'str' object is not callable"
     ]
    }
   ],
   "source": [
    "str(10)      ##################"
   ]
  },
  {
   "cell_type": "code",
   "execution_count": 294,
   "id": "39f3c3fa-844d-4b45-b1b1-f742faf1b085",
   "metadata": {},
   "outputs": [
    {
     "ename": "TypeError",
     "evalue": "'str' object is not callable",
     "output_type": "error",
     "traceback": [
      "\u001b[1;31m---------------------------------------------------------------------------\u001b[0m",
      "\u001b[1;31mTypeError\u001b[0m                                 Traceback (most recent call last)",
      "Cell \u001b[1;32mIn[294], line 1\u001b[0m\n\u001b[1;32m----> 1\u001b[0m \u001b[38;5;28mstr\u001b[39m(\u001b[38;5;241m101.10\u001b[39m)\n",
      "\u001b[1;31mTypeError\u001b[0m: 'str' object is not callable"
     ]
    }
   ],
   "source": [
    "str(101.10)             #####################"
   ]
  },
  {
   "cell_type": "code",
   "execution_count": 300,
   "id": "e403ba0d-4a2a-4767-a654-0fee72cbdfd7",
   "metadata": {},
   "outputs": [
    {
     "ename": "TypeError",
     "evalue": "'str' object is not callable",
     "output_type": "error",
     "traceback": [
      "\u001b[1;31m---------------------------------------------------------------------------\u001b[0m",
      "\u001b[1;31mTypeError\u001b[0m                                 Traceback (most recent call last)",
      "Cell \u001b[1;32mIn[300], line 1\u001b[0m\n\u001b[1;32m----> 1\u001b[0m \u001b[38;5;28mstr\u001b[39m(\u001b[38;5;28;01mTrue\u001b[39;00m)\n",
      "\u001b[1;31mTypeError\u001b[0m: 'str' object is not callable"
     ]
    }
   ],
   "source": [
    "str(True)         #################"
   ]
  },
  {
   "cell_type": "code",
   "execution_count": 301,
   "id": "c17a07f7-bda0-4126-8cae-fe836a1731b6",
   "metadata": {},
   "outputs": [
    {
     "ename": "TypeError",
     "evalue": "'str' object is not callable",
     "output_type": "error",
     "traceback": [
      "\u001b[1;31m---------------------------------------------------------------------------\u001b[0m",
      "\u001b[1;31mTypeError\u001b[0m                                 Traceback (most recent call last)",
      "Cell \u001b[1;32mIn[301], line 1\u001b[0m\n\u001b[1;32m----> 1\u001b[0m \u001b[38;5;28mstr\u001b[39m(\u001b[38;5;241m1\u001b[39m\u001b[38;5;241m+\u001b[39m\u001b[38;5;241m4\u001b[39mj)\n",
      "\u001b[1;31mTypeError\u001b[0m: 'str' object is not callable"
     ]
    }
   ],
   "source": [
    "str(1+4j)   ############"
   ]
  },
  {
   "cell_type": "code",
   "execution_count": 302,
   "id": "ed773630-4ccd-43f4-9b35-518c69a15ad6",
   "metadata": {},
   "outputs": [
    {
     "data": {
      "text/plain": [
       "True"
      ]
     },
     "execution_count": 302,
     "metadata": {},
     "output_type": "execute_result"
    }
   ],
   "source": [
    "bool(10)"
   ]
  },
  {
   "cell_type": "code",
   "execution_count": 303,
   "id": "f36834a0-714d-498b-98cf-7ac71dcdee78",
   "metadata": {},
   "outputs": [
    {
     "data": {
      "text/plain": [
       "False"
      ]
     },
     "execution_count": 303,
     "metadata": {},
     "output_type": "execute_result"
    }
   ],
   "source": [
    "bool(0)"
   ]
  },
  {
   "cell_type": "code",
   "execution_count": 304,
   "id": "1cbd1022-5e7b-4f8f-a3a6-25038756cbfb",
   "metadata": {},
   "outputs": [
    {
     "data": {
      "text/plain": [
       "False"
      ]
     },
     "execution_count": 304,
     "metadata": {},
     "output_type": "execute_result"
    }
   ],
   "source": [
    "bool()"
   ]
  },
  {
   "cell_type": "code",
   "execution_count": 305,
   "id": "37bc2113-0a94-4dd5-94a2-7f6cd33bb983",
   "metadata": {},
   "outputs": [
    {
     "data": {
      "text/plain": [
       "True"
      ]
     },
     "execution_count": 305,
     "metadata": {},
     "output_type": "execute_result"
    }
   ],
   "source": [
    "bool(34.5)"
   ]
  },
  {
   "cell_type": "code",
   "execution_count": 306,
   "id": "437b2e39-f499-4f10-9d4e-f21540cd6bb5",
   "metadata": {},
   "outputs": [
    {
     "data": {
      "text/plain": [
       "True"
      ]
     },
     "execution_count": 306,
     "metadata": {},
     "output_type": "execute_result"
    }
   ],
   "source": [
    "bool(1+3J)"
   ]
  },
  {
   "cell_type": "code",
   "execution_count": 307,
   "id": "e91bfede-6797-443c-820f-90d4df5f7e40",
   "metadata": {},
   "outputs": [
    {
     "data": {
      "text/plain": [
       "True"
      ]
     },
     "execution_count": 307,
     "metadata": {},
     "output_type": "execute_result"
    }
   ],
   "source": [
    "bool('nit')"
   ]
  },
  {
   "cell_type": "code",
   "execution_count": 308,
   "id": "241488c0-477b-4377-9b30-b5d2be61288c",
   "metadata": {},
   "outputs": [
    {
     "name": "stdout",
     "output_type": "stream",
     "text": [
      "<class 'int'>\n"
     ]
    }
   ],
   "source": [
    "a=33\n",
    "print(type(a))"
   ]
  },
  {
   "cell_type": "code",
   "execution_count": 310,
   "id": "c81c07b5-0cd9-4773-9459-00fde3ade910",
   "metadata": {},
   "outputs": [
    {
     "name": "stdout",
     "output_type": "stream",
     "text": [
      "<class 'list'>\n"
     ]
    }
   ],
   "source": [
    "a1=[2,5]\n",
    "print(type(a1))"
   ]
  },
  {
   "cell_type": "code",
   "execution_count": 312,
   "id": "f51f8786-ea18-4a68-b8c5-ee27a2e37a75",
   "metadata": {},
   "outputs": [
    {
     "name": "stdout",
     "output_type": "stream",
     "text": [
      "<class 'set'>\n"
     ]
    }
   ],
   "source": [
    "a2={2,5}\n",
    "print(type(a2))"
   ]
  },
  {
   "cell_type": "code",
   "execution_count": 313,
   "id": "43d72534-2ce9-4bc6-a603-df3dbdac90de",
   "metadata": {},
   "outputs": [
    {
     "data": {
      "text/plain": [
       "15"
      ]
     },
     "execution_count": 313,
     "metadata": {},
     "output_type": "execute_result"
    }
   ],
   "source": [
    "len(\"nareshtechhlogy\")"
   ]
  },
  {
   "cell_type": "code",
   "execution_count": null,
   "id": "5bd75af2-b341-4058-b51b-03250be90e2f",
   "metadata": {},
   "outputs": [],
   "source": []
  }
 ],
 "metadata": {
  "kernelspec": {
   "display_name": "Python 3 (ipykernel)",
   "language": "python",
   "name": "python3"
  },
  "language_info": {
   "codemirror_mode": {
    "name": "ipython",
    "version": 3
   },
   "file_extension": ".py",
   "mimetype": "text/x-python",
   "name": "python",
   "nbconvert_exporter": "python",
   "pygments_lexer": "ipython3",
   "version": "3.12.7"
  }
 },
 "nbformat": 4,
 "nbformat_minor": 5
}
