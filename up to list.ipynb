{
 "cells": [
  {
   "cell_type": "markdown",
   "id": "2eaace8c-03b4-4a05-9aea-92ca6daf57ed",
   "metadata": {},
   "source": [
    "#PRINT MULTIPULE CHATECTHERS"
   ]
  },
  {
   "cell_type": "code",
   "execution_count": 66,
   "id": "8f743497-cbc2-4ddd-8628-f396edc00af6",
   "metadata": {},
   "outputs": [
    {
     "name": "stdout",
     "output_type": "stream",
     "text": [
      "the first vatriable of x: 4 andthe fsecond vatriable of y: 5\n",
      "the first vatriable of x: 4 andthe fsecond vatriable of y: 5\n"
     ]
    }
   ],
   "source": [
    "x=4\n",
    "y=5\n",
    "\n",
    "print(\"the first vatriable of x:\",x,\"andthe fsecond vatriable of y:\",y)     \n",
    "print(\"the first vatriable of x:\",x,\"andthe fsecond vatriable of y:\",y)  "
   ]
  },
  {
   "cell_type": "code",
   "execution_count": 42,
   "id": "ae7ba6cf-1218-4d7c-b236-afcf3b8a1eaa",
   "metadata": {},
   "outputs": [
    {
     "name": "stdout",
     "output_type": "stream",
     "text": [
      "the first vatriable of x: {} andthe fsecond vatriable of y: {}\n",
      "the first vatriable of x: {} andthe fsecond vatriable of y: {}\n"
     ]
    }
   ],
   "source": [
    "x=4\n",
    "y=5\n",
    "\n",
    "print(\"the first vatriable of x:\",{}, \"andthe fsecond vatriable of y:\",{})   \n",
    "print(\"the first vatriable of x:\",{},\"andthe fsecond vatriable of y:\",{})"
   ]
  },
  {
   "cell_type": "code",
   "execution_count": null,
   "id": "41e56167-1a37-40c9-8cea-0661dd926949",
   "metadata": {},
   "outputs": [],
   "source": [
    "######   SEPERATOR STATEMENT"
   ]
  },
  {
   "cell_type": "code",
   "execution_count": 61,
   "id": "aaa73607-5ee5-4540-8a69-9dc9a59e14cf",
   "metadata": {},
   "outputs": [
    {
     "name": "stdout",
     "output_type": "stream",
     "text": [
      "apple&banana&cherry&kiwi\n"
     ]
    }
   ],
   "source": [
    "print(\"apple\",\"banana\",\"cherry\",\"kiwi\",sep='&')"
   ]
  },
  {
   "cell_type": "code",
   "execution_count": 14,
   "id": "aaa3375e-bbee-4476-8f71-ca133051509a",
   "metadata": {},
   "outputs": [
    {
     "name": "stdout",
     "output_type": "stream",
     "text": [
      "apple,banana,cherry,kiwi\n"
     ]
    }
   ],
   "source": [
    "print(\"apple\",\"banana\",\"cherry\",\"kiwi\",sep=\",\")"
   ]
  },
  {
   "cell_type": "code",
   "execution_count": 15,
   "id": "45518242-8a96-427e-8f00-7b4a9fa70032",
   "metadata": {},
   "outputs": [
    {
     "name": "stdout",
     "output_type": "stream",
     "text": [
      "applebananacherrykiwi\n"
     ]
    }
   ],
   "source": [
    "print(\"apple\",\"banana\",\"cherry\",\"kiwi\",sep=\"\")"
   ]
  },
  {
   "cell_type": "code",
   "execution_count": 62,
   "id": "055570ba-66ea-4cd9-9ebb-36420c03cae7",
   "metadata": {},
   "outputs": [
    {
     "name": "stdout",
     "output_type": "stream",
     "text": [
      "apple---->banana---->cherry---->kiwi\n"
     ]
    }
   ],
   "source": [
    "print(\"apple\",\"banana\",\"cherry\",\"kiwi\",sep=\"---->\")"
   ]
  },
  {
   "cell_type": "code",
   "execution_count": 63,
   "id": "34f1ff0a-30e5-4595-9bcb-5dc7b54486a1",
   "metadata": {},
   "outputs": [
    {
     "name": "stdout",
     "output_type": "stream",
     "text": [
      "3.\n"
     ]
    }
   ],
   "source": [
    "print(3,'.',sep='')"
   ]
  },
  {
   "cell_type": "code",
   "execution_count": null,
   "id": "0c43a349-4330-4f74-90e0-6d024f3e1871",
   "metadata": {},
   "outputs": [],
   "source": [
    "######    END STATEMENT"
   ]
  },
  {
   "cell_type": "code",
   "execution_count": 21,
   "id": "7016c731-df25-412c-b647-c9b5ca615067",
   "metadata": {},
   "outputs": [
    {
     "name": "stdout",
     "output_type": "stream",
     "text": [
      "apple banana\n"
     ]
    }
   ],
   "source": [
    "print(\"apple\",end=\" \")\n",
    "print(\"banana\")"
   ]
  },
  {
   "cell_type": "code",
   "execution_count": 24,
   "id": "67c299ed-5abf-450b-9325-92b36e20383a",
   "metadata": {},
   "outputs": [
    {
     "name": "stdout",
     "output_type": "stream",
     "text": [
      "Hello Welcome ! .....\n"
     ]
    }
   ],
   "source": [
    "print(\"Hello\",end=\" \")\n",
    "print(\"Welcome\",\"!\",\".....\")"
   ]
  },
  {
   "cell_type": "code",
   "execution_count": null,
   "id": "5a92556f-38f2-47fd-a3c8-16aae542aa70",
   "metadata": {},
   "outputs": [],
   "source": [
    "###  Redirecting Output to a File\n"
   ]
  },
  {
   "cell_type": "code",
   "execution_count": null,
   "id": "eb05f120-8b54-4b06-a498-320199e017e6",
   "metadata": {},
   "outputs": [],
   "source": [
    "\n",
    "By default, the output of print() is sent to the console (standard output).  \n",
    "Output will generate in another file"
   ]
  },
  {
   "cell_type": "code",
   "execution_count": 26,
   "id": "d516b4a1-b95a-4fb0-b89e-2bd64fcc60e6",
   "metadata": {},
   "outputs": [],
   "source": [
    "with open('output.txt','w') as file:\n",
    "    print(\"hello,world!\",file=file)   ######################"
   ]
  },
  {
   "cell_type": "code",
   "execution_count": null,
   "id": "2ab314c9-0db5-4501-8806-f9c6918714c0",
   "metadata": {},
   "outputs": [],
   "source": [
    "old_style string formatting(%)"
   ]
  },
  {
   "cell_type": "code",
   "execution_count": 27,
   "id": "b64ce49e-778d-42ac-a937-8f16c996292e",
   "metadata": {},
   "outputs": [
    {
     "name": "stdout",
     "output_type": "stream",
     "text": [
      "my name is Ann i am 30 years old\n"
     ]
    }
   ],
   "source": [
    "name=\"Ann\"\n",
    "age=30\n",
    "print(\"my name is %s i am %d years old\"%(name,age))"
   ]
  },
  {
   "cell_type": "code",
   "execution_count": null,
   "id": "ba4bc1fc-8847-40a4-b957-a0d57711c848",
   "metadata": {},
   "outputs": [],
   "source": [
    "####  More short format meythod(f string method) "
   ]
  },
  {
   "cell_type": "code",
   "execution_count": 33,
   "id": "d32fa79f-b1ed-412c-9da8-1c634368bc2c",
   "metadata": {},
   "outputs": [
    {
     "name": "stdout",
     "output_type": "stream",
     "text": [
      "my name is Ann and i am 30 years old\n"
     ]
    }
   ],
   "source": [
    "name=\"Ann\"\n",
    "age=30\n",
    "print(\"my name is {} and i am {} years old\".format(name,age))"
   ]
  },
  {
   "cell_type": "code",
   "execution_count": 51,
   "id": "337c0247-56aa-4d82-ad9b-919cffeaa7ce",
   "metadata": {},
   "outputs": [
    {
     "name": "stdout",
     "output_type": "stream",
     "text": [
      "hello my name is Ann, and i am 30 years old from LONDON\n"
     ]
    }
   ],
   "source": [
    "city='LONDON'\n",
    "print('hello my name is {}, and i am {} years old from {}'.format(name,age,city))"
   ]
  },
  {
   "cell_type": "code",
   "execution_count": 98,
   "id": "742d8bb3-3408-43a3-8508-1d74bff9a96f",
   "metadata": {},
   "outputs": [
    {
     "name": "stdout",
     "output_type": "stream",
     "text": [
      "hello my name is {nane}, and i am 30 years old from LONDON\n"
     ]
    }
   ],
   "source": [
    "name=\"Anne\"\n",
    "age=30\n",
    "city='LONDON'\n",
    "print(f'hello my name is {{nane}}, and i am {age} years old from {city}')  ########"
   ]
  },
  {
   "cell_type": "code",
   "execution_count": 43,
   "id": "7d721504-a687-4943-89fc-88934ad69223",
   "metadata": {},
   "outputs": [
    {
     "name": "stdout",
     "output_type": "stream",
     "text": [
      "The avrage of 20, 30, and 333 is= 127.66666666666667 or 127.67\n"
     ]
    }
   ],
   "source": [
    "um1=100 \n",
    "num2=25 \n",
    "num3=333 \n",
    "num1=20 \n",
    "num2=30 \n",
    "avg=(num1+num2+num3)/3 # or we can use avg=round(num1+num2+num3)/3,2) \n",
    "avg1=round((num1+num2+num3)/3,2) # The avrage of num1,num2,num3 is = avg \n",
    "print('The avrage of {}, {}, and {} is= {} or {}'.format(num1,num2,num3, \n",
    "avg,avg1)) # here we can use round(avg,2) also"
   ]
  },
  {
   "cell_type": "code",
   "execution_count": 65,
   "id": "06e72aa9-4ad2-454a-8c70-bb59fcb53ab4",
   "metadata": {},
   "outputs": [
    {
     "name": "stdout",
     "output_type": "stream",
     "text": [
      "1 2 3.\n"
     ]
    }
   ],
   "source": [
    "print(1,2,end=' ')\n",
    "print(3,'.',sep='')"
   ]
  },
  {
   "cell_type": "code",
   "execution_count": 134,
   "id": "b3f810da-92da-4606-a391-8a369b79dde5",
   "metadata": {},
   "outputs": [
    {
     "name": "stdout",
     "output_type": "stream",
     "text": [
      "Division:0.6666666666666666\n"
     ]
    }
   ],
   "source": [
    "num1=20 \n",
    "num2=30 \n",
    "num=(num1 / num2)\n",
    "\n",
    "print('Division:{}'.format( num))"
   ]
  },
  {
   "cell_type": "code",
   "execution_count": 129,
   "id": "a7ffafd9-c8c0-412d-88b0-5467c475b8da",
   "metadata": {},
   "outputs": [
    {
     "name": "stdout",
     "output_type": "stream",
     "text": [
      "Multiplication:600 \n"
     ]
    }
   ],
   "source": [
    "um1=10 \n",
    "num2=25 \n",
    "#num3=( num1 * num2)\n",
    "num1=20 \n",
    "num2=30 \n",
    "#num=( num1 * num2),2\n",
    "print('Multiplication:{} '.format( num1 * num2) )    ########"
   ]
  },
  {
   "cell_type": "code",
   "execution_count": 128,
   "id": "c5c0b536-5dbb-43d5-b094-18e75532c627",
   "metadata": {},
   "outputs": [
    {
     "name": "stdout",
     "output_type": "stream",
     "text": [
      "Modulus:20\n"
     ]
    }
   ],
   "source": [
    "print('Modulus:{}'.format( num1 % num2,))"
   ]
  },
  {
   "cell_type": "code",
   "execution_count": 135,
   "id": "1beea509-e1ef-4d6c-b5a2-4688c05b24c7",
   "metadata": {},
   "outputs": [
    {
     "name": "stdout",
     "output_type": "stream",
     "text": [
      "Division without the remainder: 0 \n"
     ]
    }
   ],
   "source": [
    "print('Division without the remainder: {} '.format( num1 // num2))"
   ]
  },
  {
   "cell_type": "code",
   "execution_count": 139,
   "id": "336ed207-8357-4171-9ce2-c0f03ade273d",
   "metadata": {},
   "outputs": [
    {
     "name": "stdout",
     "output_type": "stream",
     "text": [
      "Exponential: 1073741824000000000000000000000000000000\n"
     ]
    }
   ],
   "source": [
    "print('Exponential: {}'.format( num1 ** num2)) "
   ]
  },
  {
   "cell_type": "code",
   "execution_count": 141,
   "id": "8e15848f-6bfe-4cad-9eda-8c49708e19b4",
   "metadata": {},
   "outputs": [
    {
     "name": "stdout",
     "output_type": "stream",
     "text": [
      "Exponential: 25 \n"
     ]
    }
   ],
   "source": [
    "num1=5\n",
    "num2=2\n",
    "print('Exponential: {} '.format( num1 ** num2))  "
   ]
  },
  {
   "cell_type": "code",
   "execution_count": 142,
   "id": "da59a2be-8138-4d6f-947c-7d7a140215b5",
   "metadata": {},
   "outputs": [],
   "source": [
    "va=23,43"
   ]
  },
  {
   "cell_type": "code",
   "execution_count": 143,
   "id": "2ab18c77-0a6a-43a2-ba5a-86220009cce0",
   "metadata": {},
   "outputs": [
    {
     "data": {
      "text/plain": [
       "(23, 43)"
      ]
     },
     "execution_count": 143,
     "metadata": {},
     "output_type": "execute_result"
    }
   ],
   "source": [
    "va"
   ]
  },
  {
   "cell_type": "code",
   "execution_count": 144,
   "id": "fa12cc31-4a76-454f-81f0-5b970ab0984c",
   "metadata": {},
   "outputs": [],
   "source": [
    "va,var=23,43"
   ]
  },
  {
   "cell_type": "code",
   "execution_count": 145,
   "id": "31beab78-65ca-4d8d-926f-ef750fc349b6",
   "metadata": {},
   "outputs": [
    {
     "name": "stdout",
     "output_type": "stream",
     "text": [
      "23\n",
      "43\n"
     ]
    }
   ],
   "source": [
    "print(va)\n",
    "print(var)"
   ]
  },
  {
   "cell_type": "code",
   "execution_count": null,
   "id": "a4300caf-322e-43ca-ba36-87882b00eb48",
   "metadata": {},
   "outputs": [],
   "source": [
    "# we cannon type cast from complext to float & rest of the type casting possible(string should be number)\n",
    "## we cannon type cast from complext to int & rest of the type casting possible(string should be number)\n",
    "## we can  type cast from all other datatype to bool \n",
    "## we can  type cast from all other datatype to string"
   ]
  },
  {
   "cell_type": "code",
   "execution_count": 146,
   "id": "e39c38e1-18c8-4887-9eeb-6b7b0d77d9a3",
   "metadata": {},
   "outputs": [
    {
     "name": "stdout",
     "output_type": "stream",
     "text": [
      "True\n",
      "True\n",
      "True\n",
      "True\n",
      "True\n",
      "False\n"
     ]
    }
   ],
   "source": [
    "print(bool(9))\n",
    "print(bool(9.9))\n",
    "print(bool('9'))\n",
    "print(bool(9 + 9j))\n",
    "print(bool(_))\n",
    "print(bool())"
   ]
  },
  {
   "cell_type": "code",
   "execution_count": null,
   "id": "70ee6ae6-8000-4d9b-aaba-58730d529d39",
   "metadata": {},
   "outputs": [],
   "source": [
    "###  List datastructure\n"
   ]
  },
  {
   "cell_type": "code",
   "execution_count": 154,
   "id": "73bbfdaf-d100-4a1e-ad75-a6fe953edef3",
   "metadata": {},
   "outputs": [
    {
     "data": {
      "text/plain": [
       "float"
      ]
     },
     "execution_count": 154,
     "metadata": {},
     "output_type": "execute_result"
    }
   ],
   "source": [
    "i=5.3\n",
    "type(i)"
   ]
  },
  {
   "cell_type": "code",
   "execution_count": 149,
   "id": "41d25588-b094-49c4-95bf-1be368277ee5",
   "metadata": {},
   "outputs": [
    {
     "data": {
      "text/plain": [
       "list"
      ]
     },
     "execution_count": 149,
     "metadata": {},
     "output_type": "execute_result"
    }
   ],
   "source": [
    "l=[]\n",
    "type(l)"
   ]
  },
  {
   "cell_type": "code",
   "execution_count": 158,
   "id": "aa5d6896-33f0-43a0-95c6-34e91ba96135",
   "metadata": {},
   "outputs": [
    {
     "data": {
      "text/plain": [
       "[10, 10, 10, 10, 1, 10]"
      ]
     },
     "execution_count": 158,
     "metadata": {},
     "output_type": "execute_result"
    }
   ],
   "source": [
    "l.append(10)\n",
    "l"
   ]
  },
  {
   "cell_type": "code",
   "execution_count": 159,
   "id": "c748a1c4-783e-4d5a-b6da-11edc92d027f",
   "metadata": {},
   "outputs": [
    {
     "data": {
      "text/plain": [
       "6"
      ]
     },
     "execution_count": 159,
     "metadata": {},
     "output_type": "execute_result"
    }
   ],
   "source": [
    "len(l)"
   ]
  },
  {
   "cell_type": "code",
   "execution_count": 160,
   "id": "8ad55ee7-6975-4d6c-881b-3f021f36d411",
   "metadata": {},
   "outputs": [
    {
     "ename": "TypeError",
     "evalue": "list.append() takes exactly one argument (4 given)",
     "output_type": "error",
     "traceback": [
      "\u001b[1;31m---------------------------------------------------------------------------\u001b[0m",
      "\u001b[1;31mTypeError\u001b[0m                                 Traceback (most recent call last)",
      "Cell \u001b[1;32mIn[160], line 1\u001b[0m\n\u001b[1;32m----> 1\u001b[0m l\u001b[38;5;241m.\u001b[39mappend(\u001b[38;5;241m10\u001b[39m,\u001b[38;5;241m20\u001b[39m,\u001b[38;5;241m30\u001b[39m,\u001b[38;5;241m40\u001b[39m)\n\u001b[0;32m      2\u001b[0m l\n",
      "\u001b[1;31mTypeError\u001b[0m: list.append() takes exactly one argument (4 given)"
     ]
    }
   ],
   "source": [
    "l.append(10,20,30,40)\n",
    "l"
   ]
  },
  {
   "cell_type": "code",
   "execution_count": 161,
   "id": "b9293dc3-7bbc-46cf-8306-b089c64b1e9b",
   "metadata": {},
   "outputs": [],
   "source": [
    "l.append(10)\n",
    "l.append(20)\n",
    "l.append(30)\n",
    "l.append(40)"
   ]
  },
  {
   "cell_type": "code",
   "execution_count": 162,
   "id": "029ac7a2-b06e-4673-af60-5cc8de53adbc",
   "metadata": {},
   "outputs": [
    {
     "data": {
      "text/plain": [
       "[10, 10, 10, 10, 1, 10, 10, 20, 30, 40]"
      ]
     },
     "execution_count": 162,
     "metadata": {},
     "output_type": "execute_result"
    }
   ],
   "source": [
    "l"
   ]
  },
  {
   "cell_type": "code",
   "execution_count": 181,
   "id": "0e2afc99-7d64-4ae9-9cb7-04225167ed30",
   "metadata": {},
   "outputs": [],
   "source": [
    "l1=[]\n"
   ]
  },
  {
   "cell_type": "code",
   "execution_count": 182,
   "id": "a2e96d17-6172-4209-be20-4d430df3b070",
   "metadata": {},
   "outputs": [],
   "source": [
    "l1.append(12)\n",
    "l1.append(23.53)\n",
    "l1.append(True)\n",
    "l1.append('1+3j')\n",
    "l1.append([1,2,3])"
   ]
  },
  {
   "cell_type": "code",
   "execution_count": 183,
   "id": "a08d5e36-7e55-47c7-bdf7-e9ed2551853d",
   "metadata": {},
   "outputs": [
    {
     "data": {
      "text/plain": [
       "[12, 23.53, True, '1+3j', [1, 2, 3]]"
      ]
     },
     "execution_count": 183,
     "metadata": {},
     "output_type": "execute_result"
    }
   ],
   "source": [
    "l1"
   ]
  },
  {
   "cell_type": "code",
   "execution_count": 186,
   "id": "41eac874-a8fe-4b0f-a66f-c4740155de77",
   "metadata": {},
   "outputs": [
    {
     "name": "stdout",
     "output_type": "stream",
     "text": [
      "1689977039808\n",
      "1689960005696\n"
     ]
    }
   ],
   "source": [
    "print(id(l))\n",
    "print(id(l1))"
   ]
  },
  {
   "cell_type": "code",
   "execution_count": 187,
   "id": "29de19e5-c203-4a57-9167-2a98dec17371",
   "metadata": {},
   "outputs": [
    {
     "name": "stdout",
     "output_type": "stream",
     "text": [
      "10\n",
      "5\n"
     ]
    }
   ],
   "source": [
    "print(len(l))\n",
    "print(len(l1))"
   ]
  },
  {
   "cell_type": "code",
   "execution_count": 201,
   "id": "689c9782-4b90-418e-85f4-12c475bb14d3",
   "metadata": {},
   "outputs": [
    {
     "data": {
      "text/plain": [
       "[12, 23.53, True, '1+3j', [1, 2, 3]]"
      ]
     },
     "execution_count": 201,
     "metadata": {},
     "output_type": "execute_result"
    }
   ],
   "source": [
    "l2=l1.copy()\n",
    "l2"
   ]
  },
  {
   "cell_type": "code",
   "execution_count": 202,
   "id": "f7f55bca-e4d9-4224-abbc-21e5cef737f1",
   "metadata": {},
   "outputs": [
    {
     "data": {
      "text/plain": [
       "True"
      ]
     },
     "execution_count": 202,
     "metadata": {},
     "output_type": "execute_result"
    }
   ],
   "source": [
    "l1==l2"
   ]
  },
  {
   "cell_type": "code",
   "execution_count": 200,
   "id": "949ca325-1bf0-4218-9f32-620b2c9d5dbb",
   "metadata": {},
   "outputs": [
    {
     "data": {
      "text/plain": [
       "False"
      ]
     },
     "execution_count": 200,
     "metadata": {},
     "output_type": "execute_result"
    }
   ],
   "source": [
    "l==l2"
   ]
  },
  {
   "cell_type": "code",
   "execution_count": 206,
   "id": "4d8d507b-5493-4cfe-b6e8-5c5b33291afe",
   "metadata": {},
   "outputs": [
    {
     "data": {
      "text/plain": [
       "[10, 1, 10, 10, 20, 30, 40]"
      ]
     },
     "execution_count": 206,
     "metadata": {},
     "output_type": "execute_result"
    }
   ],
   "source": [
    "l"
   ]
  },
  {
   "cell_type": "code",
   "execution_count": 211,
   "id": "859bb19f-1723-49ac-a332-bd2abdd2516a",
   "metadata": {},
   "outputs": [],
   "source": [
    "l.append(10)\n",
    "l.append(10)\n",
    "l.append(20)\n",
    "l.append(30)\n",
    "l.append(40)"
   ]
  },
  {
   "cell_type": "code",
   "execution_count": 212,
   "id": "ced1ba3f-5f06-4b22-b775-428aa869ab5e",
   "metadata": {},
   "outputs": [
    {
     "data": {
      "text/plain": [
       "[1, 10, 20, 30, 40, 10, 10, 10, 10, 20, 30, 40]"
      ]
     },
     "execution_count": 212,
     "metadata": {},
     "output_type": "execute_result"
    }
   ],
   "source": [
    "l"
   ]
  },
  {
   "cell_type": "code",
   "execution_count": 214,
   "id": "ce3df8ae-9950-4d4c-a95f-3695af640013",
   "metadata": {},
   "outputs": [
    {
     "data": {
      "text/plain": [
       "[1, 20, 30, 40, 10, 10, 10, 20, 30, 40]"
      ]
     },
     "execution_count": 214,
     "metadata": {},
     "output_type": "execute_result"
    }
   ],
   "source": [
    "l.remove(10)\n",
    "l"
   ]
  },
  {
   "cell_type": "code",
   "execution_count": null,
   "id": "16246851-fe59-4a2a-837f-df7cb283f668",
   "metadata": {},
   "outputs": [],
   "source": [
    "# string indexing"
   ]
  },
  {
   "cell_type": "code",
   "execution_count": 215,
   "id": "df54ecad-6662-4d2a-a5ec-42edb2705d25",
   "metadata": {},
   "outputs": [
    {
     "data": {
      "text/plain": [
       "'nareshit'"
      ]
     },
     "execution_count": 215,
     "metadata": {},
     "output_type": "execute_result"
    }
   ],
   "source": [
    "s7 = 'nareshit'\n",
    "s7"
   ]
  },
  {
   "cell_type": "code",
   "execution_count": 216,
   "id": "e48245db-5eee-42e5-8e0d-f1e0c3c5e1c5",
   "metadata": {},
   "outputs": [
    {
     "data": {
      "text/plain": [
       "'n'"
      ]
     },
     "execution_count": 216,
     "metadata": {},
     "output_type": "execute_result"
    }
   ],
   "source": [
    "s7[0]"
   ]
  },
  {
   "cell_type": "code",
   "execution_count": 218,
   "id": "dc072539-baca-4972-9809-f5df12822309",
   "metadata": {},
   "outputs": [
    {
     "data": {
      "text/plain": [
       "'n'"
      ]
     },
     "execution_count": 218,
     "metadata": {},
     "output_type": "execute_result"
    }
   ],
   "source": [
    "s7[-8]"
   ]
  },
  {
   "cell_type": "code",
   "execution_count": 219,
   "id": "138b790a-e1d7-4731-9ba7-2f77d92aa470",
   "metadata": {},
   "outputs": [
    {
     "name": "stdout",
     "output_type": "stream",
     "text": [
      "n\n",
      "a\n",
      "r\n",
      "e\n",
      "s\n",
      "h\n",
      "i\n",
      "t\n"
     ]
    }
   ],
   "source": [
    "for i in s7:\n",
    "    print(i)"
   ]
  },
  {
   "cell_type": "code",
   "execution_count": 220,
   "id": "67981cab-db84-4346-953d-fbb1bbbdd2f2",
   "metadata": {},
   "outputs": [
    {
     "data": {
      "text/plain": [
       "[1, 2, 3, 4, 5, 6, 7, 8, 9, 10]"
      ]
     },
     "execution_count": 220,
     "metadata": {},
     "output_type": "execute_result"
    }
   ],
   "source": [
    "step_indexing = [1,2,3,4,5,6,7,8,9,10]\n",
    "step_indexing"
   ]
  },
  {
   "cell_type": "code",
   "execution_count": 221,
   "id": "a6b977eb-5572-4a18-958c-bd3a6ccec03a",
   "metadata": {},
   "outputs": [
    {
     "data": {
      "text/plain": [
       "[1, 5, 9]"
      ]
     },
     "execution_count": 221,
     "metadata": {},
     "output_type": "execute_result"
    }
   ],
   "source": [
    "step_indexing[0:10:4]\n"
   ]
  },
  {
   "cell_type": "code",
   "execution_count": 222,
   "id": "7a890e78-ce57-4f7a-9a4a-6b385103e767",
   "metadata": {},
   "outputs": [
    {
     "data": {
      "text/plain": [
       "[1, 2, 3, 4, 5, 6, 7, 8, 9, 10]"
      ]
     },
     "execution_count": 222,
     "metadata": {},
     "output_type": "execute_result"
    }
   ],
   "source": [
    "step_indexing"
   ]
  },
  {
   "cell_type": "code",
   "execution_count": 223,
   "id": "55fdad11-8331-4204-ae15-f351a9038f2a",
   "metadata": {},
   "outputs": [
    {
     "data": {
      "text/plain": [
       "[1, 6]"
      ]
     },
     "execution_count": 223,
     "metadata": {},
     "output_type": "execute_result"
    }
   ],
   "source": [
    "step_indexing[0:10:5]"
   ]
  },
  {
   "cell_type": "code",
   "execution_count": 224,
   "id": "da564da5-c72a-4409-b136-b8e4a559bae1",
   "metadata": {},
   "outputs": [
    {
     "data": {
      "text/plain": [
       "[1, 2, 3, 4, 5, 6, 7, 8, 9, 10]"
      ]
     },
     "execution_count": 224,
     "metadata": {},
     "output_type": "execute_result"
    }
   ],
   "source": [
    "step_indexing"
   ]
  },
  {
   "cell_type": "code",
   "execution_count": 225,
   "id": "601035b6-0beb-4e88-8a34-27e796eabff3",
   "metadata": {},
   "outputs": [
    {
     "data": {
      "text/plain": [
       "[1, 2, 3, 4, 5, 6, 7, 8, 9, 10]"
      ]
     },
     "execution_count": 225,
     "metadata": {},
     "output_type": "execute_result"
    }
   ],
   "source": [
    "step_indexing[:]"
   ]
  },
  {
   "cell_type": "code",
   "execution_count": 226,
   "id": "9763bd29-868e-4710-9f0c-cc0ced3ec0b6",
   "metadata": {},
   "outputs": [
    {
     "data": {
      "text/plain": [
       "[1, 20, 30, 40, 10, 10, 10, 20, 30, 40]"
      ]
     },
     "execution_count": 226,
     "metadata": {},
     "output_type": "execute_result"
    }
   ],
   "source": [
    "l"
   ]
  },
  {
   "cell_type": "code",
   "execution_count": 229,
   "id": "40c35c4c-cdb0-4dce-9caf-eb7f0c8c5fcc",
   "metadata": {},
   "outputs": [],
   "source": [
    "l5=l.reverse()\n",
    "l5"
   ]
  },
  {
   "cell_type": "code",
   "execution_count": 230,
   "id": "3c4ef91c-1f67-4b2e-881b-2834d4ebca39",
   "metadata": {},
   "outputs": [
    {
     "data": {
      "text/plain": [
       "[40, 30, 20, 10, 10, 10, 40, 30, 20, 1]"
      ]
     },
     "execution_count": 230,
     "metadata": {},
     "output_type": "execute_result"
    }
   ],
   "source": [
    "l"
   ]
  },
  {
   "cell_type": "code",
   "execution_count": null,
   "id": "3c5fc22f-009f-40c2-a218-5bdeb8b6c2be",
   "metadata": {},
   "outputs": [],
   "source": [
    "# list indexing & slicing\n"
   ]
  },
  {
   "cell_type": "code",
   "execution_count": 231,
   "id": "d2ad2469-f2bf-4dcd-8b3c-25bce01bf4b2",
   "metadata": {},
   "outputs": [
    {
     "data": {
      "text/plain": [
       "'0b11001'"
      ]
     },
     "execution_count": 231,
     "metadata": {},
     "output_type": "execute_result"
    }
   ],
   "source": [
    "bin(25)   #2\n"
   ]
  },
  {
   "cell_type": "code",
   "execution_count": 233,
   "id": "3a165fe8-3a43-4878-aacf-090266a0d0d3",
   "metadata": {},
   "outputs": [
    {
     "data": {
      "text/plain": [
       "25"
      ]
     },
     "execution_count": 233,
     "metadata": {},
     "output_type": "execute_result"
    }
   ],
   "source": [
    "int(0b11001)"
   ]
  },
  {
   "cell_type": "code",
   "execution_count": 234,
   "id": "3c994068-5563-4a25-8d70-028d75ea5c3c",
   "metadata": {},
   "outputs": [
    {
     "data": {
      "text/plain": [
       "'0b100011'"
      ]
     },
     "execution_count": 234,
     "metadata": {},
     "output_type": "execute_result"
    }
   ],
   "source": [
    "bin(35)"
   ]
  },
  {
   "cell_type": "code",
   "execution_count": 235,
   "id": "eb105d8e-da57-4fd6-b06c-2d3bacb405c5",
   "metadata": {},
   "outputs": [
    {
     "data": {
      "text/plain": [
       "35"
      ]
     },
     "execution_count": 235,
     "metadata": {},
     "output_type": "execute_result"
    }
   ],
   "source": [
    "int(0b100011)"
   ]
  },
  {
   "cell_type": "code",
   "execution_count": 236,
   "id": "6876bc7c-19e9-4e38-8afc-419e6fa5ba59",
   "metadata": {},
   "outputs": [
    {
     "data": {
      "text/plain": [
       "'0o31'"
      ]
     },
     "execution_count": 236,
     "metadata": {},
     "output_type": "execute_result"
    }
   ],
   "source": [
    "oct(25)    #8"
   ]
  },
  {
   "cell_type": "code",
   "execution_count": 237,
   "id": "521a78f0-f96e-40fc-814c-ab4567e9146f",
   "metadata": {},
   "outputs": [
    {
     "data": {
      "text/plain": [
       "25"
      ]
     },
     "execution_count": 237,
     "metadata": {},
     "output_type": "execute_result"
    }
   ],
   "source": [
    "int(0o31)"
   ]
  },
  {
   "cell_type": "code",
   "execution_count": 238,
   "id": "c73682f1-5ade-4208-99b1-bbdd98b7d1cd",
   "metadata": {},
   "outputs": [
    {
     "data": {
      "text/plain": [
       "'0b111'"
      ]
     },
     "execution_count": 238,
     "metadata": {},
     "output_type": "execute_result"
    }
   ],
   "source": [
    "bin(7)"
   ]
  },
  {
   "cell_type": "code",
   "execution_count": 257,
   "id": "4ae6a58f-5f82-46ed-aeeb-259b952cb2ee",
   "metadata": {},
   "outputs": [
    {
     "name": "stdout",
     "output_type": "stream",
     "text": [
      "0x1\n",
      "0x2\n",
      "0x3\n",
      "0x4\n",
      "0x5\n",
      "0x6\n",
      "0x7\n",
      "0x8\n",
      "0x9\n",
      "0xa\n",
      "0xb\n",
      "0xc\n",
      "0xd\n",
      "0xe\n",
      "0xf\n",
      "0x100\n"
     ]
    }
   ],
   "source": [
    "print(hex(1))\n",
    "print(hex(2))\n",
    "print(hex(3))\n",
    "print(hex(4))\n",
    "print(hex(5))\n",
    "print(hex(6))\n",
    "print(hex(7))\n",
    "print(hex(8))\n",
    "print(hex(9))\n",
    "print(hex(10))\n",
    "print(hex(11))\n",
    "print(hex(12))\n",
    "print(hex(13))\n",
    "print(hex(14))\n",
    "print(hex(15))\n",
    "\n",
    "print(hex(256))"
   ]
  },
  {
   "cell_type": "code",
   "execution_count": 253,
   "id": "18660cee-655e-4e8b-b2f4-8fc62dd42924",
   "metadata": {},
   "outputs": [
    {
     "data": {
      "text/plain": [
       "10"
      ]
     },
     "execution_count": 253,
     "metadata": {},
     "output_type": "execute_result"
    }
   ],
   "source": [
    "0xa"
   ]
  },
  {
   "cell_type": "code",
   "execution_count": 254,
   "id": "9cccdc1d-b020-4a77-809d-cf71889f4c17",
   "metadata": {},
   "outputs": [
    {
     "data": {
      "text/plain": [
       "11"
      ]
     },
     "execution_count": 254,
     "metadata": {},
     "output_type": "execute_result"
    }
   ],
   "source": [
    "0xb"
   ]
  },
  {
   "cell_type": "code",
   "execution_count": 255,
   "id": "1a5155bf-9cc4-4052-8018-ccf3599bebce",
   "metadata": {},
   "outputs": [
    {
     "data": {
      "text/plain": [
       "14"
      ]
     },
     "execution_count": 255,
     "metadata": {},
     "output_type": "execute_result"
    }
   ],
   "source": [
    "0xe"
   ]
  },
  {
   "cell_type": "code",
   "execution_count": 256,
   "id": "2c5e1c99-91f2-4337-80a0-d2a8d4a36ab2",
   "metadata": {},
   "outputs": [
    {
     "data": {
      "text/plain": [
       "'0x100'"
      ]
     },
     "execution_count": 256,
     "metadata": {},
     "output_type": "execute_result"
    }
   ],
   "source": [
    "hex(256)"
   ]
  },
  {
   "cell_type": "code",
   "execution_count": 258,
   "id": "aa383a92-cf36-40c7-8066-4bbb79d6b2fa",
   "metadata": {},
   "outputs": [
    {
     "data": {
      "text/plain": [
       "256"
      ]
     },
     "execution_count": 258,
     "metadata": {},
     "output_type": "execute_result"
    }
   ],
   "source": [
    "int(0x100)"
   ]
  },
  {
   "cell_type": "code",
   "execution_count": null,
   "id": "0ca417b5-cc05-4da0-9ccc-416615e25e64",
   "metadata": {},
   "outputs": [],
   "source": [
    "## HOW TO SWAP 2 VARIABLE"
   ]
  },
  {
   "cell_type": "code",
   "execution_count": 259,
   "id": "8c78801b-39cf-4687-b8a2-5deebf73795f",
   "metadata": {},
   "outputs": [],
   "source": [
    "a=5\n",
    "b=6\n"
   ]
  },
  {
   "cell_type": "code",
   "execution_count": null,
   "id": "73abc9b9-6e00-4e0f-b705-d5b371df9aca",
   "metadata": {},
   "outputs": [],
   "source": [
    "a=b\n",
    "b=a"
   ]
  },
  {
   "cell_type": "code",
   "execution_count": 260,
   "id": "9eab4012-9e3f-46a9-9d4e-a94a27146d08",
   "metadata": {},
   "outputs": [
    {
     "name": "stdout",
     "output_type": "stream",
     "text": [
      "6\n",
      "6\n"
     ]
    }
   ],
   "source": [
    "print(a)\n",
    "print(b)"
   ]
  },
  {
   "cell_type": "code",
   "execution_count": 271,
   "id": "9392184c-0be2-4d44-90cf-09959f69776a",
   "metadata": {},
   "outputs": [],
   "source": [
    "a2=5\n",
    "b2=6"
   ]
  },
  {
   "cell_type": "code",
   "execution_count": 272,
   "id": "39a9b6f9-ed90-4cf6-8c1b-de4b173ddaf5",
   "metadata": {},
   "outputs": [],
   "source": [
    "a2=a2+b2 #5+6=11\n",
    "b2=a2-b2 #11-6=5   #correct\n",
    "a2=a2-b2 #11-5=6"
   ]
  },
  {
   "cell_type": "code",
   "execution_count": 273,
   "id": "9070fec8-45ce-4171-8d79-89dc32948a23",
   "metadata": {},
   "outputs": [
    {
     "name": "stdout",
     "output_type": "stream",
     "text": [
      "6\n",
      "5\n"
     ]
    }
   ],
   "source": [
    "print(a2)\n",
    "print(b2)"
   ]
  },
  {
   "cell_type": "code",
   "execution_count": 286,
   "id": "181ab7f0-4d71-41dd-a1e2-4fdf3e918fe8",
   "metadata": {},
   "outputs": [],
   "source": [
    "a1=5\n",
    "b1=6"
   ]
  },
  {
   "cell_type": "code",
   "execution_count": 287,
   "id": "f0265987-66a6-43f8-b091-375a29a73dfd",
   "metadata": {},
   "outputs": [],
   "source": [
    "tem=a1\n",
    "a1=b1\n",
    "b1=tem"
   ]
  },
  {
   "cell_type": "code",
   "execution_count": 288,
   "id": "1eda198f-4c41-4a58-8ea3-d932d62795c9",
   "metadata": {},
   "outputs": [
    {
     "name": "stdout",
     "output_type": "stream",
     "text": [
      "6\n",
      "5\n"
     ]
    }
   ],
   "source": [
    "print(a1)\n",
    "print(b1)"
   ]
  },
  {
   "cell_type": "code",
   "execution_count": null,
   "id": "74ea03d8-3ad5-42be-88d8-86d5fc1d3f59",
   "metadata": {},
   "outputs": [],
   "source": [
    "# Arithmetic operators "
   ]
  },
  {
   "cell_type": "code",
   "execution_count": 284,
   "id": "39e4cc32-cdd7-4f59-8600-35646e3e8f5c",
   "metadata": {},
   "outputs": [],
   "source": [
    "a=4\n",
    "b=3\n",
    "sum=a+b\n"
   ]
  },
  {
   "cell_type": "code",
   "execution_count": 285,
   "id": "f60ef1f0-c728-4f39-9f04-a8ccf0526f06",
   "metadata": {},
   "outputs": [
    {
     "name": "stdout",
     "output_type": "stream",
     "text": [
      "3\n",
      "4\n"
     ]
    }
   ],
   "source": [
    "a,b=b,a\n",
    "print(a)\n",
    "print(b)"
   ]
  },
  {
   "cell_type": "code",
   "execution_count": 291,
   "id": "d339eb6c-c253-46d5-beea-f8af561f569a",
   "metadata": {},
   "outputs": [
    {
     "data": {
      "text/plain": [
       "3"
      ]
     },
     "execution_count": 291,
     "metadata": {},
     "output_type": "execute_result"
    }
   ],
   "source": [
    "0b11"
   ]
  },
  {
   "cell_type": "code",
   "execution_count": 298,
   "id": "299ba8f1-012a-4e22-9a8e-7bbc04ea00fa",
   "metadata": {},
   "outputs": [
    {
     "data": {
      "text/plain": [
       "4"
      ]
     },
     "execution_count": 298,
     "metadata": {},
     "output_type": "execute_result"
    }
   ],
   "source": [
    "0b100"
   ]
  },
  {
   "cell_type": "code",
   "execution_count": 299,
   "id": "2a9e85ba-0daa-41c5-a356-e676d079eec9",
   "metadata": {},
   "outputs": [
    {
     "name": "stdout",
     "output_type": "stream",
     "text": [
      "3\n",
      "4\n"
     ]
    }
   ],
   "source": [
    "print(0b11)\n",
    "print(0b100)"
   ]
  },
  {
   "cell_type": "code",
   "execution_count": 300,
   "id": "8d9771a5-5f0c-435f-8838-3c1a24c92b64",
   "metadata": {},
   "outputs": [
    {
     "name": "stdout",
     "output_type": "stream",
     "text": [
      "4\n",
      "3\n"
     ]
    }
   ],
   "source": [
    "print(0b100)\n",
    "print(0b11)\n"
   ]
  },
  {
   "cell_type": "code",
   "execution_count": 301,
   "id": "4a2ea557-09d0-4b09-9ab2-642d4a50c870",
   "metadata": {},
   "outputs": [
    {
     "data": {
      "text/plain": [
       "[12, 23.53, True, '1+3j', [1, 2, 3]]"
      ]
     },
     "execution_count": 301,
     "metadata": {},
     "output_type": "execute_result"
    }
   ],
   "source": [
    "l1"
   ]
  },
  {
   "cell_type": "code",
   "execution_count": 302,
   "id": "ca4424d4-fce2-447a-ba5b-b047afcda432",
   "metadata": {},
   "outputs": [],
   "source": [
    "l1.append(20)"
   ]
  },
  {
   "cell_type": "code",
   "execution_count": 303,
   "id": "77590ee3-690a-415b-855e-b63925aea26b",
   "metadata": {},
   "outputs": [
    {
     "data": {
      "text/plain": [
       "[12, 23.53, True, '1+3j', [1, 2, 3], 20]"
      ]
     },
     "execution_count": 303,
     "metadata": {},
     "output_type": "execute_result"
    }
   ],
   "source": [
    "l1"
   ]
  },
  {
   "cell_type": "code",
   "execution_count": 305,
   "id": "228da398-df3e-4f31-b074-f6349db2f1d4",
   "metadata": {},
   "outputs": [
    {
     "data": {
      "text/plain": [
       "<function list.clear()>"
      ]
     },
     "execution_count": 305,
     "metadata": {},
     "output_type": "execute_result"
    }
   ],
   "source": [
    "l1.clear"
   ]
  },
  {
   "cell_type": "code",
   "execution_count": 306,
   "id": "0b2ef972-1789-45e3-8e34-8e1053851a0e",
   "metadata": {},
   "outputs": [
    {
     "data": {
      "text/plain": [
       "[12, 23.53, True, '1+3j', [1, 2, 3], 20]"
      ]
     },
     "execution_count": 306,
     "metadata": {},
     "output_type": "execute_result"
    }
   ],
   "source": [
    "l1"
   ]
  },
  {
   "cell_type": "code",
   "execution_count": 323,
   "id": "a41c5b0e-6d72-4d13-aeae-5b23576365fe",
   "metadata": {},
   "outputs": [
    {
     "data": {
      "text/plain": [
       "[12, 23.53, True, '1+3j', [1, 2, 3]]"
      ]
     },
     "execution_count": 323,
     "metadata": {},
     "output_type": "execute_result"
    }
   ],
   "source": [
    "l1.copy()\n"
   ]
  },
  {
   "cell_type": "markdown",
   "id": "29094587-5b4a-48de-9d42-292d2449738e",
   "metadata": {},
   "source": [
    "l=del l2\n"
   ]
  },
  {
   "cell_type": "code",
   "execution_count": 330,
   "id": "0f2cbfbd-217b-4a78-9076-8982329ce9e3",
   "metadata": {},
   "outputs": [
    {
     "data": {
      "text/plain": [
       "[23.53, True, '1+3j', [1, 2, 3]]"
      ]
     },
     "execution_count": 330,
     "metadata": {},
     "output_type": "execute_result"
    }
   ],
   "source": [
    "l1"
   ]
  },
  {
   "cell_type": "code",
   "execution_count": 333,
   "id": "cbd69dc5-d696-43ea-a372-3d2319c0bdb2",
   "metadata": {},
   "outputs": [
    {
     "data": {
      "text/plain": [
       "[2, 2, 23.53, True, '1+3j', [1, 2, 3]]"
      ]
     },
     "execution_count": 333,
     "metadata": {},
     "output_type": "execute_result"
    }
   ],
   "source": [
    "l1.insert(0,2)\n",
    "l1"
   ]
  },
  {
   "cell_type": "code",
   "execution_count": 334,
   "id": "ab971f00-417b-4606-b43b-4c5e2bf667c9",
   "metadata": {},
   "outputs": [
    {
     "data": {
      "text/plain": [
       "[2, 2, 23.53, True, '1+3j', [1, 2, 3], 50]"
      ]
     },
     "execution_count": 334,
     "metadata": {},
     "output_type": "execute_result"
    }
   ],
   "source": [
    "l1.insert(6,50)\n",
    "l1"
   ]
  },
  {
   "cell_type": "code",
   "execution_count": 335,
   "id": "94c77395-d92a-440a-ac0f-896351545433",
   "metadata": {},
   "outputs": [
    {
     "data": {
      "text/plain": [
       "[2, 2, 23.53, True, '1+3j', [1, 2, 3], 50]"
      ]
     },
     "execution_count": 335,
     "metadata": {},
     "output_type": "execute_result"
    }
   ],
   "source": [
    "l1"
   ]
  },
  {
   "cell_type": "code",
   "execution_count": 337,
   "id": "b65aa4d5-513f-43d5-9c54-506a1405ffd6",
   "metadata": {},
   "outputs": [],
   "source": [
    "l=l1.reverse()\n",
    "l"
   ]
  },
  {
   "cell_type": "code",
   "execution_count": 339,
   "id": "c7af943f-b631-47cd-b775-cd3e2317704d",
   "metadata": {},
   "outputs": [
    {
     "data": {
      "text/plain": [
       "[50, [1, 2, 3], '1+3j', True, 23.53, 2, 2]"
      ]
     },
     "execution_count": 339,
     "metadata": {},
     "output_type": "execute_result"
    }
   ],
   "source": [
    "l1"
   ]
  },
  {
   "cell_type": "code",
   "execution_count": 341,
   "id": "6029b5ee-3bc4-4119-8507-a7948383c700",
   "metadata": {},
   "outputs": [
    {
     "data": {
      "text/plain": [
       "[50, [1, 2, 3], '1+3j', True, 23.53]"
      ]
     },
     "execution_count": 341,
     "metadata": {},
     "output_type": "execute_result"
    }
   ],
   "source": [
    "l1.remove(2)\n",
    "l1"
   ]
  },
  {
   "cell_type": "code",
   "execution_count": null,
   "id": "58bd0208-a20e-444e-988a-3e7aa986f813",
   "metadata": {},
   "outputs": [],
   "source": []
  }
 ],
 "metadata": {
  "kernelspec": {
   "display_name": "Python 3 (ipykernel)",
   "language": "python",
   "name": "python3"
  },
  "language_info": {
   "codemirror_mode": {
    "name": "ipython",
    "version": 3
   },
   "file_extension": ".py",
   "mimetype": "text/x-python",
   "name": "python",
   "nbconvert_exporter": "python",
   "pygments_lexer": "ipython3",
   "version": "3.12.7"
  }
 },
 "nbformat": 4,
 "nbformat_minor": 5
}
