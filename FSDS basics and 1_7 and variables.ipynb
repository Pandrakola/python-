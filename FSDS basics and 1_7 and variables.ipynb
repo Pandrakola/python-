{
 "cells": [
  {
   "cell_type": "code",
   "execution_count": 94,
   "id": "c3e28b9e-6c06-4ed0-ad4e-283682f09085",
   "metadata": {},
   "outputs": [],
   "source": [
    "#1st Basic python"
   ]
  },
  {
   "cell_type": "code",
   "execution_count": 95,
   "id": "cbda3e0f-1a39-463a-9a63-350202a05b3e",
   "metadata": {},
   "outputs": [
    {
     "data": {
      "text/plain": [
       "14"
      ]
     },
     "execution_count": 95,
     "metadata": {},
     "output_type": "execute_result"
    }
   ],
   "source": [
    "10+4\n"
   ]
  },
  {
   "cell_type": "code",
   "execution_count": 9,
   "id": "782e7657-a854-41b0-9401-00e19ac05956",
   "metadata": {},
   "outputs": [
    {
     "data": {
      "text/plain": [
       "-29"
      ]
     },
     "execution_count": 9,
     "metadata": {},
     "output_type": "execute_result"
    }
   ],
   "source": [
    "24-53\n"
   ]
  },
  {
   "cell_type": "code",
   "execution_count": 10,
   "id": "45d121e9-cbd2-45ca-8e56-9441409df4b9",
   "metadata": {},
   "outputs": [
    {
     "data": {
      "text/plain": [
       "15"
      ]
     },
     "execution_count": 10,
     "metadata": {},
     "output_type": "execute_result"
    }
   ],
   "source": [
    "3*5"
   ]
  },
  {
   "cell_type": "code",
   "execution_count": 11,
   "id": "1f9d6c01-d879-4afa-8bf1-aad3c6b1268f",
   "metadata": {},
   "outputs": [
    {
     "data": {
      "text/plain": [
       "10"
      ]
     },
     "execution_count": 11,
     "metadata": {},
     "output_type": "execute_result"
    }
   ],
   "source": [
    "2*5"
   ]
  },
  {
   "cell_type": "code",
   "execution_count": 12,
   "id": "3c4f0945-a43f-4edd-bc25-059f9ba05daa",
   "metadata": {},
   "outputs": [
    {
     "data": {
      "text/plain": [
       "16"
      ]
     },
     "execution_count": 12,
     "metadata": {},
     "output_type": "execute_result"
    }
   ],
   "source": [
    "2**4"
   ]
  },
  {
   "cell_type": "code",
   "execution_count": 13,
   "id": "3c37527f-4f97-4523-9a8e-df54d8da1fac",
   "metadata": {},
   "outputs": [
    {
     "data": {
      "text/plain": [
       "16"
      ]
     },
     "execution_count": 13,
     "metadata": {},
     "output_type": "execute_result"
    }
   ],
   "source": [
    "4**2"
   ]
  },
  {
   "cell_type": "code",
   "execution_count": 14,
   "id": "829e219f-9cb3-4175-9fc4-964eafcfeff6",
   "metadata": {},
   "outputs": [
    {
     "data": {
      "text/plain": [
       "3.0"
      ]
     },
     "execution_count": 14,
     "metadata": {},
     "output_type": "execute_result"
    }
   ],
   "source": [
    "12/4"
   ]
  },
  {
   "cell_type": "code",
   "execution_count": 15,
   "id": "86f93f46-e6f4-4105-9c9f-690518671788",
   "metadata": {},
   "outputs": [
    {
     "data": {
      "text/plain": [
       "5"
      ]
     },
     "execution_count": 15,
     "metadata": {},
     "output_type": "execute_result"
    }
   ],
   "source": [
    "23//4"
   ]
  },
  {
   "cell_type": "code",
   "execution_count": 16,
   "id": "70cfb36a-db18-4a9a-9e21-0d402196eaa4",
   "metadata": {},
   "outputs": [
    {
     "data": {
      "text/plain": [
       "45"
      ]
     },
     "execution_count": 16,
     "metadata": {},
     "output_type": "execute_result"
    }
   ],
   "source": [
    "# BODMAS ( BRACKET, ORDER, DIVISION, MULTIPLICATION, ADDITION, SUBTRACTION)\n",
    "(12+3)*3"
   ]
  },
  {
   "cell_type": "code",
   "execution_count": 17,
   "id": "ecf28a84-b895-4f06-938e-e7ea0d14230d",
   "metadata": {},
   "outputs": [
    {
     "data": {
      "text/plain": [
       "21"
      ]
     },
     "execution_count": 17,
     "metadata": {},
     "output_type": "execute_result"
    }
   ],
   "source": [
    "12+3*3"
   ]
  },
  {
   "cell_type": "code",
   "execution_count": 19,
   "id": "cc068210-33b5-4fa8-b1a9-d2f1a8e3a1ca",
   "metadata": {},
   "outputs": [
    {
     "data": {
      "text/plain": [
       "24"
      ]
     },
     "execution_count": 19,
     "metadata": {},
     "output_type": "execute_result"
    }
   ],
   "source": [
    "__+3"
   ]
  },
  {
   "cell_type": "code",
   "execution_count": 21,
   "id": "ca642561-44aa-4501-9a8e-7c1113fcf83c",
   "metadata": {},
   "outputs": [
    {
     "data": {
      "text/plain": [
       "27"
      ]
     },
     "execution_count": 21,
     "metadata": {},
     "output_type": "execute_result"
    }
   ],
   "source": [
    "__+3"
   ]
  },
  {
   "cell_type": "code",
   "execution_count": null,
   "id": "344ced7b-b99f-4d15-b9b7-c2f3e18e57bf",
   "metadata": {},
   "outputs": [],
   "source": []
  },
  {
   "cell_type": "code",
   "execution_count": 23,
   "id": "84bf2a75-8c0a-424d-8c46-39d10ee58a3e",
   "metadata": {},
   "outputs": [
    {
     "name": "stdout",
     "output_type": "stream",
     "text": [
      "25\n"
     ]
    }
   ],
   "source": [
    "#Variable document\n",
    "age=25  #age variable,25 is value\n",
    "age\n",
    "print(age)"
   ]
  },
  {
   "cell_type": "code",
   "execution_count": 29,
   "id": "08867fd3-ed29-4511-b169-8172611d1265",
   "metadata": {},
   "outputs": [
    {
     "ename": "SyntaxError",
     "evalue": "invalid syntax (2430033369.py, line 1)",
     "output_type": "error",
     "traceback": [
      "\u001b[1;36m  Cell \u001b[1;32mIn[29], line 1\u001b[1;36m\u001b[0m\n\u001b[1;33m    student=40 'members'\u001b[0m\n\u001b[1;37m               ^\u001b[0m\n\u001b[1;31mSyntaxError\u001b[0m\u001b[1;31m:\u001b[0m invalid syntax\n"
     ]
    }
   ],
   "source": [
    "student=40 'members'\n",
    "print(student)"
   ]
  },
  {
   "cell_type": "code",
   "execution_count": 33,
   "id": "f2f59d6a-8464-4b6b-8339-741b145e676e",
   "metadata": {},
   "outputs": [
    {
     "name": "stdout",
     "output_type": "stream",
     "text": [
      "12\n"
     ]
    }
   ],
   "source": [
    "branches=12\n",
    "print(branches)\n"
   ]
  },
  {
   "cell_type": "code",
   "execution_count": 62,
   "id": "5da03fd0-f433-4e77-b4dc-ddc949a90477",
   "metadata": {},
   "outputs": [
    {
     "name": "stdout",
     "output_type": "stream",
     "text": [
      "12\n",
      "50\n"
     ]
    }
   ],
   "source": [
    "a=5\n",
    "b=7  #useing variable in expression\n",
    "c=a+b\n",
    "print(c)\n",
    "\n",
    "c=50\n",
    "print(c)"
   ]
  },
  {
   "cell_type": "code",
   "execution_count": 54,
   "id": "1eeac301-2aa0-4541-bf0d-2228f0dd7773",
   "metadata": {},
   "outputs": [
    {
     "name": "stdout",
     "output_type": "stream",
     "text": [
      "20\n",
      "100\n"
     ]
    }
   ],
   "source": [
    "score=20  #initial value\n",
    "print(score)\n",
    "score=100  #changing the valuescore\n",
    "print(score)\n"
   ]
  },
  {
   "cell_type": "code",
   "execution_count": 30,
   "id": "f0ba123c-bd96-41c1-897a-9f10fe281b4c",
   "metadata": {},
   "outputs": [
    {
     "name": "stdout",
     "output_type": "stream",
     "text": [
      "abc\n"
     ]
    }
   ],
   "source": [
    "name=\"abc\"  #string variable\n",
    "print(name)"
   ]
  },
  {
   "cell_type": "code",
   "execution_count": 50,
   "id": "6762ce86-2d16-4929-b740-5da5603a67ba",
   "metadata": {},
   "outputs": [
    {
     "name": "stdout",
     "output_type": "stream",
     "text": [
      "34243\n"
     ]
    }
   ],
   "source": [
    "num='34243'\n",
    "print(num)"
   ]
  },
  {
   "cell_type": "code",
   "execution_count": 52,
   "id": "994eb81c-8efe-4029-9c71-00a0b029837c",
   "metadata": {},
   "outputs": [
    {
     "name": "stdout",
     "output_type": "stream",
     "text": [
      "science\n"
     ]
    }
   ],
   "source": [
    "Class='science'\n",
    "print(Class)"
   ]
  },
  {
   "cell_type": "code",
   "execution_count": 59,
   "id": "7d979f1b-273e-4f33-bbf8-7d7cb20397f5",
   "metadata": {},
   "outputs": [
    {
     "name": "stdout",
     "output_type": "stream",
     "text": [
      "RameshBabu\n",
      "Ramesh Babu\n"
     ]
    }
   ],
   "source": [
    "#concatenation string\n",
    "First_Name=\"Ramesh\"\n",
    "Last_Name='Babu'\n",
    "Full_Name=First_Name+Last_Name\n",
    "\n",
    "print(Full_Name)\n",
    "Full_Name=First_Name+\" \"+Last_Name\n",
    "print(Full_Name)"
   ]
  },
  {
   "cell_type": "code",
   "execution_count": 48,
   "id": "6fe2da95-3aed-4a5a-82ab-763b179737b5",
   "metadata": {},
   "outputs": [
    {
     "name": "stdout",
     "output_type": "stream",
     "text": [
      "321.42\n"
     ]
    }
   ],
   "source": [
    "#float variable\n",
    "price=321.42 \n",
    "print(price)"
   ]
  },
  {
   "cell_type": "code",
   "execution_count": 64,
   "id": "c603dbfc-491b-402f-82c0-85947823b6a9",
   "metadata": {},
   "outputs": [
    {
     "name": "stdout",
     "output_type": "stream",
     "text": [
      "182\n"
     ]
    }
   ],
   "source": [
    "length=13\n",
    "width=14\n",
    "area = length*width\n",
    "print(area)"
   ]
  },
  {
   "cell_type": "code",
   "execution_count": 69,
   "id": "cb260ffb-a39e-4d87-8358-4cf11ee6325b",
   "metadata": {},
   "outputs": [
    {
     "name": "stdout",
     "output_type": "stream",
     "text": [
      "3.14\n",
      "3.12\n"
     ]
    }
   ],
   "source": [
    "pi=3.14\n",
    "print(pi)\n",
    "pi=3.12  #reassigning value\n",
    "print(pi)\n",
    "\n"
   ]
  },
  {
   "cell_type": "code",
   "execution_count": 70,
   "id": "cbace284-2e44-457e-9f52-8526455e6c02",
   "metadata": {},
   "outputs": [
    {
     "data": {
      "text/plain": [
       "3.12"
      ]
     },
     "execution_count": 70,
     "metadata": {},
     "output_type": "execute_result"
    }
   ],
   "source": [
    "pi"
   ]
  },
  {
   "cell_type": "code",
   "execution_count": 61,
   "id": "4dfb9591-8ce1-4ac8-93c0-4449288e8ce6",
   "metadata": {},
   "outputs": [
    {
     "name": "stdout",
     "output_type": "stream",
     "text": [
      "True\n"
     ]
    },
    {
     "ename": "NameError",
     "evalue": "name 'true' is not defined",
     "output_type": "error",
     "traceback": [
      "\u001b[1;31m---------------------------------------------------------------------------\u001b[0m",
      "\u001b[1;31mNameError\u001b[0m                                 Traceback (most recent call last)",
      "Cell \u001b[1;32mIn[61], line 4\u001b[0m\n\u001b[0;32m      2\u001b[0m is_active\u001b[38;5;241m=\u001b[39m\u001b[38;5;28;01mTrue\u001b[39;00m\n\u001b[0;32m      3\u001b[0m \u001b[38;5;28mprint\u001b[39m(is_active)\n\u001b[1;32m----> 4\u001b[0m is_active\u001b[38;5;241m=\u001b[39mtrue\n\u001b[0;32m      5\u001b[0m \u001b[38;5;28mprint\u001b[39m(is_active)\n",
      "\u001b[1;31mNameError\u001b[0m: name 'true' is not defined"
     ]
    }
   ],
   "source": [
    "#Boolean Values\n",
    "is_active=True\n",
    "print(is_active)\n",
    "\n",
    "is_active=true\n",
    "print(is_active)"
   ]
  },
  {
   "cell_type": "code",
   "execution_count": null,
   "id": "52bdb0ab-82ed-4fed-8c11-58f8fa9ba36b",
   "metadata": {},
   "outputs": [],
   "source": []
  },
  {
   "cell_type": "code",
   "execution_count": 71,
   "id": "ae1898f7-b1ab-4a47-ab69-e065daeee7e8",
   "metadata": {},
   "outputs": [
    {
     "data": {
      "text/plain": [
       "'3.12.7 | packaged by Anaconda, Inc. | (main, Oct  4 2024, 13:17:27) [MSC v.1929 64 bit (AMD64)]'"
      ]
     },
     "execution_count": 71,
     "metadata": {},
     "output_type": "execute_result"
    }
   ],
   "source": [
    "import sys\n",
    "sys.version"
   ]
  },
  {
   "cell_type": "code",
   "execution_count": 88,
   "id": "85fe232e-8ba3-4427-823c-2c6b21bc9382",
   "metadata": {},
   "outputs": [
    {
     "name": "stdout",
     "output_type": "stream",
     "text": [
      "['False', 'None', 'True', 'and', 'as', 'assert', 'async', 'await', 'break', 'class', 'continue', 'def', 'del', 'elif', 'else', 'except', 'finally', 'for', 'from', 'global', 'if', 'import', 'in', 'is', 'lambda', 'nonlocal', 'not', 'or', 'pass', 'raise', 'return', 'try', 'while', 'with', 'yield']\n",
      "35\n"
     ]
    }
   ],
   "source": [
    "import keyword\n",
    "print(keyword.kwlist)\n",
    "#len(keyword.kwlist)\n",
    "\n",
    "print(len(keyword.kwlist))"
   ]
  },
  {
   "cell_type": "code",
   "execution_count": 89,
   "id": "a77d0aeb-63e3-4f4e-85e4-311fa0b40d82",
   "metadata": {},
   "outputs": [
    {
     "data": {
      "text/plain": [
       "5"
      ]
     },
     "execution_count": 89,
     "metadata": {},
     "output_type": "execute_result"
    }
   ],
   "source": [
    "#VARIABLES\n",
    "a=5\n",
    "a"
   ]
  },
  {
   "cell_type": "code",
   "execution_count": 90,
   "id": "a06870d6-b6ab-4212-82e0-846d3662b126",
   "metadata": {},
   "outputs": [
    {
     "data": {
      "text/plain": [
       "int"
      ]
     },
     "execution_count": 90,
     "metadata": {},
     "output_type": "execute_result"
    }
   ],
   "source": [
    "type(a)"
   ]
  },
  {
   "cell_type": "code",
   "execution_count": 91,
   "id": "34966fa7-4e85-4196-9144-27c77aacb197",
   "metadata": {},
   "outputs": [
    {
     "data": {
      "text/plain": [
       "140720607210040"
      ]
     },
     "execution_count": 91,
     "metadata": {},
     "output_type": "execute_result"
    }
   ],
   "source": [
    "id(a)   #address of id"
   ]
  },
  {
   "cell_type": "code",
   "execution_count": 92,
   "id": "da1aae41-7f0a-4677-962a-4fc53b2b34e1",
   "metadata": {},
   "outputs": [
    {
     "data": {
      "text/plain": [
       "5.5"
      ]
     },
     "execution_count": 92,
     "metadata": {},
     "output_type": "execute_result"
    }
   ],
   "source": [
    "b=5.5\n",
    "b"
   ]
  },
  {
   "cell_type": "code",
   "execution_count": 93,
   "id": "b844ced7-9be3-4091-bc00-634a0884dc80",
   "metadata": {},
   "outputs": [
    {
     "data": {
      "text/plain": [
       "float"
      ]
     },
     "execution_count": 93,
     "metadata": {},
     "output_type": "execute_result"
    }
   ],
   "source": [
    "type(b)"
   ]
  },
  {
   "cell_type": "code",
   "execution_count": null,
   "id": "7f0c4b8f-2f2d-43a1-af2c-693241469141",
   "metadata": {},
   "outputs": [],
   "source": []
  },
  {
   "cell_type": "code",
   "execution_count": 96,
   "id": "b5c98bf6-661d-4009-aa32-f883039a74a1",
   "metadata": {},
   "outputs": [
    {
     "data": {
      "text/plain": [
       "34"
      ]
     },
     "execution_count": 96,
     "metadata": {},
     "output_type": "execute_result"
    }
   ],
   "source": [
    "v=34\n",
    "v"
   ]
  },
  {
   "cell_type": "code",
   "execution_count": 97,
   "id": "0823b596-5f3e-42cd-a393-39ef7edb067a",
   "metadata": {},
   "outputs": [
    {
     "ename": "SyntaxError",
     "evalue": "invalid decimal literal (1217617884.py, line 1)",
     "output_type": "error",
     "traceback": [
      "\u001b[1;36m  Cell \u001b[1;32mIn[97], line 1\u001b[1;36m\u001b[0m\n\u001b[1;33m    1v=32\u001b[0m\n\u001b[1;37m    ^\u001b[0m\n\u001b[1;31mSyntaxError\u001b[0m\u001b[1;31m:\u001b[0m invalid decimal literal\n"
     ]
    }
   ],
   "source": [
    "1v=32\n"
   ]
  },
  {
   "cell_type": "code",
   "execution_count": 98,
   "id": "e9e63f4e-ba9c-4159-8197-1f0dc735bc38",
   "metadata": {},
   "outputs": [
    {
     "data": {
      "text/plain": [
       "42"
      ]
     },
     "execution_count": 98,
     "metadata": {},
     "output_type": "execute_result"
    }
   ],
   "source": [
    "v1=42\n",
    "v1\n"
   ]
  },
  {
   "cell_type": "code",
   "execution_count": 100,
   "id": "07e99b71-9d03-4785-a632-379dac7bc5b5",
   "metadata": {},
   "outputs": [
    {
     "ename": "SyntaxError",
     "evalue": "invalid syntax (320197349.py, line 1)",
     "output_type": "error",
     "traceback": [
      "\u001b[1;36m  Cell \u001b[1;32mIn[100], line 1\u001b[1;36m\u001b[0m\n\u001b[1;33m    def=47\u001b[0m\n\u001b[1;37m       ^\u001b[0m\n\u001b[1;31mSyntaxError\u001b[0m\u001b[1;31m:\u001b[0m invalid syntax\n"
     ]
    }
   ],
   "source": [
    "def=47\n",
    "def"
   ]
  },
  {
   "cell_type": "code",
   "execution_count": 101,
   "id": "e2912c9e-e01a-4016-ad24-3d9884317fd2",
   "metadata": {},
   "outputs": [
    {
     "data": {
      "text/plain": [
       "47"
      ]
     },
     "execution_count": 101,
     "metadata": {},
     "output_type": "execute_result"
    }
   ],
   "source": [
    "Def=47\n",
    "Def"
   ]
  },
  {
   "cell_type": "code",
   "execution_count": 193,
   "id": "daad24cd-913b-4575-b15d-60dccf7ca703",
   "metadata": {},
   "outputs": [
    {
     "data": {
      "text/plain": [
       "'Asda'"
      ]
     },
     "execution_count": 193,
     "metadata": {},
     "output_type": "execute_result"
    }
   ],
   "source": [
    "nit='Asda'\n",
    "nit"
   ]
  },
  {
   "cell_type": "code",
   "execution_count": 194,
   "id": "17371065-ccb4-44d0-a241-eee907e3955f",
   "metadata": {},
   "outputs": [
    {
     "name": "stdout",
     "output_type": "stream",
     "text": [
      "AsdaAsdaAsdaAsdaAsda\n"
     ]
    },
    {
     "data": {
      "text/plain": [
       "'Asda'"
      ]
     },
     "execution_count": 194,
     "metadata": {},
     "output_type": "execute_result"
    }
   ],
   "source": [
    "NIT=23\n",
    "print(nit*5)\n",
    "nit"
   ]
  },
  {
   "cell_type": "code",
   "execution_count": 195,
   "id": "72606c5a-823f-4a8a-bee0-2872767e758e",
   "metadata": {},
   "outputs": [
    {
     "name": "stdout",
     "output_type": "stream",
     "text": [
      "Asda Asda Asda Asda Asda \n"
     ]
    },
    {
     "data": {
      "text/plain": [
       "'fdhsdfshsg'"
      ]
     },
     "execution_count": 195,
     "metadata": {},
     "output_type": "execute_result"
    }
   ],
   "source": [
    "nit='Asda '\n",
    "print(nit*5)\n",
    "NIT='fdhsdfshsg'\n",
    "NIT"
   ]
  },
  {
   "cell_type": "code",
   "execution_count": 121,
   "id": "f87cf3c2-ea62-432b-906e-4ae8b5a70993",
   "metadata": {},
   "outputs": [
    {
     "data": {
      "text/plain": [
       "34"
      ]
     },
     "execution_count": 121,
     "metadata": {},
     "output_type": "execute_result"
    }
   ],
   "source": [
    "h_=34\n",
    "h_"
   ]
  },
  {
   "cell_type": "code",
   "execution_count": 127,
   "id": "671292d6-fc82-49a1-ad59-1007f205fd2b",
   "metadata": {},
   "outputs": [
    {
     "name": "stdout",
     "output_type": "stream",
     "text": [
      "34\n",
      "32\n",
      "42\n"
     ]
    },
    {
     "data": {
      "text/plain": [
       "42"
      ]
     },
     "execution_count": 127,
     "metadata": {},
     "output_type": "execute_result"
    }
   ],
   "source": [
    "A ,B,C=34,32,42   \n",
    "\n",
    "print(A)\n",
    "print(B)\n",
    "print(C)\n",
    "A\n",
    "B\n",
    "C"
   ]
  },
  {
   "cell_type": "code",
   "execution_count": 131,
   "id": "a8f399dc-e948-4967-adfe-d9dc1d8ff16b",
   "metadata": {},
   "outputs": [
    {
     "name": "stdout",
     "output_type": "stream",
     "text": [
      "34 32 42\n"
     ]
    }
   ],
   "source": [
    "print(A,B,C)"
   ]
  },
  {
   "cell_type": "code",
   "execution_count": 132,
   "id": "8beb6e34-36d4-4660-9518-ead57f7cd6d9",
   "metadata": {},
   "outputs": [
    {
     "data": {
      "text/plain": [
       "78"
      ]
     },
     "execution_count": 132,
     "metadata": {},
     "output_type": "execute_result"
    }
   ],
   "source": [
    "_cell=78\n",
    "_cell"
   ]
  },
  {
   "cell_type": "code",
   "execution_count": 133,
   "id": "08cd6efd-5400-47f3-b922-f5a5cf12b72d",
   "metadata": {},
   "outputs": [
    {
     "ename": "TypeError",
     "evalue": "cannot unpack non-iterable int object",
     "output_type": "error",
     "traceback": [
      "\u001b[1;31m---------------------------------------------------------------------------\u001b[0m",
      "\u001b[1;31mTypeError\u001b[0m                                 Traceback (most recent call last)",
      "Cell \u001b[1;32mIn[133], line 1\u001b[0m\n\u001b[1;32m----> 1\u001b[0m a,b\u001b[38;5;241m=\u001b[39m\u001b[38;5;241m4\u001b[39m\n",
      "\u001b[1;31mTypeError\u001b[0m: cannot unpack non-iterable int object"
     ]
    }
   ],
   "source": [
    "a,b=4\n"
   ]
  },
  {
   "cell_type": "code",
   "execution_count": 134,
   "id": "30287224-e2d6-45ad-96c4-72aeaaf58201",
   "metadata": {},
   "outputs": [
    {
     "ename": "SyntaxError",
     "evalue": "invalid syntax (1877927841.py, line 1)",
     "output_type": "error",
     "traceback": [
      "\u001b[1;36m  Cell \u001b[1;32mIn[134], line 1\u001b[1;36m\u001b[0m\n\u001b[1;33m    if=34\u001b[0m\n\u001b[1;37m      ^\u001b[0m\n\u001b[1;31mSyntaxError\u001b[0m\u001b[1;31m:\u001b[0m invalid syntax\n"
     ]
    }
   ],
   "source": [
    "if=34\n",
    "if"
   ]
  },
  {
   "cell_type": "code",
   "execution_count": 135,
   "id": "d5a966c1-02e5-44b1-ab73-5a45b40b39eb",
   "metadata": {},
   "outputs": [
    {
     "data": {
      "text/plain": [
       "34"
      ]
     },
     "execution_count": 135,
     "metadata": {},
     "output_type": "execute_result"
    }
   ],
   "source": [
    "IF=34\n",
    "IF"
   ]
  },
  {
   "cell_type": "code",
   "execution_count": 136,
   "id": "e54440d1-1dc0-4710-8cbc-df291405cf2e",
   "metadata": {},
   "outputs": [
    {
     "data": {
      "text/plain": [
       "3.0"
      ]
     },
     "execution_count": 136,
     "metadata": {},
     "output_type": "execute_result"
    }
   ],
   "source": [
    "f1=3e0\n",
    "f1"
   ]
  },
  {
   "cell_type": "code",
   "execution_count": 139,
   "id": "35a2e447-9809-4cd1-b194-526f95faf700",
   "metadata": {},
   "outputs": [
    {
     "name": "stdout",
     "output_type": "stream",
     "text": [
      "30.0\n",
      "5000.0\n"
     ]
    },
    {
     "data": {
      "text/plain": [
       "400.0"
      ]
     },
     "execution_count": 139,
     "metadata": {},
     "output_type": "execute_result"
    }
   ],
   "source": [
    "f2=3e1  #################\n",
    "print(f2)\n",
    "f3=5e3\n",
    "print(f3)\n",
    "f4=4e2\n",
    "f4"
   ]
  },
  {
   "cell_type": "code",
   "execution_count": 140,
   "id": "da3215ff-d292-4920-94a3-4585fe757114",
   "metadata": {},
   "outputs": [
    {
     "data": {
      "text/plain": [
       "1"
      ]
     },
     "execution_count": 140,
     "metadata": {},
     "output_type": "execute_result"
    }
   ],
   "source": [
    "\n",
    "True+False"
   ]
  },
  {
   "cell_type": "code",
   "execution_count": 141,
   "id": "e1873593-3cc2-46ab-99a6-ee1260e99378",
   "metadata": {},
   "outputs": [
    {
     "data": {
      "text/plain": [
       "1"
      ]
     },
     "execution_count": 141,
     "metadata": {},
     "output_type": "execute_result"
    }
   ],
   "source": [
    "True+False*True*False"
   ]
  },
  {
   "cell_type": "code",
   "execution_count": 142,
   "id": "b4f4d9cd-3c9a-4b78-ad4f-8c8621521726",
   "metadata": {},
   "outputs": [
    {
     "data": {
      "text/plain": [
       "1"
      ]
     },
     "execution_count": 142,
     "metadata": {},
     "output_type": "execute_result"
    }
   ],
   "source": [
    "True+False-True*False"
   ]
  },
  {
   "cell_type": "code",
   "execution_count": 143,
   "id": "6a6541e0-cdba-4e16-9733-1000b03f068e",
   "metadata": {},
   "outputs": [
    {
     "data": {
      "text/plain": [
       "1"
      ]
     },
     "execution_count": 143,
     "metadata": {},
     "output_type": "execute_result"
    }
   ],
   "source": [
    "True + (False * True) - False "
   ]
  },
  {
   "cell_type": "code",
   "execution_count": 144,
   "id": "e21fa0d0-c4e6-439c-82c1-06f37b2a7594",
   "metadata": {},
   "outputs": [
    {
     "data": {
      "text/plain": [
       "0"
      ]
     },
     "execution_count": 144,
     "metadata": {},
     "output_type": "execute_result"
    }
   ],
   "source": [
    "True + (False * True) - True \n"
   ]
  },
  {
   "cell_type": "code",
   "execution_count": 148,
   "id": "949442d7-3e65-4bea-aefe-852c45a19248",
   "metadata": {},
   "outputs": [
    {
     "name": "stdout",
     "output_type": "stream",
     "text": [
      "the sum of 23 32 is 55\n",
      "55\n"
     ]
    }
   ],
   "source": [
    "num1=23\n",
    "num2=32\n",
    "sum=num1+num2\n",
    "print('the sum of',num1,num2,'is',sum)\n",
    "print(sum)"
   ]
  },
  {
   "cell_type": "code",
   "execution_count": 149,
   "id": "63b9ed9c-34f3-4623-9f2d-a3730d949cd9",
   "metadata": {},
   "outputs": [],
   "source": [
    "#ComplexDATA"
   ]
  },
  {
   "cell_type": "code",
   "execution_count": 178,
   "id": "4ca7a71b-0001-4f34-ac6a-4a3751b7a255",
   "metadata": {},
   "outputs": [
    {
     "name": "stdout",
     "output_type": "stream",
     "text": [
      "(10+28j)\n",
      "(40.5+41j)\n",
      "<class 'complex'>\n",
      "32\n",
      "40.5\n"
     ]
    },
    {
     "ename": "AttributeError",
     "evalue": "'complex' object has no attribute 'imaginary'",
     "output_type": "error",
     "traceback": [
      "\u001b[1;31m---------------------------------------------------------------------------\u001b[0m",
      "\u001b[1;31mAttributeError\u001b[0m                            Traceback (most recent call last)",
      "Cell \u001b[1;32mIn[178], line 9\u001b[0m\n\u001b[0;32m      7\u001b[0m \u001b[38;5;28mprint\u001b[39m(sys\u001b[38;5;241m.\u001b[39mgetsizeof(c))\n\u001b[0;32m      8\u001b[0m \u001b[38;5;28mprint\u001b[39m(c\u001b[38;5;241m.\u001b[39mreal)\n\u001b[1;32m----> 9\u001b[0m c\u001b[38;5;241m.\u001b[39mimaginary\n",
      "\u001b[1;31mAttributeError\u001b[0m: 'complex' object has no attribute 'imaginary'"
     ]
    }
   ],
   "source": [
    "a=10+28j\n",
    "print(a)\n",
    "b=30.5+13j\n",
    "c=a+b\n",
    "print(c)\n",
    "print(type(c))\n",
    "print(sys.getsizeof(c))\n",
    "print(c.real)\n",
    "c.imaginary\n"
   ]
  },
  {
   "cell_type": "code",
   "execution_count": 179,
   "id": "38b4f9e4-8c19-4b1b-8bfc-5876ff0c9e33",
   "metadata": {},
   "outputs": [
    {
     "name": "stdout",
     "output_type": "stream",
     "text": [
      "(40.5+41j) is complex True\n"
     ]
    },
    {
     "data": {
      "text/plain": [
       "41.0"
      ]
     },
     "execution_count": 179,
     "metadata": {},
     "output_type": "execute_result"
    }
   ],
   "source": [
    "print(c,'is complex',isinstance(c,complex))\n",
    "c.imag\n"
   ]
  },
  {
   "cell_type": "code",
   "execution_count": 167,
   "id": "e2d70300-ff82-4d5e-9ab1-2149bc2cb793",
   "metadata": {},
   "outputs": [
    {
     "data": {
      "text/plain": [
       "(42, int, '0x7ffc11ce2ed8', 140720607211224)"
      ]
     },
     "execution_count": 167,
     "metadata": {},
     "output_type": "execute_result"
    }
   ],
   "source": [
    "p=42\n",
    "q=32.5\n",
    "r=q\n",
    "p,type(p),hex(id(p)),id(p)"
   ]
  },
  {
   "cell_type": "code",
   "execution_count": 168,
   "id": "1ed95722-8ad2-4909-8400-53dfb6a71409",
   "metadata": {},
   "outputs": [
    {
     "data": {
      "text/plain": [
       "(32.5, float, '0x21038f32330', 2268698190640)"
      ]
     },
     "execution_count": 168,
     "metadata": {},
     "output_type": "execute_result"
    }
   ],
   "source": [
    "r,type(r),hex(id(r)),id(r)"
   ]
  },
  {
   "cell_type": "code",
   "execution_count": 184,
   "id": "7d9b8ced-55ee-4f52-b598-6a1c18f99e33",
   "metadata": {},
   "outputs": [
    {
     "name": "stdout",
     "output_type": "stream",
     "text": [
      "28\n"
     ]
    },
    {
     "data": {
      "text/plain": [
       "32"
      ]
     },
     "execution_count": 184,
     "metadata": {},
     "output_type": "execute_result"
    }
   ],
   "source": [
    "print(sys.getsizeof(int()))\n",
    "\n",
    "sys.getsizeof(complex())"
   ]
  },
  {
   "cell_type": "code",
   "execution_count": 183,
   "id": "0a9b5d26-ea2f-4155-b368-fa1ff4e7ac52",
   "metadata": {},
   "outputs": [
    {
     "data": {
      "text/plain": [
       "24"
      ]
     },
     "execution_count": 183,
     "metadata": {},
     "output_type": "execute_result"
    }
   ],
   "source": [
    "sys.getsizeof(float())"
   ]
  },
  {
   "cell_type": "code",
   "execution_count": 186,
   "id": "bf537388-01ee-4d3d-ae48-9028de754096",
   "metadata": {},
   "outputs": [
    {
     "name": "stdout",
     "output_type": "stream",
     "text": [
      "<class 'bool'>\n"
     ]
    }
   ],
   "source": [
    "bool1=True\n",
    "bool2=False\n",
    "print(type(bool1))"
   ]
  },
  {
   "cell_type": "code",
   "execution_count": 189,
   "id": "0b119832-6fe9-4de7-8925-195b64388889",
   "metadata": {},
   "outputs": [
    {
     "name": "stdout",
     "output_type": "stream",
     "text": [
      "False\n"
     ]
    },
    {
     "data": {
      "text/plain": [
       "True"
      ]
     },
     "execution_count": 189,
     "metadata": {},
     "output_type": "execute_result"
    }
   ],
   "source": [
    "print(bool(0))\n",
    "bool(1)"
   ]
  },
  {
   "cell_type": "code",
   "execution_count": 196,
   "id": "27c70236-12bf-48cd-9d23-130c3dfbe34c",
   "metadata": {},
   "outputs": [],
   "source": [
    "#STRING & STRING SLICING"
   ]
  },
  {
   "cell_type": "code",
   "execution_count": 206,
   "id": "1d53e2f4-98e7-431d-a83a-e4061447a299",
   "metadata": {},
   "outputs": [
    {
     "name": "stdout",
     "output_type": "stream",
     "text": [
      "h\n",
      "n\n",
      "n\n",
      "hello\n",
      " python\n",
      "y\n",
      "hello p\n"
     ]
    }
   ],
   "source": [
    "str=\"hello python\"\n",
    "print(str[0])\n",
    "print(str[len(str)-1])\n",
    "print(str[-1])\n",
    "print(str[0:5])\n",
    "print(str[5:12])\n",
    "print(str[-5])\n",
    "print(str[0:-5])\n"
   ]
  },
  {
   "cell_type": "code",
   "execution_count": null,
   "id": "8218726a-9d6d-4463-a37c-30a962c36e2e",
   "metadata": {},
   "outputs": [],
   "source": []
  }
 ],
 "metadata": {
  "kernelspec": {
   "display_name": "Python 3 (ipykernel)",
   "language": "python",
   "name": "python3"
  },
  "language_info": {
   "codemirror_mode": {
    "name": "ipython",
    "version": 3
   },
   "file_extension": ".py",
   "mimetype": "text/x-python",
   "name": "python",
   "nbconvert_exporter": "python",
   "pygments_lexer": "ipython3",
   "version": "3.12.7"
  }
 },
 "nbformat": 4,
 "nbformat_minor": 5
}
